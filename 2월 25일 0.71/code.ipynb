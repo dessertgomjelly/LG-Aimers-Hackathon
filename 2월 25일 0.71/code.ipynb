{
 "cells": [
  {
   "cell_type": "code",
   "execution_count": 1,
   "id": "16eb8b18-4b26-4ce1-b4b9-bfa3fc9aca3e",
   "metadata": {},
   "outputs": [],
   "source": [
    "def plot_top_conversion_rates(df, category_col, target_col, top_n=10):\n",
    "    \n",
    "    # 각 범주별로 target_col의 True와 False의 개수를 집계\n",
    "    conversion_counts = df.groupby([category_col, target_col]).size().unstack(fill_value=0)\n",
    "\n",
    "    # True 비율\n",
    "    conversion_rates = conversion_counts.div(conversion_counts.sum(axis=1), axis=0)\n",
    "\n",
    "    # True 비율이 높은 상위 N개 범주를 선택\n",
    "    top_categories = conversion_rates[True].sort_values(ascending=False).head(top_n).index\n",
    "\n",
    "    top_conversion_rates = conversion_rates.loc[top_categories]\n",
    "\n",
    "    ax = top_conversion_rates.plot(kind='bar', stacked=True, figsize=(10, 5))\n",
    "\n",
    "    plt.title(f'Top {top_n}')\n",
    "    plt.xlabel(category_col)\n",
    "    plt.ylabel('Conversion Rate')\n",
    "    plt.xticks(rotation=45)\n",
    "    plt.legend(title=target_col, labels=['False', 'True'])\n",
    "\n",
    "    # 그래프 표시\n",
    "    plt.tight_layout()\n",
    "    plt.show()\n"
   ]
  },
  {
   "cell_type": "markdown",
   "id": "017e9265",
   "metadata": {},
   "source": [
    "# 영업 성공 여부 분류 경진대회"
   ]
  },
  {
   "cell_type": "markdown",
   "id": "acdab431",
   "metadata": {},
   "source": [
    "## 1. 데이터 확인"
   ]
  },
  {
   "cell_type": "markdown",
   "id": "2b8341e8",
   "metadata": {},
   "source": [
    "### 필수 라이브러리"
   ]
  },
  {
   "cell_type": "code",
   "execution_count": 2,
   "id": "a315cc58",
   "metadata": {},
   "outputs": [],
   "source": [
    "import pandas as pd\n",
    "import numpy as np\n",
    "from sklearn.metrics import (\n",
    "    accuracy_score,\n",
    "    confusion_matrix,\n",
    "    f1_score,\n",
    "    precision_score,\n",
    "    recall_score,\n",
    ")\n",
    "from sklearn.model_selection import train_test_split\n",
    "from sklearn.tree import DecisionTreeClassifier\n",
    "\n",
    "\n",
    "\n",
    "from category_encoders import TargetEncoder\n",
    "\n",
    "\n",
    "import seaborn as sns\n",
    "import matplotlib.pyplot as plt"
   ]
  },
  {
   "cell_type": "markdown",
   "id": "412f98cc",
   "metadata": {},
   "source": [
    "### 데이터 셋 읽어오기"
   ]
  },
  {
   "cell_type": "code",
   "execution_count": 3,
   "id": "7ada941e",
   "metadata": {},
   "outputs": [],
   "source": [
    "df_train = pd.read_csv(\"train.csv\") # 학습용 데이터\n",
    "df_test = pd.read_csv(\"submission.csv\") # 테스트 데이터(제출파일의 데이터)"
   ]
  },
  {
   "cell_type": "code",
   "execution_count": 4,
   "id": "be9af12a",
   "metadata": {},
   "outputs": [
    {
     "data": {
      "text/html": [
       "<div>\n",
       "<style scoped>\n",
       "    .dataframe tbody tr th:only-of-type {\n",
       "        vertical-align: middle;\n",
       "    }\n",
       "\n",
       "    .dataframe tbody tr th {\n",
       "        vertical-align: top;\n",
       "    }\n",
       "\n",
       "    .dataframe thead th {\n",
       "        text-align: right;\n",
       "    }\n",
       "</style>\n",
       "<table border=\"1\" class=\"dataframe\">\n",
       "  <thead>\n",
       "    <tr style=\"text-align: right;\">\n",
       "      <th></th>\n",
       "      <th>bant_submit</th>\n",
       "      <th>customer_country</th>\n",
       "      <th>business_unit</th>\n",
       "      <th>com_reg_ver_win_rate</th>\n",
       "      <th>customer_idx</th>\n",
       "      <th>customer_type</th>\n",
       "      <th>enterprise</th>\n",
       "      <th>historical_existing_cnt</th>\n",
       "      <th>id_strategic_ver</th>\n",
       "      <th>it_strategic_ver</th>\n",
       "      <th>...</th>\n",
       "      <th>response_corporate</th>\n",
       "      <th>expected_timeline</th>\n",
       "      <th>ver_cus</th>\n",
       "      <th>ver_pro</th>\n",
       "      <th>ver_win_rate_x</th>\n",
       "      <th>ver_win_ratio_per_bu</th>\n",
       "      <th>business_area</th>\n",
       "      <th>business_subarea</th>\n",
       "      <th>lead_owner</th>\n",
       "      <th>is_converted</th>\n",
       "    </tr>\n",
       "  </thead>\n",
       "  <tbody>\n",
       "    <tr>\n",
       "      <th>0</th>\n",
       "      <td>1.00</td>\n",
       "      <td>/Quezon City/Philippines</td>\n",
       "      <td>AS</td>\n",
       "      <td>0.066667</td>\n",
       "      <td>32160</td>\n",
       "      <td>End-Customer</td>\n",
       "      <td>Enterprise</td>\n",
       "      <td>NaN</td>\n",
       "      <td>NaN</td>\n",
       "      <td>NaN</td>\n",
       "      <td>...</td>\n",
       "      <td>LGEPH</td>\n",
       "      <td>less than 3 months</td>\n",
       "      <td>1</td>\n",
       "      <td>0</td>\n",
       "      <td>0.003079</td>\n",
       "      <td>0.026846</td>\n",
       "      <td>corporate / office</td>\n",
       "      <td>Engineering</td>\n",
       "      <td>0</td>\n",
       "      <td>True</td>\n",
       "    </tr>\n",
       "    <tr>\n",
       "      <th>1</th>\n",
       "      <td>1.00</td>\n",
       "      <td>/PH-00/Philippines</td>\n",
       "      <td>AS</td>\n",
       "      <td>0.066667</td>\n",
       "      <td>23122</td>\n",
       "      <td>End-Customer</td>\n",
       "      <td>Enterprise</td>\n",
       "      <td>12.0</td>\n",
       "      <td>NaN</td>\n",
       "      <td>NaN</td>\n",
       "      <td>...</td>\n",
       "      <td>LGEPH</td>\n",
       "      <td>less than 3 months</td>\n",
       "      <td>1</td>\n",
       "      <td>0</td>\n",
       "      <td>0.003079</td>\n",
       "      <td>0.026846</td>\n",
       "      <td>corporate / office</td>\n",
       "      <td>Advertising</td>\n",
       "      <td>1</td>\n",
       "      <td>True</td>\n",
       "    </tr>\n",
       "    <tr>\n",
       "      <th>2</th>\n",
       "      <td>1.00</td>\n",
       "      <td>/Kolkata /India</td>\n",
       "      <td>AS</td>\n",
       "      <td>0.088889</td>\n",
       "      <td>1755</td>\n",
       "      <td>End-Customer</td>\n",
       "      <td>Enterprise</td>\n",
       "      <td>144.0</td>\n",
       "      <td>NaN</td>\n",
       "      <td>NaN</td>\n",
       "      <td>...</td>\n",
       "      <td>LGEIL</td>\n",
       "      <td>less than 3 months</td>\n",
       "      <td>1</td>\n",
       "      <td>0</td>\n",
       "      <td>0.003079</td>\n",
       "      <td>0.026846</td>\n",
       "      <td>corporate / office</td>\n",
       "      <td>Construction</td>\n",
       "      <td>2</td>\n",
       "      <td>True</td>\n",
       "    </tr>\n",
       "    <tr>\n",
       "      <th>3</th>\n",
       "      <td>1.00</td>\n",
       "      <td>/Bhubaneswar/India</td>\n",
       "      <td>AS</td>\n",
       "      <td>0.088889</td>\n",
       "      <td>4919</td>\n",
       "      <td>End-Customer</td>\n",
       "      <td>Enterprise</td>\n",
       "      <td>NaN</td>\n",
       "      <td>NaN</td>\n",
       "      <td>NaN</td>\n",
       "      <td>...</td>\n",
       "      <td>LGEIL</td>\n",
       "      <td>less than 3 months</td>\n",
       "      <td>1</td>\n",
       "      <td>0</td>\n",
       "      <td>0.003079</td>\n",
       "      <td>0.026846</td>\n",
       "      <td>corporate / office</td>\n",
       "      <td>IT/Software</td>\n",
       "      <td>3</td>\n",
       "      <td>True</td>\n",
       "    </tr>\n",
       "    <tr>\n",
       "      <th>4</th>\n",
       "      <td>1.00</td>\n",
       "      <td>/Hyderabad/India</td>\n",
       "      <td>AS</td>\n",
       "      <td>0.088889</td>\n",
       "      <td>17126</td>\n",
       "      <td>Specifier/ Influencer</td>\n",
       "      <td>Enterprise</td>\n",
       "      <td>NaN</td>\n",
       "      <td>NaN</td>\n",
       "      <td>NaN</td>\n",
       "      <td>...</td>\n",
       "      <td>LGEIL</td>\n",
       "      <td>less than 3 months</td>\n",
       "      <td>0</td>\n",
       "      <td>0</td>\n",
       "      <td>0.003079</td>\n",
       "      <td>0.026846</td>\n",
       "      <td>corporate / office</td>\n",
       "      <td>NaN</td>\n",
       "      <td>4</td>\n",
       "      <td>True</td>\n",
       "    </tr>\n",
       "    <tr>\n",
       "      <th>...</th>\n",
       "      <td>...</td>\n",
       "      <td>...</td>\n",
       "      <td>...</td>\n",
       "      <td>...</td>\n",
       "      <td>...</td>\n",
       "      <td>...</td>\n",
       "      <td>...</td>\n",
       "      <td>...</td>\n",
       "      <td>...</td>\n",
       "      <td>...</td>\n",
       "      <td>...</td>\n",
       "      <td>...</td>\n",
       "      <td>...</td>\n",
       "      <td>...</td>\n",
       "      <td>...</td>\n",
       "      <td>...</td>\n",
       "      <td>...</td>\n",
       "      <td>...</td>\n",
       "      <td>...</td>\n",
       "      <td>...</td>\n",
       "      <td>...</td>\n",
       "    </tr>\n",
       "    <tr>\n",
       "      <th>59294</th>\n",
       "      <td>1.00</td>\n",
       "      <td>/Sląskie/Poland</td>\n",
       "      <td>AS</td>\n",
       "      <td>NaN</td>\n",
       "      <td>33747</td>\n",
       "      <td>End Customer</td>\n",
       "      <td>SMB</td>\n",
       "      <td>NaN</td>\n",
       "      <td>NaN</td>\n",
       "      <td>NaN</td>\n",
       "      <td>...</td>\n",
       "      <td>LGEPL</td>\n",
       "      <td>3 months ~ 6 months</td>\n",
       "      <td>0</td>\n",
       "      <td>0</td>\n",
       "      <td>0.000026</td>\n",
       "      <td>0.028777</td>\n",
       "      <td>public facility</td>\n",
       "      <td>Others</td>\n",
       "      <td>694</td>\n",
       "      <td>False</td>\n",
       "    </tr>\n",
       "    <tr>\n",
       "      <th>59295</th>\n",
       "      <td>0.75</td>\n",
       "      <td>/Bogotá DC /Colombia</td>\n",
       "      <td>AS</td>\n",
       "      <td>0.040000</td>\n",
       "      <td>35420</td>\n",
       "      <td>Specifier/ Influencer</td>\n",
       "      <td>Enterprise</td>\n",
       "      <td>NaN</td>\n",
       "      <td>NaN</td>\n",
       "      <td>NaN</td>\n",
       "      <td>...</td>\n",
       "      <td>LGECB</td>\n",
       "      <td>9 months ~ 1 year</td>\n",
       "      <td>0</td>\n",
       "      <td>0</td>\n",
       "      <td>0.000026</td>\n",
       "      <td>0.028777</td>\n",
       "      <td>public facility</td>\n",
       "      <td>NaN</td>\n",
       "      <td>39</td>\n",
       "      <td>False</td>\n",
       "    </tr>\n",
       "    <tr>\n",
       "      <th>59296</th>\n",
       "      <td>0.75</td>\n",
       "      <td>/Pisco/Peru</td>\n",
       "      <td>AS</td>\n",
       "      <td>0.040000</td>\n",
       "      <td>19249</td>\n",
       "      <td>Specifier/ Influencer</td>\n",
       "      <td>Enterprise</td>\n",
       "      <td>NaN</td>\n",
       "      <td>NaN</td>\n",
       "      <td>NaN</td>\n",
       "      <td>...</td>\n",
       "      <td>LGEPR</td>\n",
       "      <td>less than 3 months</td>\n",
       "      <td>0</td>\n",
       "      <td>0</td>\n",
       "      <td>0.000026</td>\n",
       "      <td>0.028777</td>\n",
       "      <td>public facility</td>\n",
       "      <td>NaN</td>\n",
       "      <td>125</td>\n",
       "      <td>False</td>\n",
       "    </tr>\n",
       "    <tr>\n",
       "      <th>59297</th>\n",
       "      <td>1.00</td>\n",
       "      <td>/santa cruz bolivia/Peru</td>\n",
       "      <td>AS</td>\n",
       "      <td>0.040000</td>\n",
       "      <td>40327</td>\n",
       "      <td>NaN</td>\n",
       "      <td>Enterprise</td>\n",
       "      <td>NaN</td>\n",
       "      <td>NaN</td>\n",
       "      <td>NaN</td>\n",
       "      <td>...</td>\n",
       "      <td>LGEPR</td>\n",
       "      <td>more than a year</td>\n",
       "      <td>0</td>\n",
       "      <td>0</td>\n",
       "      <td>0.000026</td>\n",
       "      <td>0.028777</td>\n",
       "      <td>public facility</td>\n",
       "      <td>NaN</td>\n",
       "      <td>134</td>\n",
       "      <td>False</td>\n",
       "    </tr>\n",
       "    <tr>\n",
       "      <th>59298</th>\n",
       "      <td>0.75</td>\n",
       "      <td>/paris/France</td>\n",
       "      <td>Solution</td>\n",
       "      <td>NaN</td>\n",
       "      <td>30268</td>\n",
       "      <td>NaN</td>\n",
       "      <td>Enterprise</td>\n",
       "      <td>NaN</td>\n",
       "      <td>NaN</td>\n",
       "      <td>NaN</td>\n",
       "      <td>...</td>\n",
       "      <td>LGEKR</td>\n",
       "      <td>less than 3 months</td>\n",
       "      <td>0</td>\n",
       "      <td>0</td>\n",
       "      <td>0.000026</td>\n",
       "      <td>NaN</td>\n",
       "      <td>public facility</td>\n",
       "      <td>NaN</td>\n",
       "      <td>441</td>\n",
       "      <td>False</td>\n",
       "    </tr>\n",
       "  </tbody>\n",
       "</table>\n",
       "<p>59299 rows × 29 columns</p>\n",
       "</div>"
      ],
      "text/plain": [
       "       bant_submit          customer_country business_unit  \\\n",
       "0             1.00  /Quezon City/Philippines            AS   \n",
       "1             1.00        /PH-00/Philippines            AS   \n",
       "2             1.00           /Kolkata /India            AS   \n",
       "3             1.00        /Bhubaneswar/India            AS   \n",
       "4             1.00          /Hyderabad/India            AS   \n",
       "...            ...                       ...           ...   \n",
       "59294         1.00           /Sląskie/Poland            AS   \n",
       "59295         0.75      /Bogotá DC /Colombia            AS   \n",
       "59296         0.75               /Pisco/Peru            AS   \n",
       "59297         1.00  /santa cruz bolivia/Peru            AS   \n",
       "59298         0.75             /paris/France      Solution   \n",
       "\n",
       "       com_reg_ver_win_rate  customer_idx          customer_type  enterprise  \\\n",
       "0                  0.066667         32160           End-Customer  Enterprise   \n",
       "1                  0.066667         23122           End-Customer  Enterprise   \n",
       "2                  0.088889          1755           End-Customer  Enterprise   \n",
       "3                  0.088889          4919           End-Customer  Enterprise   \n",
       "4                  0.088889         17126  Specifier/ Influencer  Enterprise   \n",
       "...                     ...           ...                    ...         ...   \n",
       "59294                   NaN         33747           End Customer         SMB   \n",
       "59295              0.040000         35420  Specifier/ Influencer  Enterprise   \n",
       "59296              0.040000         19249  Specifier/ Influencer  Enterprise   \n",
       "59297              0.040000         40327                    NaN  Enterprise   \n",
       "59298                   NaN         30268                    NaN  Enterprise   \n",
       "\n",
       "       historical_existing_cnt  id_strategic_ver  it_strategic_ver  ...  \\\n",
       "0                          NaN               NaN               NaN  ...   \n",
       "1                         12.0               NaN               NaN  ...   \n",
       "2                        144.0               NaN               NaN  ...   \n",
       "3                          NaN               NaN               NaN  ...   \n",
       "4                          NaN               NaN               NaN  ...   \n",
       "...                        ...               ...               ...  ...   \n",
       "59294                      NaN               NaN               NaN  ...   \n",
       "59295                      NaN               NaN               NaN  ...   \n",
       "59296                      NaN               NaN               NaN  ...   \n",
       "59297                      NaN               NaN               NaN  ...   \n",
       "59298                      NaN               NaN               NaN  ...   \n",
       "\n",
       "       response_corporate    expected_timeline  ver_cus ver_pro  \\\n",
       "0                   LGEPH   less than 3 months        1       0   \n",
       "1                   LGEPH   less than 3 months        1       0   \n",
       "2                   LGEIL   less than 3 months        1       0   \n",
       "3                   LGEIL   less than 3 months        1       0   \n",
       "4                   LGEIL   less than 3 months        0       0   \n",
       "...                   ...                  ...      ...     ...   \n",
       "59294               LGEPL  3 months ~ 6 months        0       0   \n",
       "59295               LGECB    9 months ~ 1 year        0       0   \n",
       "59296               LGEPR   less than 3 months        0       0   \n",
       "59297               LGEPR     more than a year        0       0   \n",
       "59298               LGEKR   less than 3 months        0       0   \n",
       "\n",
       "      ver_win_rate_x ver_win_ratio_per_bu       business_area  \\\n",
       "0           0.003079             0.026846  corporate / office   \n",
       "1           0.003079             0.026846  corporate / office   \n",
       "2           0.003079             0.026846  corporate / office   \n",
       "3           0.003079             0.026846  corporate / office   \n",
       "4           0.003079             0.026846  corporate / office   \n",
       "...              ...                  ...                 ...   \n",
       "59294       0.000026             0.028777     public facility   \n",
       "59295       0.000026             0.028777     public facility   \n",
       "59296       0.000026             0.028777     public facility   \n",
       "59297       0.000026             0.028777     public facility   \n",
       "59298       0.000026                  NaN     public facility   \n",
       "\n",
       "      business_subarea lead_owner is_converted  \n",
       "0          Engineering          0         True  \n",
       "1          Advertising          1         True  \n",
       "2         Construction          2         True  \n",
       "3          IT/Software          3         True  \n",
       "4                  NaN          4         True  \n",
       "...                ...        ...          ...  \n",
       "59294           Others        694        False  \n",
       "59295              NaN         39        False  \n",
       "59296              NaN        125        False  \n",
       "59297              NaN        134        False  \n",
       "59298              NaN        441        False  \n",
       "\n",
       "[59299 rows x 29 columns]"
      ]
     },
     "execution_count": 4,
     "metadata": {},
     "output_type": "execute_result"
    }
   ],
   "source": [
    "df_train"
   ]
  },
  {
   "cell_type": "markdown",
   "id": "af526c13",
   "metadata": {},
   "source": [
    "## EDA"
   ]
  },
  {
   "cell_type": "markdown",
   "id": "205cf2ad-18f5-44ce-847b-562ba10d9662",
   "metadata": {},
   "source": [
    "| Field                   | 설명                                                         |\n",
    "| :---------------------- | :----------------------------------------------------------- |\n",
    "| bant_submit             | MQL 구성 요소들 중 [1]Budget(예산), [2]Title(고객의 직책/직급), [3]Needs(요구사항), [4]Timeline(희망 납기일) 4가지 항목에 대해서 작성된 값의 비율 |\n",
    "| customer_country        | 고객의 국적                                                  |\n",
    "| business_unit           | MQL 요청 상품에 대응되는 사업부                              |\n",
    "| com_reg_ver_win_rate    | Vertical Level 1, business unit, region을 기준으로 oppty 비율을 계산 |\n",
    "| customer_idx            | 고객의 회사명                                                |\n",
    "| customer_type           | 고객 유형                                                    |\n",
    "| enterprise              | Global 기업인지, Small/Medium 규모의 기업인지                |\n",
    "| historical_existing_cnt | 이전에 Converted(영업 전환) 되었던 횟수                      |\n",
    "| id_strategic_ver        | (도메인 지식) 특정 사업부(Business Unit이 ID일 때), 특정 사업 영역(Vertical Level1)에 대해 가중치를 부여 |\n",
    "| it_strategic_ver        | (도메인 지식) 특정 사업부(Business Unit이 IT일 때), 특정 사업 영역(Vertical Level1)에 대해 가중치를 부여 |\n",
    "| idit_strategic_ver      | Id_strategic_ver이나 it_strategic_ver 값 중 하나라도 1의 값을 가지면 1 값으로 표현 |\n",
    "| customer_job            | 고객의 직업군                                                |\n",
    "| lead_desc_length        | 고객이 작성한 Lead Descriptoin 텍스트 총 길이                |\n",
    "| inquiry_type            | 고객의 문의 유형                                             |\n",
    "| product_category        | 요청 제품 카테고리                                           |\n",
    "| product_subcategory     | 요청 제품 하위 카테고리                                      |\n",
    "| product_modelname       | 요청 제품 모델명                                             |\n",
    "| customer_country.1      | 담당 자사 법인명 기반의 지역 정보(대륙)                      |\n",
    "| customer_position       | 고객의 회사 직책                                             |\n",
    "| response_corporate      | 담당 자사 법인명                                             |\n",
    "| expected_timeline       | 고객의 요청한 처리 일정                                      |\n",
    "| ver_cus                 | 특정 Vertical Level 1(사업영역) 이면서 Customer_type(고객 유형)이 소비자(End-user)인 경우에 대한 가중치 |\n",
    "| ver_pro                 | 특정 Vertical Level 1(사업영역) 이면서 특정 Product Category(제품 유형)인 경우에 대한 가중치 |\n",
    "| ver_win_rate_x          | 전체 Lead 중에서 Vertical을 기준으로 Vertical 수 비율과 Vertical 별 Lead 수 대비 영업 전환 성공 비율 값을 곱한 값 |\n",
    "| ver_win_ratio_per_bu    | 특정 Vertical Level1의 Business Unit 별 샘플 수 대비 영업 전환된 샘플 수의 비율을 계산 |\n",
    "| business_area           | 고객의 사업 영역                                             |\n",
    "| business_subarea        | 고객의 세부 사업 영역                                        |\n",
    "| lead_owner              | 영업 담당자 이름                                             |\n",
    "| is_converted            | 영업 성공 여부. True일 시 성공.                              |"
   ]
  },
  {
   "cell_type": "code",
   "execution_count": 5,
   "id": "503b4f6f-e0c0-4e4c-9080-b133e910b9c5",
   "metadata": {},
   "outputs": [
    {
     "name": "stdout",
     "output_type": "stream",
     "text": [
      "bant_submit\n",
      "0.50    17192\n",
      "1.00    17061\n",
      "0.25    12852\n",
      "0.75    11681\n",
      "0.00      513\n",
      "Name: count, dtype: int64\n",
      "bant_submit\n",
      "1.00    2070\n",
      "0.25    1522\n",
      "0.50     667\n",
      "0.75     545\n",
      "0.00     467\n",
      "Name: count, dtype: int64\n"
     ]
    }
   ],
   "source": [
    "print(df_train['bant_submit'].value_counts())\n",
    "print(df_test['bant_submit'].value_counts())"
   ]
  },
  {
   "cell_type": "code",
   "execution_count": 6,
   "id": "9ab43f30-26e9-4124-af26-1df2395d43ff",
   "metadata": {},
   "outputs": [
    {
     "name": "stdout",
     "output_type": "stream",
     "text": [
      "0\n",
      "0\n"
     ]
    }
   ],
   "source": [
    "print(df_train['bant_submit'].isnull().sum())\n",
    "print(df_test['bant_submit'].isnull().sum())"
   ]
  },
  {
   "cell_type": "markdown",
   "id": "64655b49-6345-467f-8ce8-bc9204f33738",
   "metadata": {},
   "source": [
    "고유값 : 0.00, 0.25, 0.50, 0.75, 1.00\n",
    "결측치 : x"
   ]
  },
  {
   "cell_type": "markdown",
   "id": "0c42f2dd-f7aa-4e53-8c0d-83c979852029",
   "metadata": {},
   "source": [
    "---\n",
    "# ※ 전처리 및 인코딩 작업\n",
    "# 1. customer_country"
   ]
  },
  {
   "cell_type": "code",
   "execution_count": 7,
   "id": "d48a58ee-51a1-4cc6-adc8-717e7f68d633",
   "metadata": {},
   "outputs": [
    {
     "data": {
      "text/plain": [
       "982"
      ]
     },
     "execution_count": 7,
     "metadata": {},
     "output_type": "execute_result"
    }
   ],
   "source": [
    "df_train['customer_country'].isnull().sum()\n",
    "df_train['customer_country.1'].isnull().sum()"
   ]
  },
  {
   "cell_type": "code",
   "execution_count": 8,
   "id": "6f386637-e4b2-4752-b629-62c9853fe943",
   "metadata": {},
   "outputs": [
    {
     "name": "stdout",
     "output_type": "stream",
     "text": [
      "유사도 확인 : 100.00%\n"
     ]
    }
   ],
   "source": [
    "from difflib import SequenceMatcher\n",
    "\n",
    "def similar(a, b):\n",
    "    return SequenceMatcher(None, a, b).ratio()\n",
    "\n",
    "similarity_score = similar(df_train['customer_country.1'].astype(str), \n",
    "                           df_train['customer_country'].astype(str))\n",
    "print(f'유사도 확인 : {similarity_score:.2%}')"
   ]
  },
  {
   "cell_type": "code",
   "execution_count": 9,
   "id": "85243cd9-6719-406e-8a07-d3489a97c00a",
   "metadata": {},
   "outputs": [],
   "source": [
    "# customer_country.1과 유사도 판단 결과 100% 확인. 즉 customer_country.1 \bdrop해야함."
   ]
  },
  {
   "cell_type": "code",
   "execution_count": 10,
   "id": "5d69c072",
   "metadata": {},
   "outputs": [
    {
     "name": "stderr",
     "output_type": "stream",
     "text": [
      "/var/folders/zn/z7q7zstd5jg_tg51vl5zplj80000gn/T/ipykernel_94728/3118121708.py:97: SettingWithCopyWarning: \n",
      "A value is trying to be set on a copy of a slice from a DataFrame\n",
      "\n",
      "See the caveats in the documentation: https://pandas.pydata.org/pandas-docs/stable/user_guide/indexing.html#returning-a-view-versus-a-copy\n",
      "  df_train['customer_country'][(df_train['customer_country'].str.contains(r'\\d{5}'))\n",
      "/var/folders/zn/z7q7zstd5jg_tg51vl5zplj80000gn/T/ipykernel_94728/3118121708.py:101: SettingWithCopyWarning: \n",
      "A value is trying to be set on a copy of a slice from a DataFrame\n",
      "\n",
      "See the caveats in the documentation: https://pandas.pydata.org/pandas-docs/stable/user_guide/indexing.html#returning-a-view-versus-a-copy\n",
      "  df_train['customer_country'][df_train['customer_country'].str.contains('@')] = 'None'\n"
     ]
    }
   ],
   "source": [
    "# 나라명으로 컬럼 대체하기.\n",
    "df_train['customer_country'].isna().sum() # 135개 '' 처리\n",
    "df_c = df_train.fillna('None')\n",
    "\n",
    "df_c = df_c['customer_country'].str.replace(pat = '[ ]', \n",
    "                                            repl = '', regex = True).reset_index().drop('index', axis = 1)\n",
    "\n",
    "# 분리해서 리스트 생성.\n",
    "c_list = df_c['customer_country'].str.split('/')\n",
    "\n",
    "result = []\n",
    "for i in range(0, len(c_list)):        \n",
    "    result.append(c_list[i][-1])\n",
    "    \n",
    "result = pd.DataFrame(result).rename(columns = {0:'customer_country'})\n",
    "\n",
    "df_train['customer_country'] = result\n",
    "\n",
    "df_train.at[11549, 'customer_country'] = 'Iceland'\n",
    "\n",
    "replace_country = {\n",
    "    'Manaus': 'Brazil',\n",
    "    'Aparecida' : 'Brazil',\n",
    "    'BR' : 'Brazil',\n",
    "    'Dourados' : 'Brazil',\n",
    "    'Cuiabá' : 'Brazil',\n",
    "    'Recife' : 'Brazil',\n",
    "    'SãoPaulo' : 'Brazil',\n",
    "    'SaoPaulo' : 'Brazil',\n",
    "    'JoãoPessoa' : 'Brazil',\n",
    "    'Capãodacanoa' : 'Brazil',\n",
    "    'BeloHorizonte' : 'Brazil',\n",
    "    'SãoPaulo,Pinheiros' : 'Brazil',\n",
    "    'CentrodeProduçãoAudiovisual-SescSãoPaulo' : 'Brazil',\n",
    "    'FozdeIguaçu-PRAvenidaTancredoNeves6731JardimItaipu' : 'Brazil',\n",
    "    'ViaE.DeAmicis,23.90044Carini(PA)' : 'Italy',\n",
    "    'NewHampshire': 'UnitedStates',\n",
    "    '1HoagDr.' : 'UnitedStates',\n",
    "    '21903RanierLn' : 'UnitedStates',\n",
    "    'JacksonvilleFlorida' : 'UnitedStates',\n",
    "    'USVirginIslands' : 'UnitedStates',\n",
    "    '3NassonAvenue' : 'UnitedStates',\n",
    "    'Zip98433' : 'UnitedStates',\n",
    "    'Nevada' : 'UnitedStates',\n",
    "    'Ohio' : 'UnitedStates',\n",
    "    'AnandViharDelhi' : 'India',\n",
    "    'uttarpradesh' : 'India',\n",
    "    'mumbai' : 'India',\n",
    "    'Telangana' : 'India',\n",
    "    'bangalore': 'India',\n",
    "    'gujarat' : 'India',\n",
    "    'gurgaon': 'India',\n",
    "    'indore' : 'India',\n",
    "    'kerela' : 'India',\n",
    "    'Chennai' : 'India',\n",
    "    'lucknow' : 'India',\n",
    "    'Gujarat' : 'India',\n",
    "    'Pune' : 'India',\n",
    "    'odisha' : 'India',\n",
    "    'hyderabad' : 'India',\n",
    "    'bhilwara' : 'India',\n",
    "    'CACERES' : 'Spain',\n",
    "    'GRANCANARIASPLAYADELINGLES' : 'Spain',\n",
    "    'VALENCIA' : 'Spain',\n",
    "    'MADRID' : 'Spain',\n",
    "    'SPAIN' : 'Spain',\n",
    "    '1605Ave.PoncedeLeón,Suite400SanJuan,00909,PuertoRico' :'PuertoRico',\n",
    "    'ΘέσηΠέτσαΒακαλοπούλουΒΙΟΠΑΠαλλήνης15351' : 'Greece',\n",
    "    'Barranquilla' : 'Colombia',\n",
    "    'Bucaramanga' : 'Colombia',\n",
    "    'Cartagena' : 'Colombia',\n",
    "    'COLOMBIA' : 'Colombia',\n",
    "    'CARRERA11A94-46EDIFICIOCHICO3000PISO3BOGOTA' : 'Colombia',\n",
    "    '1919MinnesotaCt,Mississauga,ONL5N' : 'Canada',\n",
    "    'HaNoi' : 'Vietnam',\n",
    "    'ARGENTINA' : 'Argentina',\n",
    "    'EGYPT' : 'Egypt',\n",
    "    'PerU' : 'Peru',\n",
    "    'UAEDubai' : 'U.A.E',\n",
    "    'Antigua' : 'AntiguaandBarbuda',\n",
    "    'Dominicanrepublic' : 'DominicanRepublic',\n",
    "    'NetherlandsAntilles' : 'Netherlands', \n",
    "    'A' : 'None',\n",
    "    'country' : 'None',\n",
    "    '':'None'\n",
    "}\n",
    "\n",
    "df_train['customer_country'] = df_train['customer_country'].replace(replace_country)\n",
    "\n",
    "df_train.loc[df_train['customer_country'].str.contains('UnitedStates'), 'customer_country'] = 'UnitedStates'\n",
    "df_train.loc[df_train['customer_country'].str.contains('Italy'), 'customer_country'] ='Italy'\n",
    "df_train.loc[df_train['customer_country'].str.contains('Colombia'), 'customer_country'] ='Colombia'\n",
    "df_train.loc[df_train['customer_country'].str.contains('ALICANTE'), 'customer_country'] ='Spain'\n",
    "\n",
    "df_train.loc[df_train['customer_country'].str.contains(r'^[A-Z]{2}$|[A-Z]{2}\\d{5}$'), 'customer_country'] = 'UnitedStates'\n",
    "df_train.loc[df_train['customer_country'].str.contains(r'\\b[A-Z]{2}\\d{5}\\b|USA'), 'customer_country'] = 'UnitedStates'\n",
    "df_train['customer_country'][(df_train['customer_country'].str.contains(r'\\d{5}'))\n",
    "                             & (~df_train['customer_country'].str.contains('@'))] = 'UnitedStates'\n",
    "df_train.loc[df_train['customer_country'].str.contains(r'\\d{4}$|^\\d{4}|^\\d{3}'), 'customer_country'] = 'UnitedStates'\n",
    "\n",
    "df_train['customer_country'][df_train['customer_country'].str.contains('@')] = 'None'"
   ]
  },
  {
   "cell_type": "code",
   "execution_count": 11,
   "id": "d9cc38df-c25c-4d49-8133-37a4519d8482",
   "metadata": {},
   "outputs": [
    {
     "name": "stderr",
     "output_type": "stream",
     "text": [
      "/var/folders/zn/z7q7zstd5jg_tg51vl5zplj80000gn/T/ipykernel_94728/1003464696.py:91: SettingWithCopyWarning: \n",
      "A value is trying to be set on a copy of a slice from a DataFrame\n",
      "\n",
      "See the caveats in the documentation: https://pandas.pydata.org/pandas-docs/stable/user_guide/indexing.html#returning-a-view-versus-a-copy\n",
      "  df_train['customer_country'][(df_train['customer_country'].str.contains(r'\\d{5}'))\n",
      "/var/folders/zn/z7q7zstd5jg_tg51vl5zplj80000gn/T/ipykernel_94728/1003464696.py:95: SettingWithCopyWarning: \n",
      "A value is trying to be set on a copy of a slice from a DataFrame\n",
      "\n",
      "See the caveats in the documentation: https://pandas.pydata.org/pandas-docs/stable/user_guide/indexing.html#returning-a-view-versus-a-copy\n",
      "  df_train['customer_country'][df_train['customer_country'].str.contains('@')] = 'None'\n",
      "/var/folders/zn/z7q7zstd5jg_tg51vl5zplj80000gn/T/ipykernel_94728/1003464696.py:91: SettingWithCopyWarning: \n",
      "A value is trying to be set on a copy of a slice from a DataFrame\n",
      "\n",
      "See the caveats in the documentation: https://pandas.pydata.org/pandas-docs/stable/user_guide/indexing.html#returning-a-view-versus-a-copy\n",
      "  df_train['customer_country'][(df_train['customer_country'].str.contains(r'\\d{5}'))\n",
      "/var/folders/zn/z7q7zstd5jg_tg51vl5zplj80000gn/T/ipykernel_94728/1003464696.py:95: SettingWithCopyWarning: \n",
      "A value is trying to be set on a copy of a slice from a DataFrame\n",
      "\n",
      "See the caveats in the documentation: https://pandas.pydata.org/pandas-docs/stable/user_guide/indexing.html#returning-a-view-versus-a-copy\n",
      "  df_train['customer_country'][df_train['customer_country'].str.contains('@')] = 'None'\n"
     ]
    }
   ],
   "source": [
    "import pandas as pd\n",
    "\n",
    "def clean_customer_country(df):\n",
    "    df_train['customer_country'].isna().sum() # 135개 '' 처리\n",
    "    df_c = df_train.fillna('None')\n",
    "\n",
    "    df_c = df_c['customer_country'].str.replace(pat = '[ ]', \n",
    "                                            repl = '', regex = True).reset_index().drop('index', axis = 1)\n",
    "\n",
    "    c_list = df_c['customer_country'].str.split('/')\n",
    "    result = [c[-1] for c in c_list]\n",
    "    \n",
    "    result_df = pd.DataFrame(result, columns=['customer_country'])\n",
    "\n",
    "    replace_country = {\n",
    "        'Manaus': 'Brazil',\n",
    "        'Aparecida' : 'Brazil',\n",
    "        'BR' : 'Brazil',\n",
    "        'Dourados' : 'Brazil',\n",
    "        'Cuiabá' : 'Brazil',\n",
    "        'Recife' : 'Brazil',\n",
    "        'SãoPaulo' : 'Brazil',\n",
    "        'SaoPaulo' : 'Brazil',\n",
    "        'JoãoPessoa' : 'Brazil',\n",
    "        'Capãodacanoa' : 'Brazil',\n",
    "        'BeloHorizonte' : 'Brazil',\n",
    "        'SãoPaulo,Pinheiros' : 'Brazil',\n",
    "        'CentrodeProduçãoAudiovisual-SescSãoPaulo' : 'Brazil',\n",
    "        'FozdeIguaçu-PRAvenidaTancredoNeves6731JardimItaipu' : 'Brazil',\n",
    "        'ViaE.DeAmicis,23.90044Carini(PA)' : 'Italy',\n",
    "        'NewHampshire': 'UnitedStates',\n",
    "        '1HoagDr.' : 'UnitedStates',\n",
    "        '21903RanierLn' : 'UnitedStates',\n",
    "        'JacksonvilleFlorida' : 'UnitedStates',\n",
    "        'USVirginIslands' : 'UnitedStates',\n",
    "        '3NassonAvenue' : 'UnitedStates',\n",
    "        'Zip98433' : 'UnitedStates',\n",
    "        'Nevada' : 'UnitedStates',\n",
    "        'Ohio' : 'UnitedStates',\n",
    "        'AnandViharDelhi' : 'India',\n",
    "        'uttarpradesh' : 'India',\n",
    "        'mumbai' : 'India',\n",
    "        'Telangana' : 'India',\n",
    "        'bangalore': 'India',\n",
    "        'gujarat' : 'India',\n",
    "        'gurgaon': 'India',\n",
    "        'indore' : 'India',\n",
    "        'kerela' : 'India',\n",
    "        'Chennai' : 'India',\n",
    "        'lucknow' : 'India',\n",
    "        'Gujarat' : 'India',\n",
    "        'Pune' : 'India',\n",
    "        'odisha' : 'India',\n",
    "        'hyderabad' : 'India',\n",
    "        'bhilwara' : 'India',\n",
    "        'CACERES' : 'Spain',\n",
    "        'GRANCANARIASPLAYADELINGLES' : 'Spain',\n",
    "        'VALENCIA' : 'Spain',\n",
    "        'MADRID' : 'Spain',\n",
    "        'SPAIN' : 'Spain',\n",
    "        '1605Ave.PoncedeLeón,Suite400SanJuan,00909,PuertoRico' :'PuertoRico',\n",
    "        'ΘέσηΠέτσαΒακαλοπούλουΒΙΟΠΑΠαλλήνης15351' : 'Greece',\n",
    "        'Barranquilla' : 'Colombia',\n",
    "        'Bucaramanga' : 'Colombia',\n",
    "        'Cartagena' : 'Colombia',\n",
    "        'COLOMBIA' : 'Colombia',\n",
    "        'CARRERA11A94-46EDIFICIOCHICO3000PISO3BOGOTA' : 'Colombia',\n",
    "        '1919MinnesotaCt,Mississauga,ONL5N' : 'Canada',\n",
    "        'HaNoi' : 'Vietnam',\n",
    "        'ARGENTINA' : 'Argentina',\n",
    "        'EGYPT' : 'Egypt',\n",
    "        'PerU' : 'Peru',\n",
    "        'UAEDubai' : 'U.A.E',\n",
    "        'Antigua' : 'AntiguaandBarbuda',\n",
    "        'Dominicanrepublic' : 'DominicanRepublic',\n",
    "        'NetherlandsAntilles' : 'Netherlands', \n",
    "        'A' : 'None',\n",
    "        'country' : 'None',\n",
    "        '':'None'\n",
    "    }\n",
    "\n",
    "    df_train['customer_country'] = df_train['customer_country'].replace(replace_country)\n",
    "\n",
    "    df_train.loc[df_train['customer_country'].str.contains('UnitedStates'), 'customer_country'] = 'UnitedStates'\n",
    "    df_train.loc[df_train['customer_country'].str.contains('Italy'), 'customer_country'] ='Italy'\n",
    "    df_train.loc[df_train['customer_country'].str.contains('Colombia'), 'customer_country'] ='Colombia'\n",
    "    df_train.loc[df_train['customer_country'].str.contains('ALICANTE'), 'customer_country'] ='Spain'\n",
    "\n",
    "    df_train.loc[df_train['customer_country'].str.contains(r'^[A-Z]{2}$|[A-Z]{2}\\d{5}$'), 'customer_country'] = 'UnitedStates'\n",
    "    df_train.loc[df_train['customer_country'].str.contains(r'\\b[A-Z]{2}\\d{5}\\b|USA'), 'customer_country'] = 'UnitedStates'\n",
    "    df_train['customer_country'][(df_train['customer_country'].str.contains(r'\\d{5}'))\n",
    "                                 & (~df_train['customer_country'].str.contains('@'))] = 'UnitedStates'\n",
    "    df_train.loc[df_train['customer_country'].str.contains(r'\\d{4}$|^\\d{4}|^\\d{3}'), 'customer_country'] = 'UnitedStates'\n",
    "\n",
    "    df_train['customer_country'][df_train['customer_country'].str.contains('@')] = 'None'\n",
    "    return result_df\n",
    "\n",
    "df_train['customer_country'] = clean_customer_country(df_train)\n",
    "df_test['customer_country'] = clean_customer_country(df_test)"
   ]
  },
  {
   "cell_type": "markdown",
   "id": "37769efc",
   "metadata": {},
   "source": [
    "df_train['customer_country'].unique()"
   ]
  },
  {
   "cell_type": "code",
   "execution_count": 12,
   "id": "872d4e6e-cd9a-40b5-b73a-28bc304d9190",
   "metadata": {},
   "outputs": [
    {
     "data": {
      "text/plain": [
       "customer_country\n",
       "India            2750\n",
       "None              522\n",
       "UnitedKingdom     201\n",
       "U.A.E             195\n",
       "UnitedStates      177\n",
       "                 ... \n",
       "Fiji                1\n",
       "Norway              1\n",
       "Iran                1\n",
       "Uganda              1\n",
       "Bulgaria            1\n",
       "Name: count, Length: 115, dtype: int64"
      ]
     },
     "execution_count": 12,
     "metadata": {},
     "output_type": "execute_result"
    }
   ],
   "source": [
    "value_counts_result = df_test['customer_country'].value_counts()\n",
    "value_counts_result"
   ]
  },
  {
   "cell_type": "markdown",
   "id": "2d90a200",
   "metadata": {},
   "source": [
    "df_test['customer_country'].unique()"
   ]
  },
  {
   "cell_type": "code",
   "execution_count": 13,
   "id": "63025238-6b45-45f3-aa57-61f5c8b93626",
   "metadata": {},
   "outputs": [
    {
     "data": {
      "text/plain": [
       "customer_country\n",
       "India           16868\n",
       "Brazil           8753\n",
       "UnitedStates     4159\n",
       "None             3041\n",
       "Mexico           2753\n",
       "                ...  \n",
       "Montenegro          1\n",
       "Haiti               1\n",
       "Mongolia            1\n",
       "IsleofMan           1\n",
       "Belarus             1\n",
       "Name: count, Length: 172, dtype: int64"
      ]
     },
     "execution_count": 13,
     "metadata": {},
     "output_type": "execute_result"
    }
   ],
   "source": [
    "df_train['customer_country'].value_counts()"
   ]
  },
  {
   "cell_type": "code",
   "execution_count": 14,
   "id": "05f511e2-8f9f-4c7f-84de-91416abee2b6",
   "metadata": {},
   "outputs": [
    {
     "name": "stdout",
     "output_type": "stream",
     "text": [
      "고유값 개수: 172\n"
     ]
    }
   ],
   "source": [
    "unique_values_count = df_train['customer_country'].nunique()\n",
    "print(\"고유값 개수:\", unique_values_count)"
   ]
  },
  {
   "cell_type": "code",
   "execution_count": 15,
   "id": "ca231820-c7d8-4a8f-9271-95fc70fcca6c",
   "metadata": {},
   "outputs": [
    {
     "name": "stdout",
     "output_type": "stream",
     "text": [
      "set()\n"
     ]
    },
    {
     "data": {
      "text/plain": [
       "customer_country\n",
       "India            2750\n",
       "None              522\n",
       "UnitedKingdom     201\n",
       "U.A.E             195\n",
       "UnitedStates      177\n",
       "                 ... \n",
       "Fiji                1\n",
       "Norway              1\n",
       "Iran                1\n",
       "Uganda              1\n",
       "Bulgaria            1\n",
       "Name: count, Length: 115, dtype: int64"
      ]
     },
     "execution_count": 15,
     "metadata": {},
     "output_type": "execute_result"
    }
   ],
   "source": [
    "train_vals = set(df_train['customer_country'].unique())\n",
    "test_vals = set(df_test['customer_country'].unique())\n",
    "\n",
    "test_not_train = test_vals - train_vals\n",
    "\n",
    "print(test_not_train)\n",
    "# df_test['customer_country'] 열에서 test_not_train에 속하는 값을 'Other'로 대체\n",
    "df_test['customer_country'].replace(to_replace=list(test_not_train), value='Other', inplace=True)\n",
    "\n",
    "df_test['customer_country'].value_counts()\n",
    "\n",
    "# 빈도수가 낮은 국가에 대해서 처리 방안. ex) 5회 미만은 other로 분류 한다던가? 해야 할 듯!"
   ]
  },
  {
   "cell_type": "code",
   "execution_count": 16,
   "id": "80ffd660-8151-4e58-a23b-cf24eae46d91",
   "metadata": {},
   "outputs": [],
   "source": [
    "# 특정 빈도수 이하인 국가들을 'other'로 변경\n",
    "counts = df_train['customer_country'].value_counts()\n",
    "threshold = 10\n",
    "low_frequency = counts[counts < threshold].index\n",
    "df_train['customer_country'] = df_train['customer_country'].replace(low_frequency, 'Other')"
   ]
  },
  {
   "cell_type": "code",
   "execution_count": 17,
   "id": "25c61ddf-be37-4649-9725-43d42acb1603",
   "metadata": {},
   "outputs": [
    {
     "data": {
      "text/plain": [
       "customer_country\n",
       "India                16868\n",
       "Brazil                8753\n",
       "UnitedStates          4159\n",
       "None                  3041\n",
       "Mexico                2753\n",
       "                     ...  \n",
       "Angola                  11\n",
       "Uganda                  11\n",
       "Barbados                10\n",
       "TrinidadandTobago       10\n",
       "Czech                   10\n",
       "Name: count, Length: 101, dtype: int64"
      ]
     },
     "execution_count": 17,
     "metadata": {},
     "output_type": "execute_result"
    }
   ],
   "source": [
    "df_train['customer_country'].value_counts()"
   ]
  },
  {
   "cell_type": "code",
   "execution_count": 18,
   "id": "c8222767-3ad0-457c-ae8e-2e9057558563",
   "metadata": {},
   "outputs": [],
   "source": [
    "counts = df_test['customer_country'].value_counts()\n",
    "threshold = 10\n",
    "low_frequency = counts[counts < threshold].index\n",
    "df_test['customer_country'] = df_test['customer_country'].replace(low_frequency, 'Other')"
   ]
  },
  {
   "cell_type": "code",
   "execution_count": 19,
   "id": "e4dbf64c-4d56-4be7-879a-653fa843d407",
   "metadata": {
    "scrolled": true
   },
   "outputs": [
    {
     "data": {
      "text/plain": [
       "customer_country\n",
       "India            2750\n",
       "None              522\n",
       "Other             244\n",
       "UnitedKingdom     201\n",
       "U.A.E             195\n",
       "UnitedStates      177\n",
       "HongKong          109\n",
       "Philippines        96\n",
       "SaudiArabia        87\n",
       "Brazil             68\n",
       "Australia          66\n",
       "Mexico             65\n",
       "Spain              58\n",
       "Singapore          57\n",
       "Germany            57\n",
       "Egypt              54\n",
       "Indonesia          42\n",
       "SouthAfrica        41\n",
       "Nigeria            37\n",
       "Colombia           36\n",
       "Panama             30\n",
       "Canada             30\n",
       "Malaysia           28\n",
       "France             24\n",
       "Portugal           23\n",
       "Kuwait             16\n",
       "Qatar              16\n",
       "Chile              16\n",
       "Peru               15\n",
       "Kenya              13\n",
       "Morocco            12\n",
       "Turkey             12\n",
       "Hungary            11\n",
       "Argentina          11\n",
       "Türkiye            11\n",
       "Italy              11\n",
       "Pakistan           10\n",
       "Oman               10\n",
       "Afghanistan        10\n",
       "Name: count, dtype: int64"
      ]
     },
     "execution_count": 19,
     "metadata": {},
     "output_type": "execute_result"
    }
   ],
   "source": [
    "df_test['customer_country'].value_counts()"
   ]
  },
  {
   "cell_type": "code",
   "execution_count": 20,
   "id": "74ff3796-1b8c-4941-ba59-6570f0852ed2",
   "metadata": {},
   "outputs": [
    {
     "name": "stdout",
     "output_type": "stream",
     "text": [
      "고유값 개수: 101\n"
     ]
    }
   ],
   "source": [
    "unique_values_count = df_train['customer_country'].nunique()\n",
    "print(\"고유값 개수:\", unique_values_count)"
   ]
  },
  {
   "cell_type": "code",
   "execution_count": 21,
   "id": "4f622ee5-f223-4807-9a3e-622b013d57e6",
   "metadata": {},
   "outputs": [],
   "source": [
    "from category_encoders import TargetEncoder\n",
    "\n",
    "# 타겟 인코딩\n",
    "target_encoder = TargetEncoder(smoothing=1.0)  # 스무딩 값을 조절하면서 객체 생성\n",
    "\n",
    "df_train['customer_country'] = target_encoder.fit_transform(df_train['customer_country'], df_train['is_converted'])\n",
    "df_test['customer_country'] = target_encoder.transform(df_test['customer_country'])"
   ]
  },
  {
   "cell_type": "code",
   "execution_count": 22,
   "id": "d0eeabf4-4d24-4199-9d83-c323612c913a",
   "metadata": {},
   "outputs": [
    {
     "name": "stdout",
     "output_type": "stream",
     "text": [
      "고유값 개수: 91\n"
     ]
    }
   ],
   "source": [
    "unique_values_count = df_train['customer_country'].nunique()\n",
    "print(\"고유값 개수:\", unique_values_count)"
   ]
  },
  {
   "cell_type": "markdown",
   "id": "86be6d2a",
   "metadata": {},
   "source": [
    "df_train['customer_country'].unique()"
   ]
  },
  {
   "cell_type": "markdown",
   "id": "690639b9",
   "metadata": {},
   "source": [
    "plot_top_conversion_rates(df_train, 'customer_country', 'is_converted', top_n=30)"
   ]
  },
  {
   "cell_type": "markdown",
   "id": "10f8fddf-b57b-4bc8-8a04-98e18daf664b",
   "metadata": {},
   "source": [
    "# 2. business_unit"
   ]
  },
  {
   "cell_type": "markdown",
   "id": "794e63fc-1099-419b-b861-ce1213440a20",
   "metadata": {},
   "source": [
    "# 3. com_reg_ver_win_rate\n",
    "- (Vertical Level 1, business unit, region을 기준으로 oppty 비율을 계산)"
   ]
  },
  {
   "cell_type": "code",
   "execution_count": 23,
   "id": "d9c4c397-0acc-4152-b463-0fce8636f28c",
   "metadata": {},
   "outputs": [
    {
     "name": "stdout",
     "output_type": "stream",
     "text": [
      "44731\n",
      "3483\n"
     ]
    }
   ],
   "source": [
    "print(df_train['com_reg_ver_win_rate'].isnull().sum())\n",
    "print(df_test['com_reg_ver_win_rate'].isnull().sum())"
   ]
  },
  {
   "cell_type": "markdown",
   "id": "32f5e375",
   "metadata": {},
   "source": [
    "df_train['com_reg_ver_win_rate'].unique()"
   ]
  },
  {
   "cell_type": "code",
   "execution_count": 24,
   "id": "4146403c-e489-46ca-a2b5-0d46e9c6e7b5",
   "metadata": {},
   "outputs": [],
   "source": [
    "# 결측치 -> 0으로 대체"
   ]
  },
  {
   "cell_type": "code",
   "execution_count": 25,
   "id": "69afbb23-d282-4b18-ab69-f6f79dec2d3f",
   "metadata": {},
   "outputs": [],
   "source": [
    "df_train['com_reg_ver_win_rate'] = df_train['com_reg_ver_win_rate'].fillna(0)\n",
    "df_test['com_reg_ver_win_rate'] = df_test['com_reg_ver_win_rate'].fillna(0)"
   ]
  },
  {
   "cell_type": "code",
   "execution_count": 26,
   "id": "bc7c32c4-592e-45e0-871a-7b5db36b3e4a",
   "metadata": {},
   "outputs": [
    {
     "name": "stdout",
     "output_type": "stream",
     "text": [
      "0\n",
      "0\n"
     ]
    }
   ],
   "source": [
    "print(df_train['com_reg_ver_win_rate'].isnull().sum())\n",
    "print(df_test['com_reg_ver_win_rate'].isnull().sum())"
   ]
  },
  {
   "cell_type": "markdown",
   "id": "f714f97a",
   "metadata": {},
   "source": [
    "plot_top_conversion_rates(df_train, 'com_reg_ver_win_rate', 'is_converted', top_n=30)"
   ]
  },
  {
   "cell_type": "markdown",
   "id": "f20c5a38-55b3-47e4-8fad-bf7e83e198bd",
   "metadata": {},
   "source": [
    "# 4.customer_idx"
   ]
  },
  {
   "cell_type": "code",
   "execution_count": 27,
   "id": "e183819c-f975-4df1-9b45-c1d2926f1aa6",
   "metadata": {},
   "outputs": [
    {
     "data": {
      "text/plain": [
       "array([32160, 23122,  1755, ..., 19249, 40327, 30268])"
      ]
     },
     "execution_count": 27,
     "metadata": {},
     "output_type": "execute_result"
    }
   ],
   "source": [
    "df_train['customer_idx'].unique()"
   ]
  },
  {
   "cell_type": "code",
   "execution_count": 28,
   "id": "1c4a7c29-b3e9-4feb-b529-329a39324ca9",
   "metadata": {},
   "outputs": [
    {
     "name": "stdout",
     "output_type": "stream",
     "text": [
      "0\n",
      "0\n"
     ]
    }
   ],
   "source": [
    "print(df_train['customer_idx'].isnull().sum())\n",
    "print(df_test['customer_idx'].isnull().sum())"
   ]
  },
  {
   "cell_type": "code",
   "execution_count": 29,
   "id": "201fcb7e-4b2c-4c2f-a231-b765ae958c4c",
   "metadata": {},
   "outputs": [
    {
     "data": {
      "text/plain": [
       "customer_idx\n",
       "47466    7686\n",
       "25096    2421\n",
       "37680     367\n",
       "18030     331\n",
       "21321     162\n",
       "         ... \n",
       "39487       1\n",
       "41241       1\n",
       "39422       1\n",
       "22515       1\n",
       "30268       1\n",
       "Name: count, Length: 35112, dtype: int64"
      ]
     },
     "execution_count": 29,
     "metadata": {},
     "output_type": "execute_result"
    }
   ],
   "source": [
    "df_train['customer_idx'].value_counts()"
   ]
  },
  {
   "cell_type": "code",
   "execution_count": 30,
   "id": "0d1a0fb8-dcd6-4946-9303-2ed9afcd9475",
   "metadata": {},
   "outputs": [
    {
     "name": "stdout",
     "output_type": "stream",
     "text": [
      "{16384, 1, 4, 8200, 9, 32776, 32779, 24588, 24589, 40973, 8208, 24592, 40976, 32787, 22, 40983, 8219, 30, 36, 8231, 24619, 43, 32813, 32814, 16431, 48, 24620, 8242, 41007, 54, 24632, 8249, 16452, 69, 24644, 8266, 8271, 41043, 16467, 24661, 32857, 16477, 24672, 32866, 24675, 32868, 104, 107, 41070, 16495, 41071, 113, 16497, 24691, 8305, 24687, 32888, 32892, 130, 41094, 136, 16521, 24714, 41098, 24717, 41103, 41108, 24727, 32924, 156, 163, 32931, 166, 167, 41137, 16562, 8372, 24758, 183, 41143, 32952, 8379, 41155, 32964, 16580, 32965, 32968, 32969, 24777, 16587, 204, 203, 205, 41166, 24778, 8401, 24780, 8406, 214, 24795, 41180, 8414, 16609, 16610, 8418, 32996, 8417, 33003, 24814, 16623, 16627, 41214, 24831, 256, 16641, 16645, 33033, 16651, 24844, 33037, 24846, 24848, 41235, 8474, 8475, 33050, 33052, 24862, 8479, 8480, 41247, 16681, 16683, 33072, 41265, 33078, 41273, 41274, 315, 24895, 16705, 8514, 33093, 24902, 24903, 24904, 41289, 8522, 24909, 33102, 8526, 33105, 33106, 33107, 33108, 24917, 33115, 33119, 33121, 355, 356, 8549, 8552, 361, 362, 364, 24946, 8563, 16756, 24949, 377, 386, 387, 8578, 8584, 395, 16780, 41360, 8592, 41361, 403, 24985, 33179, 41378, 419, 8612, 16805, 41383, 16807, 16813, 16814, 16817, 16821, 445, 33214, 446, 8640, 449, 41410, 451, 448, 453, 25030, 454, 452, 450, 41417, 25035, 8654, 16848, 41425, 8659, 25044, 469, 8662, 33240, 473, 8667, 476, 16859, 25057, 41442, 33252, 8677, 41447, 25063, 41451, 16876, 33262, 8687, 16381, 33267, 25079, 33272, 41467, 16892, 41470, 16896, 8706, 33285, 518, 33287, 8712, 25094, 41481, 41482, 8716, 25098, 25103, 16912, 8722, 8723, 8725, 33303, 8731, 25116, 25119, 41504, 8744, 41516, 33325, 25139, 33335, 41527, 16954, 8764, 25152, 8776, 16969, 33359, 16976, 8788, 16982, 41566, 33378, 16996, 33386, 41580, 8814, 622, 41584, 8816, 33394, 17012, 17014, 17017, 25211, 41597, 8830, 33406, 17024, 8832, 17028, 647, 41608, 33418, 41615, 8847, 25236, 33428, 17047, 664, 25241, 41629, 8862, 25246, 33443, 25252, 8870, 41638, 33447, 8874, 25261, 25263, 41651, 17076, 8885, 33459, 33463, 41656, 698, 17084, 703, 25280, 25283, 17094, 17096, 25289, 713, 720, 33494, 729, 8936, 41705, 41707, 751, 8944, 33524, 25335, 8954, 17147, 8955, 766, 8959, 25343, 773, 774, 33543, 777, 8969, 33549, 8975, 25360, 33552, 41752, 25369, 25368, 17179, 17186, 8997, 17194, 17199, 41777, 17204, 17207, 41784, 823, 9018, 832, 833, 9028, 837, 838, 9030, 9032, 843, 9036, 41807, 9039, 9045, 17238, 41815, 41818, 17248, 25441, 9059, 33635, 870, 41831, 17257, 33642, 17262, 17263, 17264, 41841, 41840, 881, 887, 17274, 33658, 9085, 893, 25472, 25479, 17295, 918, 33689, 9115, 33691, 9116, 17312, 33697, 25506, 9124, 17320, 937, 938, 33709, 17326, 9135, 946, 9139, 41907, 9141, 9144, 9149, 25538, 41934, 33745, 978, 983, 33751, 32761, 25567, 25568, 9185, 17378, 9189, 17382, 9190, 9192, 997, 25584, 17394, 17395, 17396, 9207, 17400, 41978, 9211, 9212, 1022, 25601, 1026, 41988, 1029, 33798, 9223, 33799, 17417, 41995, 33809, 33811, 1045, 9239, 33815, 33819, 42016, 1057, 25636, 42025, 9258, 33838, 9263, 9266, 42034, 9267, 33845, 25656, 9273, 1082, 33851, 1081, 25663, 9279, 25665, 42050, 1089, 1097, 42064, 33873, 33875, 1108, 33877, 33881, 42076, 17504, 17506, 9317, 25702, 1127, 42088, 33895, 1128, 42087, 25713, 25714, 1140, 1143, 25720, 42107, 33915, 9343, 33920, 17537, 1154, 9344, 42120, 17545, 9353, 33930, 9360, 33936, 33940, 42133, 17558, 33950, 1183, 17569, 42151, 1192, 1194, 33963, 33962, 42157, 33973, 1208, 9401, 9405, 17597, 9406, 9411, 17604, 1226, 25803, 33997, 25810, 9426, 42196, 17619, 42202, 17627, 17628, 42207, 9439, 34021, 25830, 34023, 34024, 9452, 9454, 1262, 1265, 42232, 42236, 34047, 1280, 25856, 25855, 42242, 34053, 1286, 34057, 34058, 25870, 42256, 1296, 34068, 42262, 34071, 9497, 34073, 34075, 1306, 9498, 34078, 34079, 17695, 17697, 42273, 34083, 25892, 25893, 42278, 34086, 42277, 9505, 9515, 42287, 9522, 25911, 9530, 42298, 9535, 34114, 42310, 1351, 42311, 9552, 34128, 9558, 42326, 9560, 1369, 42330, 9562, 42333, 9567, 9569, 42340, 1385, 25963, 17775, 9584, 1393, 34159, 9587, 1396, 1397, 25974, 9591, 1400, 17783, 42358, 9595, 17786, 42361, 9599, 42369, 9603, 25988, 9607, 1418, 34188, 17804, 42382, 1423, 34192, 34193, 26002, 9614, 1425, 1426, 9626, 1436, 1437, 1438, 26016, 42400, 26018, 34215, 26027, 34219, 34222, 9647, 26032, 26034, 1465, 1466, 42426, 17850, 34237, 34239, 9666, 17859, 9667, 26052, 9670, 9672, 42440, 34248, 1484, 1485, 9676, 17875, 9687, 1507, 26091, 9709, 42479, 42481, 9715, 9722, 42493, 34311, 42511, 26132, 34326, 26135, 34328, 17944, 1562, 1564, 26141, 17951, 1568, 42531, 42535, 9769, 26154, 26155, 1580, 1577, 42542, 17967, 26160, 17966, 9778, 9786, 17978, 34365, 9792, 1604, 1607, 1608, 9801, 34384, 18009, 18012, 18013, 26207, 26208, 26209, 1633, 26211, 9829, 18027, 42604, 42605, 34414, 42607, 9839, 1649, 1645, 9843, 9842, 34420, 42616, 26233, 34428, 42622, 9854, 9855, 34432, 34434, 42627, 9859, 26245, 9861, 26251, 1676, 1677, 18062, 34447, 26254, 18067, 34453, 18070, 18069, 34456, 42649, 42650, 34462, 42656, 9890, 42659, 18085, 1702, 18090, 9903, 1712, 42677, 34487, 9914, 34490, 34491, 26303, 34496, 26305, 26311, 18122, 42701, 9935, 34514, 18133, 9942, 18135, 34519, 42715, 9949, 18142, 34529, 34530, 34532, 26342, 26343, 34535, 18150, 18152, 18155, 9962, 1766, 26355, 1781, 42748, 1790, 42753, 26372, 26374, 18182, 9994, 26378, 34573, 34577, 34578, 10005, 26389, 10012, 1820, 10013, 34597, 18216, 34603, 1836, 26412, 42801, 18225, 26422, 42806, 10041, 42811, 18236, 18235, 10047, 34626, 18243, 34629, 1862, 18245, 34641, 1874, 18259, 18261, 42837, 10072, 34651, 42845, 26462, 18269, 1890, 26467, 26468, 26466, 34659, 1894, 10088, 34667, 42860, 1907, 1910, 10105, 42875, 10107, 10109, 34687, 10111, 1919, 42882, 34688, 42887, 18314, 1931, 18316, 18320, 10128, 34706, 10129, 42900, 26517, 42902, 34711, 10132, 1947, 42910, 1950, 34722, 42922, 1962, 18349, 42928, 34742, 1975, 10168, 1979, 26555, 42942, 1983, 1985, 42948, 10180, 34761, 34765, 34768, 26580, 26585, 26587, 18399, 2016, 42978, 42979, 34789, 10215, 26601, 10219, 18414, 26606, 18416, 42993, 26609, 26611, 26614, 10231, 34809, 2042, 18426, 18436, 2053, 2057, 2058, 43021, 26643, 18453, 2070, 34839, 34838, 43033, 26649, 10267, 10266, 10272, 2081, 2082, 10275, 34852, 34850, 34848, 18477, 43055, 26671, 43059, 43062, 2114, 10311, 2124, 2126, 34895, 2128, 10322, 10325, 18518, 34904, 10332, 10340, 10342, 26727, 2151, 43111, 10349, 43119, 10352, 10354, 18547, 18548, 34933, 43123, 26743, 18555, 26748, 26749, 2173, 2174, 2176, 2172, 18557, 18556, 43141, 2188, 2192, 10385, 2193, 34963, 18581, 34968, 2201, 2202, 43160, 43165, 43167, 26785, 18600, 43178, 10412, 26799, 18611, 2229, 43189, 34998, 18617, 43196, 10428, 43202, 10435, 18628, 2246, 18633, 26825, 18637, 43214, 2253, 18646, 43223, 2266, 10463, 26851, 35044, 18660, 35049, 26858, 35056, 43250, 26867, 18677, 18678, 35066, 18685, 35072, 2308, 10504, 18698, 18704, 26897, 35093, 2325, 10517, 2329, 35097, 26907, 2333, 35104, 26922, 10539, 43308, 26924, 18733, 35119, 35121, 26933, 10550, 43319, 43320, 10551, 35130, 26939, 10556, 43323, 18749, 26943, 10558, 18754, 26946, 2372, 43334, 26951, 35144, 2378, 26957, 10577, 18782, 18787, 2404, 10598, 10601, 26987, 35181, 43375, 35184, 2417, 2422, 2427, 35195, 27012, 18823, 18824, 2449, 2452, 43413, 35228, 27036, 35233, 2469, 35237, 2470, 2475, 18859, 35245, 35247, 2479, 43443, 27060, 2486, 18870, 18873, 27067, 27068, 10689, 18882, 10692, 18892, 35277, 27086, 2510, 18898, 27093, 10711, 35287, 10713, 10715, 27100, 10717, 27105, 35299, 43492, 35302, 43499, 27116, 35314, 27122, 10740, 35318, 18935, 18936, 18938, 27135, 35327, 35329, 10756, 27142, 10760, 43529, 2572, 18957, 18958, 27150, 43539, 27160, 10779, 27164, 2589, 18980, 2601, 43562, 43568, 43570, 35386, 10811, 27196, 35389, 19012, 27207, 27208, 10827, 43598, 2638, 2645, 43610, 19035, 19038, 10849, 27239, 2664, 19049, 19052, 2668, 19064, 2687, 43652, 19077, 43655, 19083, 35469, 43662, 2702, 27280, 2701, 10896, 35473, 19090, 35477, 19093, 2709, 19089, 19103, 10913, 10915, 27302, 27305, 2730, 27307, 43691, 10924, 43693, 19117, 19119, 10929, 2747, 2753, 35523, 19144, 43721, 35529, 2761, 19152, 10962, 27348, 27353, 27354, 10972, 35548, 10976, 19170, 2790, 10985, 2793, 10987, 43755, 10990, 19183, 19184, 10992, 10991, 35571, 2804, 10996, 43767, 10999, 43769, 11001, 11003, 43770, 11009, 43783, 11021, 19216, 43792, 11031, 43802, 43803, 27420, 11039, 2852, 35621, 35622, 35623, 19237, 2857, 43817, 2859, 35628, 27434, 19245, 11056, 19253, 2870, 43835, 2876, 35645, 19271, 43847, 43850, 43851, 11083, 11084, 27470, 27467, 19280, 27468, 43859, 2900, 11091, 27479, 27480, 35672, 19292, 11103, 11108, 43879, 43880, 11115, 35696, 11121, 35699, 43894, 11127, 11126, 27513, 27514, 27518, 27519, 43902, 11137, 27522, 11140, 2948, 11142, 19335, 43912, 11145, 35720, 2950, 11148, 35725, 2961, 11155, 27540, 11161, 27546, 43929, 43932, 11165, 19357, 27558, 43943, 2983, 43945, 35753, 35758, 19374, 11182, 27571, 11187, 43961, 3002, 19387, 27578, 3007, 19392, 3009, 35778, 3008, 3017, 43978, 11220, 43988, 11228, 11234, 11235, 35814, 11240, 27625, 27626, 19435, 44014, 44015, 35824, 11249, 3055, 11251, 44017, 35822, 44020, 11256, 11257, 35833, 11263, 27649, 3077, 35850, 44044, 11276, 19474, 11283, 19479, 11288, 35864, 27675, 44062, 19489, 3108, 11300, 35878, 44070, 11301, 11308, 27701, 27707, 11323, 19517, 3137, 11331, 27715, 44104, 35916, 11340, 44111, 19537, 44114, 27731, 19539, 44117, 3163, 35932, 27742, 19553, 11368, 35955, 44157, 27777, 19587, 35971, 11395, 11398, 3210, 35982, 11408, 11409, 11410, 27795, 3221, 11413, 19607, 44181, 44186, 27803, 19611, 3230, 3232, 19616, 27812, 44200, 11434, 19628, 3250, 19638, 3255, 36033, 44228, 36037, 11461, 11463, 27846, 44233, 44232, 44235, 3276, 44229, 11471, 3281, 36050, 36049, 3282, 11480, 27872, 44259, 3300, 3303, 36072, 27881, 19693, 3310, 19695, 19700, 11512, 11514, 27907, 36100, 36102, 3336, 44296, 19722, 44299, 3340, 36110, 19726, 11536, 3345, 44307, 36117, 44310, 44313, 11549, 27936, 36129, 11555, 44323, 19753, 19754, 27948, 27949, 3375, 27952, 11569, 19764, 44341, 11578, 27976, 19784, 11592, 36170, 44361, 19789, 19790, 27983, 27984, 27986, 19796, 19799, 44376, 3415, 44381, 44385, 44387, 28004, 28006, 44392, 36201, 44394, 19823, 3441, 19829, 11637, 44407, 3448, 28027, 36222, 19843, 11654, 3463, 28038, 36233, 19849, 3468, 19855, 3474, 19859, 44436, 28056, 19867, 19873, 19874, 28078, 44463, 44464, 28081, 3509, 44470, 44471, 19896, 11703, 28086, 36285, 44478, 19901, 44479, 28099, 3526, 44487, 11720, 19913, 3530, 28106, 36304, 28112, 19924, 11733, 44504, 3545, 11739, 44508, 3548, 36318, 44510, 28133, 28134, 11751, 11757, 19954, 11764, 36341, 28148, 19956, 11772, 28158, 28160, 28161, 36354, 44548, 36356, 28166, 36363, 44555, 3595, 3597, 44558, 44559, 28176, 36369, 36364, 28180, 36373, 44570, 36379, 44572, 36382, 11807, 28193, 20002, 11810, 3622, 44586, 44587, 3628, 28204, 28206, 28209, 20019, 20022, 28217, 28218, 36411, 44604, 3649, 28227, 3656, 3657, 44621, 28237, 11857, 20055, 11863, 28250, 44640, 44643, 11876, 3686, 36454, 28264, 20073, 3696, 44660, 11893, 44662, 3702, 36468, 28285, 44671, 44673, 28290, 11906, 36484, 28289, 3715, 11912, 3720, 44682, 20106, 3724, 3725, 36493, 3732, 3733, 3734, 3743, 36511, 3745, 28325, 28327, 20138, 36524, 44717, 11948, 44719, 20144, 44721, 3766, 36543, 36545, 3778, 20161, 44742, 11976, 20169, 44744, 3787, 3788, 36557, 28370, 3805, 3806, 28383, 36578, 20195, 28390, 20201, 12014, 36591, 3826, 3828, 36598, 44794, 28411, 36604, 20219, 36606, 28418, 28419, 28421, 3846, 20232, 3848, 3849, 3850, 28425, 3857, 12049, 44821, 3862, 12056, 28441, 3868, 3869, 3871, 12065, 28452, 12069, 12072, 3883, 28460, 12080, 12081, 44852, 12086, 3896, 44856, 36667, 12092, 44871, 3913, 12106, 3915, 3916, 3917, 36683, 44880, 20304, 20308, 36693, 44885, 12122, 44890, 12123, 3931, 3938, 12130, 36708, 44898, 20326, 28519, 44902, 3945, 28522, 28521, 28524, 44916, 12148, 44918, 12150, 12156, 3968, 12161, 28546, 3971, 3969, 28547, 20358, 44934, 20356, 44936, 12169, 3979, 12163, 36749, 12180, 28572, 20382, 12195, 36772, 20388, 20390, 44970, 28588, 44978, 4018, 20411, 36798, 20415, 28609, 28615, 20424, 12232, 36808, 36811, 20430, 36821, 4054, 20439, 12249, 20443, 28635, 45021, 12256, 36833, 20450, 12259, 28645, 45029, 28646, 45031, 45034, 4077, 12269, 36850, 36851, 20470, 4087, 45049, 4091, 45051, 36870, 12299, 36881, 36887, 36892, 20510, 36895, 4128, 36898, 36900, 4134, 45095, 28713, 28715, 36907, 20531, 4150, 28727, 4155, 45115, 4157, 20541, 45119, 12350, 28737, 4162, 28739, 12356, 4165, 4166, 45125, 4168, 4169, 20546, 28747, 36939, 12364, 45132, 20560, 20561, 20566, 12375, 12376, 28762, 4186, 28763, 4189, 45148, 20575, 20570, 4198, 20583, 12391, 4201, 20587, 28779, 20592, 20594, 45171, 4218, 28811, 28812, 12430, 12432, 4241, 20626, 4240, 45204, 12433, 45214, 45220, 45222, 4263, 4264, 28841, 20649, 37033, 20652, 4265, 20650, 45234, 20658, 28852, 20661, 4279, 12472, 4282, 20668, 12477, 12479, 20672, 45253, 20682, 20685, 37070, 28881, 4306, 28883, 4310, 20696, 4313, 28889, 37083, 4317, 28894, 12511, 28898, 20706, 28901, 12520, 20716, 12524, 45294, 12525, 37107, 45301, 45302, 4343, 28917, 12543, 12550, 20742, 20746, 20747, 4364, 28941, 20751, 20752, 45335, 4378, 37146, 20766, 12576, 37155, 45348, 4389, 4391, 4396, 37166, 12597, 28981, 37175, 4411, 28992, 20805, 4421, 4425, 12618, 12622, 29007, 45393, 29009, 12627, 37204, 29015, 12633, 12637, 45406, 4447, 29027, 29029, 4455, 12647, 4464, 37233, 29047, 37242, 37243, 4474, 20862, 20864, 37250, 20866, 37255, 37257, 20874, 20875, 45452, 4494, 20879, 37265, 37266, 4497, 37270, 29084, 29085, 29087, 45473, 29090, 37285, 4518, 45479, 20906, 45484, 12720, 20914, 29112, 4539, 12744, 29136, 4563, 45523, 29148, 12773, 37352, 12778, 20972, 29164, 20975, 20979, 20980, 45558, 29178, 20986, 37372, 12796, 4606, 37375, 12799, 29187, 37381, 29191, 36738, 45579, 4621, 45583, 12816, 29199, 21010, 12819, 37395, 45590, 4632, 45594, 4639, 4640, 29217, 29223, 12841, 37418, 4651, 45612, 37419, 12844, 12850, 12852, 29238, 12855, 37443, 12868, 21065, 21071, 37457, 29271, 37465, 4698, 45657, 12891, 12890, 45663, 37473, 21090, 45667, 45670, 12906, 29293, 4719, 21107, 4723, 45685, 45686, 37492, 37498, 4731, 29308, 12925, 37502, 21119, 21117, 21125, 29319, 37512, 29321, 4749, 29328, 21138, 21142, 21147, 45726, 37535, 37537, 45733, 12966, 29350, 21162, 4781, 45741, 4784, 45747, 4788, 45750, 21175, 45753, 45754, 21181, 37567, 12995, 45766, 29383, 13000, 29384, 21194, 4811, 13006, 45775, 37584, 37585, 13013, 37592, 29402, 21213, 29413, 29415, 37611, 45804, 45806, 29426, 13044, 4854, 45815, 13052, 45823, 45824, 21248, 44929, 4867, 13061, 45829, 45830, 21256, 21253, 37640, 29452, 4877, 4883, 4885, 45849, 21275, 4894, 4899, 4900, 13096, 4907, 21292, 13101, 45871, 37681, 21302, 21306, 45884, 37704, 4938, 45900, 21326, 37710, 37713, 13138, 45907, 4951, 21337, 21338, 13151, 29539, 45925, 29542, 21352, 13164, 29549, 21359, 29554, 13178, 29562, 45949, 29566, 13183, 13188, 29577, 37773, 45971, 5012, 13205, 13206, 13207, 37784, 5014, 29592, 5013, 29596, 21405, 21409, 13218, 5028, 5030, 37799, 5033, 13226, 45995, 13229, 21423, 29616, 37810, 5043, 13237, 46009, 29626, 46011, 29628, 5053, 21441, 13253, 46022, 46021, 13256, 13257, 46028, 21454, 29647, 46034, 46036, 13276, 46045, 5091, 37863, 46057, 37877, 5113, 29693, 46078, 46085, 37894, 5128, 29708, 29711, 29712, 13331, 46099, 29717, 5142, 29719, 29718, 29721, 37914, 13339, 13341, 29734, 46119, 37926, 29737, 13355, 21551, 13360, 21554, 37940, 13368, 13369, 13373, 5181, 29761, 5186, 37955, 13380, 13386, 37964, 13389, 46158, 46156, 13395, 21589, 21590, 13401, 5210, 21595, 37980, 21597, 21598, 5213, 37984, 13414, 38000, 29809, 21618, 46195, 29812, 21620, 5238, 38004, 21626, 13437, 29821, 21633, 46210, 46211, 46214, 38023, 21644, 21648, 46225, 13456, 21651, 46228, 46227, 21655, 46240, 29857, 29859, 38053, 38056, 46250, 5291, 21676, 21679, 38071, 5303, 29891, 21704, 29897, 38090, 29901, 21710, 38094, 29908, 5339, 38107, 38108, 21730, 46309, 46312, 21739, 38129, 29942, 46328, 38137, 5371, 21755, 38144, 46336, 38151, 29960, 29961, 5384, 21772, 13584, 21777, 13588, 46357, 21782, 13590, 21781, 38164, 13597, 21789, 29986, 5412, 5415, 29991, 29993, 21801, 5423, 30004, 38196, 30008, 46393, 46394, 5442, 21827, 30020, 46405, 38212, 30021, 38211, 21829, 5450, 38217, 38225, 5457, 46420, 46424, 38233, 21850, 38235, 38236, 38238, 5471, 5472, 38241, 46435, 30052, 30051, 5478, 5477, 21864, 5482, 46443, 46442, 13674, 30060, 13679, 21873, 30066, 13683, 46452, 46454, 38263, 30070, 5497, 13690, 5499, 13692, 38268, 30071, 13689, 30077, 30081, 21889, 13691, 46466, 21893, 46470, 5511, 46475, 13708, 21901, 46478, 21900, 46480, 21906, 46483, 30100, 5526, 30103, 46489, 5533, 46494, 30112, 5536, 13732, 13733, 21926, 38313, 5546, 5548, 13740, 30126, 38317, 21936, 30129, 30130, 5555, 38328, 5560, 21946, 38333, 21956, 46532, 5575, 38345, 13772, 38349, 38351, 38352, 13781, 21974, 13782, 21978, 30171, 46554, 5597, 30174, 13790, 46559, 5599, 30178, 5609, 21997, 13808, 5617, 46578, 22002, 46582, 13814, 30200, 46584, 38397, 5630, 46594, 5636, 13831, 5647, 38422, 38425, 5658, 5660, 13853, 5661, 13855, 5665, 46629, 30249, 5674, 5675, 30251, 13867, 38449, 5682, 5681, 22068, 30259, 22070, 5685, 13878, 38458, 30267, 5690, 38464, 13889, 5700, 5701, 5703, 46664, 13897, 46666, 13899, 30286, 22095, 46671, 5713, 13906, 46670, 5717, 30293, 13912, 22107, 38493, 5729, 13921, 30306, 13922, 38497, 30310, 30316, 30323, 13944, 38527, 38529, 5761, 13955, 30339, 46721, 30344, 38538, 22156, 38542, 5775, 22160, 46734, 46739, 22166, 13974, 30360, 5785, 22170, 5786, 5787, 5788, 22176, 5793, 46753, 30372, 22181, 22184, 22189, 30384, 5811, 22197, 46774, 14013, 38590, 46783, 5825, 38595, 5828, 5831, 46791, 5833, 38603, 22222, 30420, 30423, 30426, 38621, 14047, 5856, 38625, 22240, 46816, 46817, 5866, 38636, 14062, 5871, 5870, 30449, 5873, 14067, 22262, 22263, 30456, 38651, 14079, 30465, 38658, 22279, 22288, 14100, 5910, 30487, 46873, 38685, 5919, 38691, 22311, 22314, 14122, 22316, 38701, 14125, 14127, 14126, 22321, 14129, 5939, 5945, 22330, 14140, 22333, 46910, 5950, 46911, 5951, 30532, 14149, 30535, 38729, 14155, 14156, 38732, 22350, 38736, 22354, 38739, 30549, 22359, 5976, 5978, 22363, 5979, 5984, 38763, 22379, 46960, 6001, 46962, 30580, 30581, 22390, 46967, 14200, 22393, 38779, 46972, 38781, 46974, 38783, 14204, 30592, 14212, 46982, 30599, 22408, 46985, 30605, 22415, 6034, 30613, 14230, 6044, 6045, 6047, 14240, 30626, 6051, 22436, 38821, 14247, 22440, 30633, 30632, 38827, 14252, 22445, 6064, 14258, 14259, 30645, 14263, 30648, 30650, 38842, 47037, 22464, 6082, 47045, 38856, 47048, 47051, 38860, 6091, 14288, 30677, 6103, 22488, 22489, 30681, 47065, 47069, 30686, 6111, 14304, 38880, 30690, 47078, 38889, 14314, 22507, 47083, 30703, 6130, 30709, 6135, 38906, 47101, 22528, 6146, 6149, 22534, 14344, 6153, 14346, 14345, 30732, 6157, 38927, 14352, 22546, 6164, 6166, 14359, 22551, 38937, 30746, 27277, 14365, 22558, 47135, 6177, 22562, 14369, 38948, 14372, 30758, 38952, 47146, 22572, 14385, 47154, 6199, 22584, 30777, 22587, 6205, 38975, 14402, 30787, 47174, 6215, 22600, 38986, 14415, 6229, 39000, 39005, 14432, 47200, 47203, 6244, 22632, 22638, 14449, 39031, 30840, 14462, 6271, 6274, 47235, 6276, 14473, 22675, 6291, 14488, 14489, 47258, 6299, 6300, 6297, 14496, 14497, 6308, 14502, 6319, 47284, 14517, 39093, 22708, 39097, 14523, 14527, 14528, 6340, 47301, 6348, 22734, 30926, 22735, 47314, 22739, 6354, 6355, 39131, 47323, 22747, 6365, 30943, 47330, 14565, 47334, 14567, 47335, 39146, 47342, 30959, 14578, 6388, 30968, 47353, 39162, 47357, 6398, 14589, 22785, 47361, 30979, 14596, 47365, 39173, 47364, 39179, 47371, 39181, 30990, 30991, 6413, 14603, 22802, 47375, 47380, 39189, 14613, 14617, 47386, 47389, 47392, 6434, 47396, 47397, 39206, 47399, 39211, 22837, 31032, 22847, 6465, 6467, 31043, 22853, 31049, 14670, 6481, 6482, 6485, 39255, 14688, 31076, 39270, 47463, 6504, 6505, 22886, 22887, 39284, 6519, 14714, 39293, 39295, 14723, 14724, 39307, 6542, 14734, 22930, 39315, 14743, 6552, 14748, 6558, 39328, 22945, 14764, 22957, 22958, 39341, 31150, 6575, 14770, 14771, 6580, 14775, 14778, 6587, 22975, 14784, 39361, 39362, 6595, 31170, 14792, 39370, 39371, 39375, 22993, 31185, 14806, 31191, 31192, 14809, 39386, 39389, 39392, 14816, 39396, 14820, 31206, 23019, 23020, 6638, 23025, 23039, 6656, 39423, 14851, 14852, 39435, 31244, 23061, 23062, 23064, 39448, 31259, 6686, 23077, 14890, 14891, 31274, 23084, 39471, 23090, 23091, 6710, 39481, 39482, 6713, 23104, 39493, 6725, 6729, 31307, 14924, 39502, 31311, 14928, 23124, 6740, 39513, 14941, 39518, 39519, 6753, 6757, 6758, 6764, 23151, 39537, 6771, 14968, 23164, 23165, 14974, 31360, 23172, 14986, 39563, 31371, 39564, 23182, 23183, 39566, 31372, 6802, 6804, 6812, 6814, 6815, 23198, 6817, 15009, 39583, 23204, 31398, 39591, 39595, 31403, 15022, 39599, 23221, 6841, 39614, 15050, 31434, 23245, 15055, 31441, 6868, 23254, 15067, 31459, 23268, 23270, 31466, 31467, 23280, 6896, 23281, 39669, 15095, 15099, 31487, 6913, 23303, 15112, 23305, 39702, 15127, 6936, 15132, 15133, 6942, 6943, 31521, 6948, 15145, 31529, 31535, 6967, 31543, 15162, 39740, 39741, 6973, 6975, 6978, 23368, 23370, 15178, 15183, 39762, 15189, 15201, 15205, 39786, 23405, 39789, 23408, 31601, 7026, 31603, 23412, 23411, 7031, 39801, 39802, 15228, 31613, 7038, 7041, 15235, 23427, 31621, 31626, 23434, 31630, 39827, 7061, 39833, 15258, 15259, 7069, 23453, 15263, 23462, 31654, 31667, 23476, 15287, 23485, 31677, 23489, 39874, 7108, 31691, 31694, 7126, 7130, 7131, 23514, 7132, 39898, 31719, 31722, 23539, 39923, 7157, 23545, 31738, 15353, 7162, 15357, 23557, 15373, 23565, 39955, 15382, 39959, 31766, 39964, 23582, 39968, 23584, 39969, 31781, 39974, 31784, 15401, 23593, 39977, 15403, 15407, 31794, 39989, 31798, 7223, 31805, 31809, 7234, 7240, 7241, 31817, 31819, 23628, 40010, 23632, 15444, 23646, 23650, 23657, 40041, 7282, 15478, 7288, 31865, 15482, 40059, 23675, 7295, 23682, 23684, 40069, 31881, 31882, 31892, 23702, 31894, 40090, 7330, 7331, 40106, 15530, 40108, 31922, 15542, 15543, 40119, 40129, 40130, 31938, 7367, 31944, 40137, 40139, 15569, 23763, 7385, 40158, 40161, 31971, 15587, 31980, 40174, 7406, 40175, 7413, 15606, 40185, 40187, 40188, 31998, 15614, 32005, 23815, 32008, 23821, 7439, 23825, 40211, 7444, 15641, 32026, 40219, 23838, 40231, 7465, 23859, 15668, 15674, 7484, 7492, 32072, 32073, 7496, 32075, 40267, 40271, 23887, 23895, 23897, 23898, 7515, 40285, 40289, 7526, 23911, 7527, 15725, 7539, 7546, 32125, 15741, 7553, 40326, 23943, 40333, 15760, 15762, 23956, 23958, 32150, 32153, 23962, 15773, 7582, 32157, 23968, 7586, 32162, 7589, 32166, 32171, 40363, 23981, 7598, 15791, 15796, 15797, 40379, 23997, 32190, 32191, 40389, 24005, 32207, 15824, 7635, 40406, 7639, 32215, 15833, 24023, 32218, 7646, 40415, 7648, 40417, 40418, 7652, 40422, 24042, 7662, 40432, 15857, 15859, 40436, 32245, 15865, 7673, 7674, 24061, 32255, 15872, 40449, 32257, 32261, 15878, 15879, 40460, 24077, 15886, 40462, 15888, 32270, 24084, 7701, 40470, 40475, 15904, 15905, 15907, 32294, 40487, 7720, 7721, 7722, 40492, 15917, 24110, 15918, 24113, 24115, 7732, 32310, 40502, 7734, 15926, 24124, 32317, 40511, 15937, 32323, 15940, 32324, 7750, 24136, 24137, 7752, 40520, 40525, 40527, 24146, 7763, 32341, 32343, 32344, 7770, 15962, 7777, 24163, 32361, 40554, 7785, 24169, 32362, 32367, 7792, 15990, 24187, 7804, 7814, 24200, 24204, 32397, 24212, 24221, 7838, 24228, 16040, 32424, 32429, 7859, 40630, 32440, 32445, 16062, 24255, 16065, 7874, 40645, 16069, 7877, 7883, 7886, 32464, 16083, 16084, 40660, 40668, 16096, 7906, 24290, 16100, 40676, 24295, 32498, 40692, 16117, 16118, 40694, 24316, 24317, 7934, 16126, 24321, 24322, 40707, 24333, 40720, 40721, 40722, 40723, 32533, 32539, 32542, 7969, 24354, 7970, 32547, 32548, 7971, 24357, 16168, 16169, 24356, 16172, 40750, 7985, 16179, 32566, 16183, 7992, 32568, 32572, 40776, 8009, 16203, 40788, 16214, 24407, 32602, 8028, 24415, 16225, 40804, 32613, 40806, 8039, 32620, 8049, 8050, 16246, 32633, 16251, 16252, 24449, 32644, 16266, 16267, 32652, 8079, 16271, 40850, 24467, 40851, 40853, 16280, 40860, 16285, 8096, 16289, 32674, 8099, 8098, 32677, 32682, 24491, 24492, 16301, 32691, 40883, 32697, 32700, 32706, 32708, 8134, 40903, 8138, 40908, 16334, 40912, 16340, 32727, 40923, 24539, 24541, 40926, 8159, 16354, 24546, 24548, 32741, 24550, 8164, 8163, 32749, 24564, 8184, 24569, 8186, 32763, 16380, 24573, 32766}\n"
     ]
    }
   ],
   "source": [
    "# train에 없는 값이 test에 있을까? \n",
    "\n",
    "train_vals = set(df_train['customer_idx'].unique())\n",
    "test_vals = set(df_test['customer_idx'].unique())\n",
    "\n",
    "test_not_train = test_vals - train_vals\n",
    "\n",
    "print(test_not_train) "
   ]
  },
  {
   "cell_type": "code",
   "execution_count": 31,
   "id": "5fcce24a-51fe-4ca4-af9a-54f95bdb1a79",
   "metadata": {},
   "outputs": [
    {
     "name": "stdout",
     "output_type": "stream",
     "text": [
      "customer_idx\n",
      "0        4073\n",
      "47466     363\n",
      "9324      120\n",
      "23341      31\n",
      "37680      14\n",
      "         ... \n",
      "13574       1\n",
      "35229       1\n",
      "18392       1\n",
      "27319       1\n",
      "40292       1\n",
      "Name: count, Length: 446, dtype: int64\n"
     ]
    }
   ],
   "source": [
    "train_vals = set(df_train['customer_idx'].unique())\n",
    "test_vals = set(df_test['customer_idx'].unique())\n",
    "\n",
    "test_not_train = test_vals - train_vals\n",
    "\n",
    "# df_test['customer_idx'] 열에서 test_not_train에 해당하는 값이 있는지 확인합니다.\n",
    "mask = df_test['customer_idx'].isin(test_not_train)\n",
    "\n",
    "# df_test['customer_idx'] 값이 test_not_train에 해당하는 경우에만 0으로 대체합니다.\n",
    "df_test.loc[mask, 'customer_idx'] = 0\n",
    "\n",
    "# 업데이트된 값의 개수를 출력합니다.\n",
    "print(df_test['customer_idx'].value_counts())"
   ]
  },
  {
   "cell_type": "code",
   "execution_count": 32,
   "id": "63e9a59c-958d-4d87-8bb6-9d35ab6aa157",
   "metadata": {},
   "outputs": [
    {
     "name": "stdout",
     "output_type": "stream",
     "text": [
      "{0}\n"
     ]
    }
   ],
   "source": [
    "train_vals = set(df_train['customer_idx'].unique())\n",
    "test_vals = set(df_test['customer_idx'].unique())\n",
    "\n",
    "test_not_train = test_vals - train_vals\n",
    "\n",
    "print(test_not_train)"
   ]
  },
  {
   "cell_type": "code",
   "execution_count": 33,
   "id": "53ed9214-eff9-4142-8431-f079a8e60c7e",
   "metadata": {},
   "outputs": [
    {
     "name": "stdout",
     "output_type": "stream",
     "text": [
      "customer_idx\n",
      "46688    1\n",
      "43427    1\n",
      "23508    1\n",
      "3812     1\n",
      "36774    1\n",
      "        ..\n",
      "39487    1\n",
      "41241    1\n",
      "39422    1\n",
      "22515    1\n",
      "30268    1\n",
      "Name: count, Length: 500, dtype: int64\n"
     ]
    }
   ],
   "source": [
    "top_values = df_train['customer_idx'].value_counts().tail(500)\n",
    "print(top_values)"
   ]
  },
  {
   "cell_type": "code",
   "execution_count": 34,
   "id": "547766fd-dcdf-47d1-9585-338934b10246",
   "metadata": {},
   "outputs": [
    {
     "name": "stdout",
     "output_type": "stream",
     "text": [
      "False\n"
     ]
    }
   ],
   "source": [
    "print((df_train['customer_idx'] == 0).any())"
   ]
  },
  {
   "cell_type": "code",
   "execution_count": 35,
   "id": "adc00cd1-f339-4802-b70b-22be6c70a5f1",
   "metadata": {},
   "outputs": [
    {
     "name": "stdout",
     "output_type": "stream",
     "text": [
      "빈도수가 1인 행의 개수: 27331\n"
     ]
    }
   ],
   "source": [
    "count_1 = (df_train['customer_idx'].value_counts() == 1).sum()\n",
    "print(f\"빈도수가 1인 행의 개수: {count_1}\")"
   ]
  },
  {
   "cell_type": "code",
   "execution_count": 36,
   "id": "a6cade89-8cb0-461a-b58c-beddf9d1050c",
   "metadata": {},
   "outputs": [],
   "source": [
    "counts = df_train['customer_idx'].value_counts()\n",
    "threshold = 5\n",
    "low_frequency = counts[counts < threshold].index\n",
    "df_train['customer_idx'] = df_train['customer_idx'].replace(low_frequency, 0)"
   ]
  },
  {
   "cell_type": "code",
   "execution_count": 37,
   "id": "8471c892-783d-4d03-9735-dfbe5066b509",
   "metadata": {},
   "outputs": [],
   "source": [
    "counts = df_test['customer_idx'].value_counts()\n",
    "threshold = 5\n",
    "low_frequency = counts[counts < threshold].index\n",
    "df_test['customer_idx'] = df_test['customer_idx'].replace(low_frequency, 0)"
   ]
  },
  {
   "cell_type": "code",
   "execution_count": 38,
   "id": "df000acf-a9d3-4b28-a0fe-45ddd3e6dc98",
   "metadata": {},
   "outputs": [
    {
     "data": {
      "text/plain": [
       "customer_idx\n",
       "0        43599\n",
       "47466     7686\n",
       "25096     2421\n",
       "37680      367\n",
       "18030      331\n",
       "         ...  \n",
       "7741         5\n",
       "46552        5\n",
       "19854        5\n",
       "37990        5\n",
       "29127        5\n",
       "Name: count, Length: 466, dtype: int64"
      ]
     },
     "execution_count": 38,
     "metadata": {},
     "output_type": "execute_result"
    }
   ],
   "source": [
    "df_train['customer_idx'].value_counts()"
   ]
  },
  {
   "cell_type": "code",
   "execution_count": 39,
   "id": "ee76a113-8e26-4466-b5a0-85cdbb917c07",
   "metadata": {
    "scrolled": true
   },
   "outputs": [
    {
     "data": {
      "text/plain": [
       "customer_idx\n",
       "0        4612\n",
       "47466     363\n",
       "9324      120\n",
       "23341      31\n",
       "37680      14\n",
       "11685      13\n",
       "21321      11\n",
       "869        10\n",
       "22433       9\n",
       "4936        9\n",
       "21156       9\n",
       "25940       7\n",
       "32240       7\n",
       "27090       7\n",
       "555         6\n",
       "27737       6\n",
       "25309       6\n",
       "41880       6\n",
       "5961        5\n",
       "4275        5\n",
       "11579       5\n",
       "40491       5\n",
       "19804       5\n",
       "Name: count, dtype: int64"
      ]
     },
     "execution_count": 39,
     "metadata": {},
     "output_type": "execute_result"
    }
   ],
   "source": [
    "df_test['customer_idx'].value_counts()"
   ]
  },
  {
   "cell_type": "code",
   "execution_count": 40,
   "id": "ca7168fb-cf62-47d5-9084-5f82c971ac7f",
   "metadata": {},
   "outputs": [
    {
     "name": "stdout",
     "output_type": "stream",
     "text": [
      "{22433, 21156, 11685, 869, 5961, 555, 23341, 27090, 25940, 41880, 11579}\n"
     ]
    }
   ],
   "source": [
    "train_vals = set(df_train['customer_idx'].unique())\n",
    "test_vals = set(df_test['customer_idx'].unique())\n",
    "\n",
    "test_not_train = test_vals - train_vals\n",
    "\n",
    "print(test_not_train) "
   ]
  },
  {
   "cell_type": "code",
   "execution_count": 41,
   "id": "93974e00-e61e-4857-9bd4-aa2fac948d38",
   "metadata": {},
   "outputs": [
    {
     "name": "stdout",
     "output_type": "stream",
     "text": [
      "customer_idx\n",
      "0        4720\n",
      "47466     363\n",
      "9324      120\n",
      "37680      14\n",
      "21321      11\n",
      "4936        9\n",
      "32240       7\n",
      "27737       6\n",
      "25309       6\n",
      "4275        5\n",
      "40491       5\n",
      "19804       5\n",
      "Name: count, dtype: int64\n"
     ]
    }
   ],
   "source": [
    "import pandas as pd\n",
    "\n",
    "# 가정: df_test가 DataFrame이라고 가정합니다.\n",
    "train_vals = set(df_train['customer_idx'].unique())\n",
    "test_vals = set(df_test['customer_idx'].unique())\n",
    "\n",
    "test_not_train = test_vals - train_vals\n",
    "\n",
    "# df_test['customer_idx'] 열에서 test_not_train에 해당하는 값이 있는지 확인합니다.\n",
    "mask = df_test['customer_idx'].isin(test_not_train)\n",
    "\n",
    "# df_test['customer_idx'] 값이 test_not_train에 해당하는 경우에만 0으로 대체합니다.\n",
    "df_test.loc[mask, 'customer_idx'] = 0\n",
    "\n",
    "# 업데이트된 값의 개수를 출력합니다.\n",
    "print(df_test['customer_idx'].value_counts())"
   ]
  },
  {
   "cell_type": "code",
   "execution_count": 42,
   "id": "fdf0102c-4e17-4eaa-be67-86598bbd3d20",
   "metadata": {},
   "outputs": [
    {
     "name": "stdout",
     "output_type": "stream",
     "text": [
      "int64\n"
     ]
    }
   ],
   "source": [
    "# 'customer_idx' 열의 데이터 타입 확인\n",
    "print(df_train['customer_idx'].dtype)\n",
    "\n",
    "# 'customer_idx' 열을 범주형으로 변환 (만약 int64일 경우)!!!!?\n",
    "df_train['customer_idx'] = df_train['customer_idx'].astype(str)\n",
    "df_test['customer_idx'] = df_test['customer_idx'].astype(str)\n",
    "\n",
    "# TargetEncoder 적용\n",
    "target_encoder = TargetEncoder(smoothing=1.0)\n",
    "df_train['customer_idx'] = target_encoder.fit_transform(df_train['customer_idx'], df_train['is_converted'])\n",
    "df_test['customer_idx'] = target_encoder.transform(df_test['customer_idx'])  # 'transform'만 호출하여 새로운 데이터에 적용"
   ]
  },
  {
   "cell_type": "markdown",
   "id": "9d2499d9",
   "metadata": {},
   "source": [
    "plot_top_conversion_rates(df_train, 'customer_idx', 'is_converted', top_n=30)"
   ]
  },
  {
   "cell_type": "markdown",
   "id": "e1a6aee8",
   "metadata": {},
   "source": [
    "plot_top_conversion_rates(df_test, 'customer_idx', 'is_converted', top_n=30)"
   ]
  },
  {
   "cell_type": "markdown",
   "id": "cc0ca3be-dfe6-47e0-afec-48b930e681ac",
   "metadata": {},
   "source": [
    "# 5.customer_type"
   ]
  },
  {
   "cell_type": "code",
   "execution_count": 43,
   "id": "f5cc9ad9-9058-4e0a-a62f-32bf0118fa07",
   "metadata": {
    "scrolled": true
   },
   "outputs": [
    {
     "data": {
      "text/plain": [
       "customer_type\n",
       "End-Customer                    6647\n",
       "End Customer                    3996\n",
       "Specifier/ Influencer           2525\n",
       "Channel Partner                 1368\n",
       "Service Partner                  349\n",
       "Solution Eco-Partner             146\n",
       "Installer/Contractor              52\n",
       "Specifier / Influencer            43\n",
       "Corporate                         31\n",
       "HVAC Engineer                     23\n",
       "Engineer                          20\n",
       "Developer                         17\n",
       "Technician                        16\n",
       "Consultant                        15\n",
       "Other                             10\n",
       "Home Owner                        10\n",
       "End-user                           8\n",
       "Manager / Director                 8\n",
       "Software/Solution Provider         7\n",
       "Etc.                               6\n",
       "Architect/Consultant               5\n",
       "Homeowner                          5\n",
       "Reseller                           5\n",
       "Installer                          5\n",
       "Interior Designer                  5\n",
       "Distributor                        4\n",
       "Others                             4\n",
       "Dealer/Distributor                 2\n",
       "System Integrator                  2\n",
       "Software / Solution Provider       1\n",
       "Technical Assistant                1\n",
       "Commercial end-user                1\n",
       "Administrator                      1\n",
       "Name: count, dtype: int64"
      ]
     },
     "execution_count": 43,
     "metadata": {},
     "output_type": "execute_result"
    }
   ],
   "source": [
    "df_train['customer_type'].value_counts()"
   ]
  },
  {
   "cell_type": "code",
   "execution_count": 44,
   "id": "7ee9ff8d-6c43-46b3-9785-da29ec620a53",
   "metadata": {},
   "outputs": [],
   "source": [
    "# 소문자로 통일\n",
    "df_train['customer_type'] = df_train['customer_type'].str.lower()\n",
    "\n",
    "# 유사한 값 통합\n",
    "df_train['customer_type'].replace({'end customer': 'end-customer',\n",
    "                                   'specifier / influencer': 'specifier/influencer',\n",
    "                                   'homeowner': 'home owner',\n",
    "                                   'software / solution provider': 'software/solution provider',\n",
    "                                   'manager / director': 'manager/director'}, inplace=True)\n",
    "\n",
    "# 소문자로 통일\n",
    "df_test['customer_type'] = df_test['customer_type'].str.lower()\n",
    "\n",
    "# 유사한 값 통합\n",
    "df_test['customer_type'].replace({'end customer': 'end-customer',\n",
    "                                  'specifier / influencer': 'specifier/influencer',\n",
    "                                  'homeowner': 'home owner',\n",
    "                                  'software / solution provider': 'software/solution provider',\n",
    "                                  'manager / director': 'manager/director'}, inplace=True)"
   ]
  },
  {
   "cell_type": "code",
   "execution_count": 45,
   "id": "91dc2f3a-51ce-4235-8891-3fd1a0723318",
   "metadata": {
    "scrolled": true
   },
   "outputs": [
    {
     "data": {
      "text/plain": [
       "customer_type\n",
       "end-customer                  10643\n",
       "specifier/ influencer          2525\n",
       "channel partner                1368\n",
       "service partner                 349\n",
       "solution eco-partner            146\n",
       "installer/contractor             52\n",
       "specifier/influencer             43\n",
       "corporate                        31\n",
       "hvac engineer                    23\n",
       "engineer                         20\n",
       "developer                        17\n",
       "technician                       16\n",
       "consultant                       15\n",
       "home owner                       15\n",
       "other                            10\n",
       "software/solution provider        8\n",
       "manager/director                  8\n",
       "end-user                          8\n",
       "etc.                              6\n",
       "installer                         5\n",
       "interior designer                 5\n",
       "reseller                          5\n",
       "architect/consultant              5\n",
       "distributor                       4\n",
       "others                            4\n",
       "system integrator                 2\n",
       "dealer/distributor                2\n",
       "technical assistant               1\n",
       "commercial end-user               1\n",
       "administrator                     1\n",
       "Name: count, dtype: int64"
      ]
     },
     "execution_count": 45,
     "metadata": {},
     "output_type": "execute_result"
    }
   ],
   "source": [
    "df_train['customer_type'].value_counts()"
   ]
  },
  {
   "cell_type": "code",
   "execution_count": 46,
   "id": "43cf3381-ff69-471e-809d-45bb28781070",
   "metadata": {},
   "outputs": [],
   "source": [
    "counts = df_train['customer_type'].value_counts()\n",
    "threshold = 10\n",
    "low_frequency = counts[counts < threshold].index\n",
    "df_train['customer_type'] = df_train['customer_type'].replace(low_frequency, 'other')"
   ]
  },
  {
   "cell_type": "code",
   "execution_count": 47,
   "id": "f8d10939-8ee9-4cd4-93c3-75d7631c2495",
   "metadata": {},
   "outputs": [],
   "source": [
    "counts = df_test['customer_type'].value_counts()\n",
    "threshold = 10\n",
    "low_frequency = counts[counts < threshold].index\n",
    "df_test['customer_type'] = df_test['customer_type'].replace(low_frequency, 'other')"
   ]
  },
  {
   "cell_type": "code",
   "execution_count": 48,
   "id": "be8512d2-4476-4e3a-a675-7c7b7e89df86",
   "metadata": {},
   "outputs": [
    {
     "data": {
      "text/plain": [
       "customer_type\n",
       "end-customer             2454\n",
       "specifier/ influencer     788\n",
       "channel partner           327\n",
       "solution eco-partner      146\n",
       "service partner            98\n",
       "other                       1\n",
       "Name: count, dtype: int64"
      ]
     },
     "execution_count": 48,
     "metadata": {},
     "output_type": "execute_result"
    }
   ],
   "source": [
    "df_test['customer_type'].value_counts()"
   ]
  },
  {
   "cell_type": "code",
   "execution_count": 49,
   "id": "31cf67a2-5c6e-403a-854d-768c7f17e99b",
   "metadata": {},
   "outputs": [
    {
     "name": "stdout",
     "output_type": "stream",
     "text": [
      "set()\n"
     ]
    }
   ],
   "source": [
    "# train에 없는 값이 test에 있을까? \n",
    "\n",
    "train_vals = set(df_train['customer_type'].unique())\n",
    "test_vals = set(df_test['customer_type'].unique())\n",
    "\n",
    "test_not_train = test_vals - train_vals\n",
    "\n",
    "print(test_not_train) "
   ]
  },
  {
   "cell_type": "code",
   "execution_count": 50,
   "id": "bf5aae62-2c69-4e58-b8da-a8978fe594f2",
   "metadata": {},
   "outputs": [],
   "source": [
    "# TargetEncoder 적용\n",
    "target_encoder = TargetEncoder(smoothing=1.0)\n",
    "df_train['customer_type'] = target_encoder.fit_transform(df_train['customer_type'], df_train['is_converted'])\n",
    "df_test['customer_type'] = target_encoder.transform(df_test['customer_type'])  # 'transform'만 호출하여 새로운 데이터에 적용"
   ]
  },
  {
   "cell_type": "markdown",
   "id": "24f7ffed",
   "metadata": {},
   "source": [
    "plot_top_conversion_rates(df_train, 'customer_type', 'is_converted', top_n=30)"
   ]
  },
  {
   "cell_type": "markdown",
   "id": "420d6dd3",
   "metadata": {},
   "source": [
    "plot_top_conversion_rates(df_test, 'customer_type', 'is_converted', top_n=30)"
   ]
  },
  {
   "cell_type": "markdown",
   "id": "a7bab7dd-f8b9-4bb7-aea3-b3722d7d421e",
   "metadata": {},
   "source": [
    "# 6.historical_existing_cnt\n",
    "- 이전에 Converted(영업 전환) 되었던 횟수"
   ]
  },
  {
   "cell_type": "code",
   "execution_count": 51,
   "id": "283ea179-4a5a-4e30-a903-061f2601fbe8",
   "metadata": {},
   "outputs": [
    {
     "data": {
      "text/plain": [
       "historical_existing_cnt\n",
       "4.0       2957\n",
       "0.0       1973\n",
       "1.0       1967\n",
       "19.0      1441\n",
       "16.0      1132\n",
       "          ... \n",
       "404.0        1\n",
       "145.0        1\n",
       "1394.0       1\n",
       "199.0        1\n",
       "108.0        1\n",
       "Name: count, Length: 136, dtype: int64"
      ]
     },
     "execution_count": 51,
     "metadata": {},
     "output_type": "execute_result"
    }
   ],
   "source": [
    "df_train['historical_existing_cnt'].value_counts()"
   ]
  },
  {
   "cell_type": "code",
   "execution_count": 52,
   "id": "8f13313b-1bb6-4055-a692-28b3e4d9d49f",
   "metadata": {},
   "outputs": [
    {
     "data": {
      "text/plain": [
       "45543"
      ]
     },
     "execution_count": 52,
     "metadata": {},
     "output_type": "execute_result"
    }
   ],
   "source": [
    "df_train['historical_existing_cnt'].isnull().sum()"
   ]
  },
  {
   "cell_type": "code",
   "execution_count": 53,
   "id": "47971f7f-5cbb-461f-951a-0b5db61861c3",
   "metadata": {},
   "outputs": [
    {
     "data": {
      "text/plain": [
       "count    13756.000000\n",
       "mean        19.912184\n",
       "std         44.697938\n",
       "min          0.000000\n",
       "25%          1.000000\n",
       "50%          4.000000\n",
       "75%         19.000000\n",
       "max       1394.000000\n",
       "Name: historical_existing_cnt, dtype: float64"
      ]
     },
     "execution_count": 53,
     "metadata": {},
     "output_type": "execute_result"
    }
   ],
   "source": [
    "df_train['historical_existing_cnt'].describe()"
   ]
  },
  {
   "cell_type": "code",
   "execution_count": 54,
   "id": "278f9e3d-405f-4ce2-850a-6c67f29cda7b",
   "metadata": {},
   "outputs": [
    {
     "name": "stdout",
     "output_type": "stream",
     "text": [
      "19.91218377435301 4.0\n",
      "21.27294117647059 4.0\n"
     ]
    }
   ],
   "source": [
    "#중앙값으로 결측치 채우기 (중간값이 평균보다 적절.. )\n",
    "print(df_train['historical_existing_cnt'].mean(),df_train['historical_existing_cnt'].median())\n",
    "print(df_test['historical_existing_cnt'].mean(),df_test['historical_existing_cnt'].median())"
   ]
  },
  {
   "cell_type": "code",
   "execution_count": 55,
   "id": "9dce978c-e1df-48c8-bacb-63d79955a8a4",
   "metadata": {},
   "outputs": [],
   "source": [
    "df_train['historical_existing_cnt'].fillna(df_train['historical_existing_cnt'].median(), inplace=True)\n",
    "df_test['historical_existing_cnt'].fillna(df_test['historical_existing_cnt'].median(), inplace=True)"
   ]
  },
  {
   "cell_type": "markdown",
   "id": "a81545eb",
   "metadata": {},
   "source": [
    "plot_top_conversion_rates(df_train, 'historical_existing_cnt', 'is_converted', top_n=30)"
   ]
  },
  {
   "cell_type": "markdown",
   "id": "8a8dd496",
   "metadata": {},
   "source": [
    "plot_top_conversion_rates(df_test, 'historical_existing_cnt', 'is_converted', top_n=30)"
   ]
  },
  {
   "cell_type": "markdown",
   "id": "7bedaa92-538f-4ef0-bee2-1099bf9642d3",
   "metadata": {},
   "source": [
    "# 6. id_strategic_ver,it_strategic_ver,idit_strategic_ver\n",
    "- id_strategic_ver : (도메인 지식) 특정 사업부(Business Unit이 ID일 때), 특정 사업 영역(Vertical Level1)에 대해 가중치를 부여\n",
    "- it_strategic_ver :\t(도메인 지식) 특정 사업부(Business Unit이 IT일 때), 특정 사업 영역(Vertical Level1)에 대해 가중치를 부여\n",
    "- idit_strategic_ver : Id_strategic_ver이나 it_strategic_ver 값 중 하나라도 1의 값을 가지면 1 값으로 표현"
   ]
  },
  {
   "cell_type": "markdown",
   "id": "32fdb9af-969a-4a7f-80d1-71174f6c239b",
   "metadata": {},
   "source": [
    "# ※ 결측치가 특정 사업부를 의미한다면?\n",
    "ex) [business_unit'] == 'ID']['business_area'] 값이 있는 확인 결측치 대체"
   ]
  },
  {
   "cell_type": "code",
   "execution_count": 56,
   "id": "27969abe-7c9d-480a-9ef3-9f44d0e24eed",
   "metadata": {},
   "outputs": [
    {
     "data": {
      "text/plain": [
       "55855"
      ]
     },
     "execution_count": 56,
     "metadata": {},
     "output_type": "execute_result"
    }
   ],
   "source": [
    "df_train['id_strategic_ver'].isnull().sum()"
   ]
  },
  {
   "cell_type": "code",
   "execution_count": 57,
   "id": "cb9cee4a-1717-4548-b9f5-c22b491eaa7b",
   "metadata": {},
   "outputs": [
    {
     "data": {
      "text/plain": [
       "business_area\n",
       "corporate / office                2460\n",
       "retail                            2028\n",
       "education                         1356\n",
       "special purpose                   1075\n",
       "hotel & accommodation              984\n",
       "factory                            540\n",
       "government department              421\n",
       "residential (home)                 385\n",
       "public facility                    271\n",
       "transportation                     216\n",
       "hospital & health care             148\n",
       "power plant / renewable energy      43\n",
       "Name: count, dtype: int64"
      ]
     },
     "execution_count": 57,
     "metadata": {},
     "output_type": "execute_result"
    }
   ],
   "source": [
    "# 'business_unit'이 'ID'인 경우에 해당하는 'business_area' 값 출력\n",
    "df_train[df_train['business_unit'] == 'ID']['business_area'].value_counts()"
   ]
  },
  {
   "cell_type": "code",
   "execution_count": 58,
   "id": "7fb50fb0-02a9-4483-838c-40bb37b1bfdf",
   "metadata": {},
   "outputs": [
    {
     "data": {
      "text/plain": [
       "id_strategic_ver\n",
       "1.0    3444\n",
       "Name: count, dtype: int64"
      ]
     },
     "execution_count": 58,
     "metadata": {},
     "output_type": "execute_result"
    }
   ],
   "source": [
    "df_train['id_strategic_ver'].value_counts()"
   ]
  },
  {
   "cell_type": "code",
   "execution_count": 59,
   "id": "e1a50918-b9bd-40c5-b167-45dab22d8dfd",
   "metadata": {},
   "outputs": [
    {
     "data": {
      "text/plain": [
       "business_unit  business_area        \n",
       "ID             corporate / office       1.0\n",
       "               hotel & accommodation    1.0\n",
       "Name: id_strategic_ver, dtype: float64"
      ]
     },
     "execution_count": 59,
     "metadata": {},
     "output_type": "execute_result"
    }
   ],
   "source": [
    "# id_strategic_ver 열에서 NaN 값이 아닌 행들만 선택\n",
    "id_s_data = df_train.dropna(subset=['id_strategic_ver'])\n",
    "\n",
    "#business_unit과 business_area로 그룹을 지어 id_strategic_ver의 평균을 계산\n",
    "id_s_data_x = id_s_data.groupby(['business_unit', 'business_area'])['id_strategic_ver'].mean()\n",
    "id_s_data_x"
   ]
  },
  {
   "cell_type": "markdown",
   "id": "29609eca-f314-4f93-989b-c1392112b7e8",
   "metadata": {},
   "source": [
    "### !!! 특정 사업부(Business Unit이 ID일 때) 는 즉 corporate / office  hotel & accommodation 일때를 의미한다."
   ]
  },
  {
   "cell_type": "code",
   "execution_count": 60,
   "id": "0abede2a-5a32-4d66-acb1-a6b4432c4d71",
   "metadata": {},
   "outputs": [],
   "source": [
    "def fill_strategic_ver(df):\n",
    "    # 조건 설정\n",
    "    condition = (\n",
    "        (df['id_strategic_ver'].isna()) & \n",
    "        (df['business_unit'] == 'ID') & \n",
    "        ((df['business_area'] == 'corporate / office') | (df['business_area'] == 'hotel & accommodation'))\n",
    "    )\n",
    "\n",
    "    # 조건 해당하면 결측치를 1로 대체, 나머지는 0\n",
    "    df.loc[condition, 'id_strategic_ver'] = df.loc[condition, 'id_strategic_ver'].fillna(1)\n",
    "    df['id_strategic_ver'].fillna(0, inplace=True)\n",
    "\n",
    "fill_strategic_ver(df_train)\n",
    "fill_strategic_ver(df_test)"
   ]
  },
  {
   "cell_type": "markdown",
   "id": "18f19b4f",
   "metadata": {},
   "source": [
    "plot_top_conversion_rates(df_train, 'id_strategic_ver', 'is_converted', top_n=30)"
   ]
  },
  {
   "cell_type": "markdown",
   "id": "e90faef5",
   "metadata": {},
   "source": [
    "plot_top_conversion_rates(df_test, 'id_strategic_ver', 'is_converted', top_n=30)"
   ]
  },
  {
   "cell_type": "markdown",
   "id": "e5a1f0c7-9e80-470c-bde9-adc03c530aa7",
   "metadata": {},
   "source": [
    "# 7. it_strategic_ver"
   ]
  },
  {
   "cell_type": "code",
   "execution_count": 61,
   "id": "aa02153e-71d0-4208-9e14-66bdfccf49c1",
   "metadata": {},
   "outputs": [
    {
     "data": {
      "text/plain": [
       "58178"
      ]
     },
     "execution_count": 61,
     "metadata": {},
     "output_type": "execute_result"
    }
   ],
   "source": [
    "df_train['it_strategic_ver'].isnull().sum()"
   ]
  },
  {
   "cell_type": "code",
   "execution_count": 62,
   "id": "ec4523be-5241-4528-b96a-6d485dbd2f0b",
   "metadata": {},
   "outputs": [
    {
     "data": {
      "text/plain": [
       "business_area\n",
       "hospital & health care            895\n",
       "hotel & accommodation             791\n",
       "corporate / office                330\n",
       "retail                            163\n",
       "education                         150\n",
       "special purpose                   108\n",
       "factory                            83\n",
       "government department              49\n",
       "residential (home)                 42\n",
       "public facility                    40\n",
       "transportation                     33\n",
       "power plant / renewable energy      8\n",
       "Name: count, dtype: int64"
      ]
     },
     "execution_count": 62,
     "metadata": {},
     "output_type": "execute_result"
    }
   ],
   "source": [
    "# 'business_unit'이 'ID'인 경우에 해당하는 'business_area' 값 출력\n",
    "df_train[df_train['business_unit'] == 'IT']['business_area'].value_counts()"
   ]
  },
  {
   "cell_type": "code",
   "execution_count": 63,
   "id": "044b36cd-bf54-4a05-a2ee-c4bc48d0d733",
   "metadata": {},
   "outputs": [
    {
     "data": {
      "text/plain": [
       "it_strategic_ver\n",
       "1.0    1121\n",
       "Name: count, dtype: int64"
      ]
     },
     "execution_count": 63,
     "metadata": {},
     "output_type": "execute_result"
    }
   ],
   "source": [
    "df_train['it_strategic_ver'].value_counts()"
   ]
  },
  {
   "cell_type": "code",
   "execution_count": 64,
   "id": "bde1ebc0-c1a4-4e79-87f7-39f2dafbc1d9",
   "metadata": {},
   "outputs": [
    {
     "data": {
      "text/plain": [
       "business_unit  business_area        \n",
       "IT             corporate / office       1.0\n",
       "               hotel & accommodation    1.0\n",
       "Name: it_strategic_ver, dtype: float64"
      ]
     },
     "execution_count": 64,
     "metadata": {},
     "output_type": "execute_result"
    }
   ],
   "source": [
    "it_s_data = df_train.dropna(subset=['it_strategic_ver'])\n",
    "\n",
    "it_s_data_x = it_s_data.groupby(['business_unit', 'business_area'])['it_strategic_ver'].mean()\n",
    "it_s_data_x"
   ]
  },
  {
   "cell_type": "code",
   "execution_count": 65,
   "id": "c9da8ffd-6a50-46ec-ae67-5bb01e6abe21",
   "metadata": {},
   "outputs": [],
   "source": [
    "def fill_strategic_ver(df):\n",
    "    # 조건 설정\n",
    "    condition = (\n",
    "        (df['it_strategic_ver'].isna()) & \n",
    "        (df['business_unit'] == 'IT') & \n",
    "        ((df['business_area'] == 'corporate / office') | (df['business_area'] == 'hotel & accommodation'))\n",
    "    )\n",
    "\n",
    "    # 조건 해당하면 결측치를 1로 대체, 나머지는 0\n",
    "    df.loc[condition, 'it_strategic_ver'] = df.loc[condition, 'it_strategic_ver'].fillna(1)\n",
    "    df['it_strategic_ver'].fillna(0, inplace=True)\n",
    "\n",
    "fill_strategic_ver(df_train)\n",
    "fill_strategic_ver(df_test)"
   ]
  },
  {
   "cell_type": "code",
   "execution_count": 66,
   "id": "7e9c9276-fd53-4793-9441-aca196eb832f",
   "metadata": {},
   "outputs": [
    {
     "data": {
      "text/plain": [
       "it_strategic_ver\n",
       "0.0    58178\n",
       "1.0     1121\n",
       "Name: count, dtype: int64"
      ]
     },
     "execution_count": 66,
     "metadata": {},
     "output_type": "execute_result"
    }
   ],
   "source": [
    "df_train['it_strategic_ver'].value_counts()"
   ]
  },
  {
   "cell_type": "markdown",
   "id": "5b4e7179",
   "metadata": {},
   "source": [
    "plot_top_conversion_rates(df_train, 'it_strategic_ver', 'is_converted', top_n=30)"
   ]
  },
  {
   "cell_type": "markdown",
   "id": "bcd28d91",
   "metadata": {},
   "source": [
    "plot_top_conversion_rates(df_test, 'it_strategic_ver', 'is_converted', top_n=30)"
   ]
  },
  {
   "cell_type": "markdown",
   "id": "24035cce-16ed-4063-83a7-32328ff2079d",
   "metadata": {},
   "source": [
    "# 8. idit_strategic_ver\n",
    "- Id_strategic_ver이나 it_strategic_ver 값 중 하나라도 1의 값을 가지면 1 값으로 표현"
   ]
  },
  {
   "cell_type": "code",
   "execution_count": 67,
   "id": "662e4cf8-7167-4697-a7aa-c47555299e1e",
   "metadata": {},
   "outputs": [],
   "source": [
    "# id, it 둘중 하나라도 있으면 1 아니면 0으로 idit를 수정\n",
    "df_train['idit_strategic_ver'] = np.where((df_train['id_strategic_ver'] == 1) | (df_train['it_strategic_ver'] == 1), 1, 0)\n",
    "\n",
    "df_test['idit_strategic_ver'] = np.where((df_test['id_strategic_ver'] == 1) | (df_test['it_strategic_ver'] ==1), 1, 0)"
   ]
  },
  {
   "cell_type": "markdown",
   "id": "42962267",
   "metadata": {},
   "source": [
    "plot_top_conversion_rates(df_train, 'idit_strategic_ver', 'is_converted', top_n=30)"
   ]
  },
  {
   "cell_type": "markdown",
   "id": "8be22ae9",
   "metadata": {},
   "source": [
    "plot_top_conversion_rates(df_train, 'idit_strategic_ver', 'is_converted', top_n=30)"
   ]
  },
  {
   "cell_type": "markdown",
   "id": "009531d9-338e-4dff-8ea8-90f140b22ff9",
   "metadata": {},
   "source": [
    "# 9. customer_job,"
   ]
  },
  {
   "cell_type": "code",
   "execution_count": 68,
   "id": "40214e32",
   "metadata": {},
   "outputs": [],
   "source": [
    "df_train['customer_job'] = df_train['customer_job'].fillna('None')\n",
    "\n",
    "replace_job = {\n",
    "   'no respoxse on phone will try again' : 'None',\n",
    "   'we are in iceland' : 'None',\n",
    "   'no requirment' : 'None',\n",
    "   'nothing' : 'None',\n",
    "   'egyéb' : 'other',\n",
    "   'otro' : 'other',\n",
    "   'otros' : 'other',\n",
    "   'sonstiges' : 'other',\n",
    "   \n",
    "   'development coordinator/procurement' : 'procurement',\n",
    "   'sourcing / procurement' : 'procurement',\n",
    "   'sourcing/procurement' : 'procurement',\n",
    "   'procurment' : 'procurement',\n",
    "   'sourcing' : 'procurement',\n",
    "   'salesman' : 'sales',\n",
    "   'sales executive' : 'sales',\n",
    "   'sale' : 'sales',\n",
    "   'vertrieb' : 'sales',\n",
    "   'vendite' : 'sales',\n",
    "   'értékesítés' : 'sales',\n",
    "   'field / outside sales' : 'sales', \n",
    "   \n",
    "   'office it': 'information technology',   \n",
    "   'it manager' : 'information technology',   \n",
    "   'deputy cio' : 'information technology',\n",
    "   'it tech.' : 'information technology',\n",
    "   'it support' : 'information technology',\n",
    "   'it admin' : 'information technology',\n",
    "   'computing & it' : 'information technology',\n",
    "   'it': 'information technology',\n",
    "   'information_technology' : 'information technology',\n",
    "   'designer, creative technologist' : 'technology designer',\n",
    "   'senior design engineer' : 'design engineer',\n",
    "   'designer/ engineer' : 'design engineer',\n",
    "   'engineering & technical executive' : 'engineering & technical',\n",
    "   'director of engineering' : 'engineering', \n",
    "     \n",
    "   'creative director' : 'director',\n",
    "   'directeur technique' : 'technical director',\n",
    "   'regional director of operations' : 'operations',\n",
    "   'üzemeltetés' : 'operations',   \n",
    "   'facilities and operations' : 'operations',   \n",
    "   \n",
    "   'projection manager' : 'program and project management',\n",
    "   'gestión_de_proyectos' : 'program and project management',\n",
    "   'projectr mgmt' : 'program and project management',\n",
    "   'pm' : 'program and project management',\n",
    "   'program_and_project_manager' : 'program and project management',\n",
    "   'program_and_project_management' : 'program and project management',\n",
    "   'projektmenedzsment\\tprogram and project management' : 'program and project management',\n",
    "   'programm-_und_projektmanagement' : 'program and project management',\n",
    "   'program-_és_projektmenedzsment' : 'program and project management',\n",
    "   'programm- und projektmanagement' : 'program and project management',\n",
    "   'project manage' : 'program and project management',\n",
    "   'general manager- purchaser' : 'purchasing',\n",
    "   'purchasing manager' : 'purchasing',\n",
    "   'director purchaser' : 'purchasing',  \n",
    "    \n",
    "   'comanager' : 'manager',\n",
    "   'managgere' : 'manager',\n",
    "   'manger' : 'manager',\n",
    "   'management' : 'manager',   \n",
    "   'managing partner' : 'manager',  \n",
    "   'gm' : 'general management',   \n",
    "   'general manager' : 'general management',\n",
    "   'genera manager' : 'general management',\n",
    "   'gm/part owner' : 'general management',\n",
    "   'reseorot general manager' : 'general management',\n",
    "   'account exec/manager' : 'account management',\n",
    "   'product_management' : 'product management',\n",
    "   'business_development' : 'business development',\n",
    "   \n",
    "   'adminisztráció' : 'administration',\n",
    "   \n",
    "   'pénzügy' : 'finance',\n",
    "   'finanzen' : 'finance',\n",
    "   'director of finance' : 'finance',\n",
    "   \n",
    "   'graphic design' : 'graphic/color art',  \n",
    "   'colorist' : 'graphic/color art',\n",
    "   'arts_and_design' : 'art and design',\n",
    "   'arte_e_design' : 'art and design',\n",
    "   'arts and design' : 'art and design',\n",
    "   'művészet_és_design' : 'art and design',\n",
    "   'arte y diseño' : 'art and design',\n",
    "   'quotation curator' : 'curation',\n",
    "   \n",
    "   'artist, lead on equipment selection' : 'equipment selection',\n",
    "\n",
    "   'artist, lead on equipment selection ' : 'art and design',\n",
    "   'medios_de_comunicación' : 'media and communication',\n",
    "   'média_és_kommunikáció' : 'media and communication',\n",
    "   'medien_und_kommunikation' : 'media and communication',\n",
    "   'media_e_comunicazione' : 'media and communication',\n",
    "   'media_and_communication' : 'media and communication',\n",
    "   'media and communications' : 'media and communication',\n",
    "   'broadcasting & media' : 'media and communication',\n",
    "   'community_and_social_services' : 'community and social services',\n",
    "   'waiter' : 'serving food',\n",
    "   'part of video wall' : 'video wall',\n",
    "   'photos' : 'photographer',\n",
    "   \n",
    "   'military_and_protective_services' : 'military and protective services',\n",
    "   'healthcare_services' : 'healthcare services',\n",
    "   'mental health' : 'healthcare services',\n",
    "   'doctor' : 'healthcare services',\n",
    "   'medical imaging  specialist' : 'medical imaging specialist',\n",
    "   'spécialiste_en_imagerie_médicale' : 'medical imaging specialist',\n",
    "   'profesional de cirugía' : 'surgery professional',\n",
    "   'Cliente final' : 'end user',\n",
    "   'cliente final' : 'end user',\n",
    "   'sourcing & quoting for end user' : 'end user',\n",
    "   'primary end-user' : 'end user',\n",
    "   'main end user of the product' : 'end user',\n",
    "   'purchsing' : 'purchasing',\n",
    "   'administrative assistant' : 'administrative',\n",
    "   'decider' : 'decision',\n",
    "   'principal in charge' : 'decision',\n",
    "   'principal' : 'decision',\n",
    "   'head' : 'decision',\n",
    "   'primary' : 'decision',\n",
    "   'human_resources' : 'human resources',\n",
    "   'cctv monetoring' : 'cctv view',\n",
    "   'test4' : 'tester',\n",
    "   'tradeshow event' : 'exhibition / convention center',\n",
    "   'museum / gallery' : 'exhibition / convention center',\n",
    "   'renewable energy' : 'energy'\n",
    "}\n",
    "\n",
    "df_train['customer_job'] = df_train['customer_job'].replace(replace_job)\n",
    "\n",
    "df_train.loc[df_train['customer_job'].str.contains('other'), 'customer_job'] ='other'\n",
    "df_train.loc[df_train['customer_job'].str.contains('not'), 'customer_job'] ='None'\n",
    "df_train.loc[df_train['customer_job'].str.contains(r'edu|teach'), 'customer_job'] = 'education'\n",
    "\n",
    "df_train.loc[(df_train['customer_job'].str.contains('information technology')), 'customer_job'] = 'information technology'\n",
    "df_train.loc[df_train['customer_job'].str.contains('research'), 'customer_job'] = 'research'\n",
    "df_train.loc[df_train['customer_job'].str.contains('marketing'), 'customer_job'] = 'marketing'\n",
    "df_train.loc[df_train['customer_job'].str.contains('project manager'), 'customer_job'] = 'project manager'\n",
    "df_train.loc[((df_train['customer_job'].str.contains('install'))\n",
    "              &df_train['customer_job'].str.contains('design')), 'customer_job'] = 'design and install'\n",
    "df_train.loc[df_train['customer_job'].str.contains('sales rep'), 'customer_job']='sales'\n",
    "df_train.loc[(df_train['customer_job'].str.contains('cons'))\n",
    "             & ~(df_train['customer_job'].str.contains(r'purchas|design|tech|manag')), 'customer_job'] ='consulting'\n",
    "df_train.loc[(df_train['customer_job'].str.contains('direct'))\n",
    "             & (df_train['customer_job'].str.contains('it')), 'customer_job'] = 'information technology'\n",
    "df_train.loc[((df_train['customer_job'].str.contains('engineer'))\n",
    "              &~(df_train['customer_job'].str.contains(r'design|tech|sales'))), 'customer_job'] = 'engineering'\n",
    "df_train.loc[(df_train['customer_job'].str.contains('tech'))\n",
    "             & ~(df_train['customer_job'].str.contains(r'engineer|design|consultant|recommend|infor|sales|it')), 'customer_job'] = 'technical'\n",
    "df_train.loc[(df_train['customer_job'].str.contains(r'direct|chairman|decision'))\n",
    "             &~(df_train['customer_job'].str.contains(r'purcha|design|it|oper|finan|comercial')), 'customer_job'] = 'decision'\n",
    "df_train.loc[(df_train['customer_job'].str.contains(r'ceo|executive|chief|founder'))\n",
    "             & ~(df_train['customer_job'].str.contains(r'sales|finan|oper')), 'customer_job']= 'ceo'\n",
    "df_train.loc[(df_train['customer_job'].str.contains('kreation')), 'customer_job'] = 'creation and design'\n",
    "df_train.loc[(df_train['customer_job'].str.contains('design'))\n",
    "             &~(df_train['customer_job'].str.contains(r'art|engineer|install|tech|creation|cons')), 'customer_job'] = 'design'\n",
    "df_train.loc[(df_train['customer_job'].str.contains('lead'))\n",
    "             &~(df_train['customer_job'].str.contains('it')), 'customer_job'] = 'decision'\n",
    "df_train.loc[(df_train['customer_job'].str.contains('video')), 'customer_job'] = 'video wall'\n",
    "df_train.loc[(df_train['customer_job'].str.contains('install'))\n",
    "             & ~(df_train['customer_job'].str.contains('design')), 'customer_job'] = 'installer'\n",
    "df_train.loc[(df_train['customer_job'].str.contains('purcha'))\n",
    "             & ~(df_train['customer_job'].str.contains('consultant')), 'customer_job'] = 'purchasing'\n",
    "df_train.loc[(df_train['customer_job'].str.contains('recommend')), 'customer_job'] = 'recommend'\n",
    "df_train.loc[(df_train['customer_job'].str.contains('vend')), 'customer_job'] = 'reseller'\n",
    "df_train.loc[(df_train['customer_job'].str.contains('ware')), 'customer_job'] = 'information technology'\n",
    "df_train.loc[(df_train['customer_job'].str.contains('surgery')), 'customer_job'] = 'surgery professional'\n",
    "df_train.loc[(df_train['customer_job'].str.contains('radiology')), 'customer_job'] = 'radiology professional'\n",
    "df_train.loc[(df_train['customer_job'].str.contains('medical solution')), 'customer_job'] = 'medical solution provider'\n",
    "df_train.loc[(df_train['customer_job'].str.contains('integ')), 'customer_job'] = 'integrator'\n",
    "df_train.loc[(df_train['customer_job'].str.contains(r'serving')), 'customer_job'] = 'serving food'\n",
    "df_train.loc[(df_train['customer_job'].str.contains('equip')), 'customer_job'].value_counts()\n",
    "df_train.loc[(df_train['customer_job'].str.contains(r'it ')), 'customer_job'] = 'information technology'\n",
    "df_train.loc[(df_train['customer_job'].str.contains(r'facil')), 'customer_job'] = 'facilities'\n",
    "df_train.loc[(df_train['customer_job'].str.contains(r'display|signage')), 'customer_job'] = 'display/signage'\n",
    "df_train.loc[(df_train['customer_job'].str.contains(r'contra')), 'customer_job'] = 'contractor'\n",
    "df_train.loc[(df_train['customer_job'].str.contains(r'archi')), 'customer_job'] = 'architect'\n",
    "df_train.loc[(df_train['customer_job'].str.contains(r'owner')), 'customer_job'] = 'owner'"
   ]
  },
  {
   "cell_type": "code",
   "execution_count": 69,
   "id": "2fee769c",
   "metadata": {},
   "outputs": [],
   "source": [
    "df_test['customer_job'] = df_test['customer_job'].fillna('None')\n",
    "\n",
    "replace_job = {\n",
    "   'no respoxse on phone will try again' : 'None',\n",
    "   'we are in iceland' : 'None',\n",
    "   'no requirment' : 'None',\n",
    "   'nothing' : 'None',\n",
    "   'egyéb' : 'other',\n",
    "   'otro' : 'other',\n",
    "   'otros' : 'other',\n",
    "   'sonstiges' : 'other',\n",
    "   \n",
    "   'development coordinator/procurement' : 'procurement',\n",
    "   'sourcing / procurement' : 'procurement',\n",
    "   'sourcing/procurement' : 'procurement',\n",
    "   'procurment' : 'procurement',\n",
    "   'sourcing' : 'procurement',\n",
    "   'salesman' : 'sales',\n",
    "   'sales executive' : 'sales',\n",
    "   'sale' : 'sales',\n",
    "   'vertrieb' : 'sales',\n",
    "   'vendite' : 'sales',\n",
    "   'értékesítés' : 'sales',\n",
    "   'field / outside sales' : 'sales', \n",
    "   \n",
    "   'office it': 'information technology',   \n",
    "   'it manager' : 'information technology',   \n",
    "   'deputy cio' : 'information technology',\n",
    "   'it tech.' : 'information technology',\n",
    "   'it support' : 'information technology',\n",
    "   'it admin' : 'information technology',\n",
    "   'computing & it' : 'information technology',\n",
    "   'it': 'information technology',\n",
    "   'information_technology' : 'information technology',\n",
    "   'designer, creative technologist' : 'technology designer',\n",
    "   'senior design engineer' : 'design engineer',\n",
    "   'designer/ engineer' : 'design engineer',\n",
    "   'engineering & technical executive' : 'engineering & technical',\n",
    "   'director of engineering' : 'engineering', \n",
    "     \n",
    "   'creative director' : 'director',\n",
    "   'directeur technique' : 'technical director',\n",
    "   'regional director of operations' : 'operations',\n",
    "   'üzemeltetés' : 'operations',   \n",
    "   'facilities and operations' : 'operations',   \n",
    "   \n",
    "   'projection manager' : 'program and project management',\n",
    "   'gestión_de_proyectos' : 'program and project management',\n",
    "   'projectr mgmt' : 'program and project management',\n",
    "   'pm' : 'program and project management',\n",
    "   'program_and_project_manager' : 'program and project management',\n",
    "   'program_and_project_management' : 'program and project management',\n",
    "   'projektmenedzsment\\tprogram and project management' : 'program and project management',\n",
    "   'programm-_und_projektmanagement' : 'program and project management',\n",
    "   'program-_és_projektmenedzsment' : 'program and project management',\n",
    "   'programm- und projektmanagement' : 'program and project management',\n",
    "   'project manage' : 'program and project management',\n",
    "   'general manager- purchaser' : 'purchasing',\n",
    "   'purchasing manager' : 'purchasing',\n",
    "   'director purchaser' : 'purchasing',  \n",
    "    \n",
    "   'comanager' : 'manager',\n",
    "   'managgere' : 'manager',\n",
    "   'manger' : 'manager',\n",
    "   'management' : 'manager',   \n",
    "   'managing partner' : 'manager',  \n",
    "   'gm' : 'general management',   \n",
    "   'general manager' : 'general management',\n",
    "   'genera manager' : 'general management',\n",
    "   'gm/part owner' : 'general management',\n",
    "   'reseorot general manager' : 'general management',\n",
    "   'account exec/manager' : 'account management',\n",
    "   'product_management' : 'product management',\n",
    "   'business_development' : 'business development',\n",
    "   \n",
    "   'adminisztráció' : 'administration',\n",
    "   \n",
    "   'pénzügy' : 'finance',\n",
    "   'finanzen' : 'finance',\n",
    "   'director of finance' : 'finance',\n",
    "   \n",
    "   'graphic design' : 'graphic/color art',  \n",
    "   'colorist' : 'graphic/color art',\n",
    "   'arts_and_design' : 'art and design',\n",
    "   'arte_e_design' : 'art and design',\n",
    "   'arts and design' : 'art and design',\n",
    "   'művészet_és_design' : 'art and design',\n",
    "   'arte y diseño' : 'art and design',\n",
    "   'quotation curator' : 'curation',\n",
    "   \n",
    "   'artist, lead on equipment selection' : 'equipment selection',\n",
    "\n",
    "   'artist, lead on equipment selection ' : 'art and design',\n",
    "   'medios_de_comunicación' : 'media and communication',\n",
    "   'média_és_kommunikáció' : 'media and communication',\n",
    "   'medien_und_kommunikation' : 'media and communication',\n",
    "   'media_e_comunicazione' : 'media and communication',\n",
    "   'media_and_communication' : 'media and communication',\n",
    "   'media and communications' : 'media and communication',\n",
    "   'broadcasting & media' : 'media and communication',\n",
    "   'community_and_social_services' : 'community and social services',\n",
    "   'waiter' : 'serving food',\n",
    "   'part of video wall' : 'video wall',\n",
    "   'photos' : 'photographer',\n",
    "   \n",
    "   'military_and_protective_services' : 'military and protective services',\n",
    "   'healthcare_services' : 'healthcare services',\n",
    "   'mental health' : 'healthcare services',\n",
    "   'doctor' : 'healthcare services',\n",
    "   'medical imaging  specialist' : 'medical imaging specialist',\n",
    "   'spécialiste_en_imagerie_médicale' : 'medical imaging specialist',\n",
    "   'profesional de cirugía' : 'surgery professional',\n",
    "   'Cliente final' : 'end user',\n",
    "   'cliente final' : 'end user',\n",
    "   'sourcing & quoting for end user' : 'end user',\n",
    "   'primary end-user' : 'end user',\n",
    "   'main end user of the product' : 'end user',\n",
    "   'purchsing' : 'purchasing',\n",
    "   'administrative assistant' : 'administrative',\n",
    "   'decider' : 'decision',\n",
    "   'principal in charge' : 'decision',\n",
    "   'principal' : 'decision',\n",
    "   'head' : 'decision',\n",
    "   'primary' : 'decision',\n",
    "   'human_resources' : 'human resources',\n",
    "   'cctv monetoring' : 'cctv view',\n",
    "   'test4' : 'tester',\n",
    "   'tradeshow event' : 'exhibition / convention center',\n",
    "   'museum / gallery' : 'exhibition / convention center',\n",
    "   'renewable energy' : 'energy'\n",
    "}\n",
    "\n",
    "df_test['customer_job'] = df_test['customer_job'].replace(replace_job)\n",
    "\n",
    "df_test.loc[df_test['customer_job'].str.contains('other'), 'customer_job'] ='other'\n",
    "df_test.loc[df_test['customer_job'].str.contains('not'), 'customer_job'] ='None'\n",
    "df_test.loc[df_test['customer_job'].str.contains(r'edu|teach'), 'customer_job'] = 'education'\n",
    "\n",
    "df_test.loc[df_test['customer_job'].str.contains('information technology'), 'customer_job'] = 'information technology'\n",
    "df_test.loc[df_test['customer_job'].str.contains('research'), 'customer_job'] = 'research'\n",
    "df_test.loc[df_test['customer_job'].str.contains('marketing'), 'customer_job'] = 'marketing'\n",
    "df_test.loc[df_test['customer_job'].str.contains('project manager'), 'customer_job'] = 'project manager'\n",
    "df_test.loc[((df_test['customer_job'].str.contains('install'))\n",
    "              &df_test['customer_job'].str.contains('design')), 'customer_job'] = 'design and install'\n",
    "df_test.loc[df_test['customer_job'].str.contains('sales rep'), 'customer_job']='sales'\n",
    "df_test.loc[(df_test['customer_job'].str.contains('cons'))\n",
    "             & ~(df_test['customer_job'].str.contains(r'purchas|design|tech|manag')), 'customer_job'] ='consulting'\n",
    "df_test.loc[(df_test['customer_job'].str.contains('direct'))\n",
    "             & (df_test['customer_job'].str.contains('it')), 'customer_job'] = 'information technology'\n",
    "df_test.loc[((df_test['customer_job'].str.contains('engineer'))\n",
    "              &~(df_test['customer_job'].str.contains(r'design|tech|sales'))), 'customer_job'] = 'engineering'\n",
    "df_test.loc[(df_test['customer_job'].str.contains('tech'))\n",
    "             & ~(df_test['customer_job'].str.contains(r'engineer|design|consultant|recommend|infor|sales|it')), 'customer_job'] = 'technical'\n",
    "df_test.loc[(df_test['customer_job'].str.contains(r'direct|chairman|decision'))\n",
    "             &~(df_test['customer_job'].str.contains(r'purcha|design|it|oper|finan|comercial')), 'customer_job'] = 'decision'\n",
    "df_test.loc[(df_test['customer_job'].str.contains(r'ceo|executive|chief|founder'))\n",
    "             & ~(df_test['customer_job'].str.contains(r'sales|finan|oper')), 'customer_job']= 'ceo'\n",
    "df_test.loc[(df_test['customer_job'].str.contains('kreation')), 'customer_job'] = 'creation and design'\n",
    "df_test.loc[(df_test['customer_job'].str.contains('design'))\n",
    "             &~(df_test['customer_job'].str.contains(r'art|engineer|install|tech|creation|cons')), 'customer_job'] = 'design'\n",
    "df_test.loc[(df_test['customer_job'].str.contains('lead'))\n",
    "             &~(df_test['customer_job'].str.contains('it')), 'customer_job'] = 'decision'\n",
    "df_test.loc[(df_test['customer_job'].str.contains('video')), 'customer_job'] = 'video wall'\n",
    "df_test.loc[(df_test['customer_job'].str.contains('install'))\n",
    "             & ~(df_test['customer_job'].str.contains('design')), 'customer_job'] = 'installer'\n",
    "df_test.loc[(df_test['customer_job'].str.contains('purcha'))\n",
    "             & ~(df_test['customer_job'].str.contains('consultant')), 'customer_job'] = 'purchasing'\n",
    "df_test.loc[(df_test['customer_job'].str.contains('recommend')), 'customer_job'] = 'recommend'\n",
    "df_test.loc[(df_test['customer_job'].str.contains('vend')), 'customer_job'] = 'reseller'\n",
    "df_test.loc[(df_test['customer_job'].str.contains('ware')), 'customer_job'] = 'information technology'\n",
    "df_test.loc[(df_test['customer_job'].str.contains('surgery')), 'customer_job'] = 'surgery professional'\n",
    "df_test.loc[(df_test['customer_job'].str.contains('radiology')), 'customer_job'] = 'radiology professional'\n",
    "df_test.loc[(df_test['customer_job'].str.contains('medical solution')), 'customer_job'] = 'medical solution provider'\n",
    "df_test.loc[(df_test['customer_job'].str.contains('integ')), 'customer_job'] = 'integrator'\n",
    "df_test.loc[(df_test['customer_job'].str.contains(r'serving')), 'customer_job'] = 'serving food'\n",
    "df_test.loc[(df_test['customer_job'].str.contains('equip')), 'customer_job'].value_counts()\n",
    "df_test.loc[(df_test['customer_job'].str.contains(r'it ')), 'customer_job'] = 'information technology'\n",
    "df_test.loc[(df_test['customer_job'].str.contains(r'facil')), 'customer_job'] = 'facilities'\n",
    "df_test.loc[(df_test['customer_job'].str.contains(r'display|signage')), 'customer_job'] = 'display/signage'\n",
    "df_test.loc[(df_test['customer_job'].str.contains(r'contra')), 'customer_job'] = 'contractor'\n",
    "df_test.loc[(df_test['customer_job'].str.contains(r'archi')), 'customer_job'] = 'architect'\n",
    "df_test.loc[(df_test['customer_job'].str.contains(r'owner')), 'customer_job'] = 'owner'"
   ]
  },
  {
   "cell_type": "code",
   "execution_count": 70,
   "id": "3f76c92e-f191-48ca-bda3-e2ae3fd2e91c",
   "metadata": {},
   "outputs": [
    {
     "data": {
      "text/plain": [
       "customer_job\n",
       "None                     18737\n",
       "engineering               6367\n",
       "other                     5651\n",
       "administrative            3362\n",
       "education                 2295\n",
       "                         ...  \n",
       "electronics evaluator        1\n",
       "hr posting                   1\n",
       "managing employee            1\n",
       "department secretary         1\n",
       "accounts payable             1\n",
       "Name: count, Length: 249, dtype: int64"
      ]
     },
     "execution_count": 70,
     "metadata": {},
     "output_type": "execute_result"
    }
   ],
   "source": [
    "df_train['customer_job'].value_counts()"
   ]
  },
  {
   "cell_type": "code",
   "execution_count": 71,
   "id": "971ad05f-3e1e-4db2-b3e1-3e454fe4d0e3",
   "metadata": {
    "scrolled": true
   },
   "outputs": [
    {
     "data": {
      "text/plain": [
       "customer_job\n",
       "None                                1439\n",
       "engineering                          728\n",
       "other                                506\n",
       "education                            408\n",
       "administrative                       307\n",
       "information technology               231\n",
       "operations                           195\n",
       "purchasing                           180\n",
       "consulting                           166\n",
       "business development                 164\n",
       "sales                                162\n",
       "entrepreneurship                     119\n",
       "art and design                       102\n",
       "program and project management        96\n",
       "marketing                             94\n",
       "media and communication               49\n",
       "support                               47\n",
       "healthcare services                   44\n",
       "finance                               42\n",
       "product management                    36\n",
       "accounting                            34\n",
       "real estate                           26\n",
       "community and social services         22\n",
       "legal                                 17\n",
       "human resources                       14\n",
       "research                               9\n",
       "military and protective services       7\n",
       "quality assurance                      5\n",
       "radiology professional                 4\n",
       "medical imaging specialist             3\n",
       "curation                               3\n",
       "healthcare                             2\n",
       "3d/vfx art                             2\n",
       "film production                        2\n",
       "surgery professional                   1\n",
       "k12 school                             1\n",
       "clinical specialist                    1\n",
       "pathologist                            1\n",
       "electronics & telco                    1\n",
       "medical solution provider              1\n",
       "Name: count, dtype: int64"
      ]
     },
     "execution_count": 71,
     "metadata": {},
     "output_type": "execute_result"
    }
   ],
   "source": [
    "df_test['customer_job'].value_counts()"
   ]
  },
  {
   "cell_type": "code",
   "execution_count": 72,
   "id": "785a3bd9-4ba2-4a10-a8d8-38aeeea1208c",
   "metadata": {},
   "outputs": [],
   "source": [
    "counts = df_train['customer_job'].value_counts()\n",
    "threshold = 10\n",
    "low_frequency = counts[counts < threshold].index\n",
    "df_train['customer_job'] = df_train['customer_job'].replace(low_frequency, 'other')"
   ]
  },
  {
   "cell_type": "code",
   "execution_count": 73,
   "id": "2a95f637-ba90-48fd-86a5-9cb72f2021f1",
   "metadata": {},
   "outputs": [],
   "source": [
    "counts = df_test['customer_job'].value_counts()\n",
    "threshold = 10\n",
    "low_frequency = counts[counts < threshold].index\n",
    "df_test['customer_job'] = df_test['customer_job'].replace(low_frequency, 'other')"
   ]
  },
  {
   "cell_type": "code",
   "execution_count": 74,
   "id": "a557c540-eebb-48b0-86e1-15bbbd005cc7",
   "metadata": {},
   "outputs": [
    {
     "name": "stdout",
     "output_type": "stream",
     "text": [
      "set()\n"
     ]
    }
   ],
   "source": [
    "train_vals = set(df_train['customer_job'].unique())\n",
    "test_vals = set(df_test['customer_job'].unique())\n",
    "\n",
    "test_not_train = test_vals - train_vals\n",
    "\n",
    "print(test_not_train)"
   ]
  },
  {
   "cell_type": "code",
   "execution_count": 75,
   "id": "ad38082d-dc47-4967-ba17-596ce29e8f7b",
   "metadata": {},
   "outputs": [],
   "source": [
    "# TargetEncoder 적용\n",
    "target_encoder = TargetEncoder(smoothing=1.0)\n",
    "df_train['customer_job'] = target_encoder.fit_transform(df_train['customer_job'], df_train['is_converted'])\n",
    "df_test['customer_job'] = target_encoder.transform(df_test['customer_job'])  # 'transform'만 호출하여 새로운 데이터에 적용"
   ]
  },
  {
   "cell_type": "markdown",
   "id": "313da1f2",
   "metadata": {},
   "source": [
    "plot_top_conversion_rates(df_train, 'customer_job', 'is_converted', top_n=30)"
   ]
  },
  {
   "cell_type": "markdown",
   "id": "bc8925d0",
   "metadata": {},
   "source": [
    "plot_top_conversion_rates(df_test, 'customer_job', 'is_converted', top_n=30)"
   ]
  },
  {
   "cell_type": "markdown",
   "id": "bd42356e-464a-4c11-aa93-da1c572d271f",
   "metadata": {},
   "source": [
    "# 10 . customer_position"
   ]
  },
  {
   "cell_type": "code",
   "execution_count": 76,
   "id": "434b6f13-a9d3-48df-9381-1fb01ccb0b17",
   "metadata": {},
   "outputs": [
    {
     "data": {
      "text/plain": [
       "0"
      ]
     },
     "execution_count": 76,
     "metadata": {},
     "output_type": "execute_result"
    }
   ],
   "source": [
    "df_train['customer_position'].isnull().sum()"
   ]
  },
  {
   "cell_type": "code",
   "execution_count": 77,
   "id": "31cb702f-bba7-46c9-89c1-05c3fa97469f",
   "metadata": {},
   "outputs": [
    {
     "data": {
      "text/plain": [
       "0"
      ]
     },
     "execution_count": 77,
     "metadata": {},
     "output_type": "execute_result"
    }
   ],
   "source": [
    "df_test['customer_position'].isnull().sum()"
   ]
  },
  {
   "cell_type": "code",
   "execution_count": 78,
   "id": "63cd1f72-434f-431f-958b-a605ac38693d",
   "metadata": {},
   "outputs": [],
   "source": [
    "# 각 단어별로 분리해 보려고 했으나 그럼 여러 직위, 직무와 중복되는 현상이 발생.\n",
    "# 단어 전체를 리스트에 넣어 각각 분류 진행.\n",
    "\n",
    "none = ['none', 'unpaid', 'not applicable', 'bulgaria', ]\n",
    "\n",
    "other = ['other', 'others', 'no influence']\n",
    "\n",
    "customer = ['customer', 'end user', 'commercial end user',\n",
    "                 'this is a consume display requirement for home purpose ']\n",
    "\n",
    "# ceo/founder\n",
    "ceo = ['ceo', 'founder', 'cofounder', 'ceo fundador', 'co founder',\n",
    "           'ceo founder', 'c level executive', 'c levelexecutive', \n",
    "           'entrepreneurship', 'vp', 'proprietário a ', 'genel müdür', \n",
    "           'the big boss', 'chief executive officer']\n",
    "\n",
    "# 의사결정자 decision maker(이사, 의장 등도 포함)\n",
    "decision = ['decision', 'decision maker', 'decision influencer', 'gerente', \n",
    "                 'business unit director', 'chairman', \n",
    "                 'principal director', 'principal   director',\n",
    "                'leadership executive office owner']\n",
    "\n",
    "# 정부 government\n",
    "government = ['government', 'vicepresident', 'vice president', 'president',]\n",
    "\n",
    "# 인턴 intern\n",
    "intern = ['intern', 'entrylevel', 'entry level']\n",
    "\n",
    "# 교사, 교수 등 educator\n",
    "educator = ['educator', 'math and physics teacher', 'physics teacher', \n",
    "            'professor of mathematics', 'assistant professor', \n",
    "            'principal at oxford integrated pu science college', \n",
    "            'physics and mathematics teacher', \n",
    "            'science teacher', 'prof', 'prof ', 'science teacher', 'academic specialist',\n",
    "            'education', 'maths lecturer', \n",
    "            'academic coordinator  post graduate teacher  accountancy  business studies   tgt  ict ', \n",
    "            'english trainer for ielts toefl pte gre sat exams ', \n",
    "            'director cum faculty at gaining apex coaching centre',\n",
    "            'associate professor in electronics engg', 'asst prof ', \n",
    "            'neet  olympiad expert faculty', 'teacher', 'guest faculty', \n",
    "            'physics faculty', 'teacher middle school coordinator', \n",
    "            'assistant professor of enlish', 'professor', 'quantitative aptitude faculty', \n",
    "            'associate professor', 'hon dean', 'chemistry teacher', 'education professional', \n",
    "            'senior lecturer', 'pgt physics', 'pgt chemistry']\n",
    "\n",
    "# 컨설턴트 consultant\n",
    "consultant = ['consultant', 'consulting', 'architecture consult', \n",
    "             'architect consultant', 'commercial consultant']\n",
    "\n",
    "# 의료직 hospital\n",
    "hospital = ['hospital', 'tierarzt', 'főorvos', 'surgery professional', \n",
    "                 'pathologist', 'radiology professional']\n",
    "\n",
    "# 영업직 sales\n",
    "sales = ['sales', 'business development sales', 'subsidiary sales  ise ', ]\n",
    "\n",
    "# 전시회 exhibition\n",
    "exhibition = ['exhibition', 'exhibitiontv', 'mindenes', \n",
    "             'other   please specify   cedia association']\n",
    "\n",
    "# 리서치 research\n",
    "research = ['research', 'market intelligence research']\n",
    "\n",
    "# 제조\n",
    "manufacturer = ['manufacturer', 'medical device manufacturer']\n",
    "\n",
    "# 기술직 technical\n",
    "technical = ['technical', 'técnico']\n",
    "\n",
    "lists = [none, other, customer, ceo, decision, \n",
    "         government, intern, educator, consultant, hospital,\n",
    "         sales, exhibition, research, manufacturer, technical]\n",
    "\n",
    "def set_pos(df_col):\n",
    "    for j in range(0, len(lists)):\n",
    "        for i in range(0, len(df_col)):\n",
    "             if df_col.loc[i] in lists[j]:\n",
    "                df_col.loc[i] = lists[j][0]\n",
    "                \n",
    "cp_set = df_train['customer_position'].str.replace(pat = '[\\W_]', repl = ' ', regex = True)\n",
    "set_pos(cp_set)\n",
    "df_train['customer_position'] = cp_set\n",
    "\n",
    "cp_set_test = df_test['customer_position'].str.replace(pat = '[\\W_]', repl = ' ', regex = True)\n",
    "set_pos(cp_set_test)\n",
    "df_test['customer_position'] = cp_set_test"
   ]
  },
  {
   "cell_type": "code",
   "execution_count": 79,
   "id": "58bb768a-f62b-48e9-81b0-f868f6e3fede",
   "metadata": {
    "scrolled": true
   },
   "outputs": [
    {
     "data": {
      "text/plain": [
       "customer_position\n",
       "none                           19712\n",
       "ceo                             8854\n",
       "manager                         8217\n",
       "other                           7466\n",
       "director                        4843\n",
       "intern                          2665\n",
       "associate analyst               2597\n",
       "partner                         2536\n",
       "trainee                          849\n",
       "government                       550\n",
       "customer                         437\n",
       "hospital                         206\n",
       "installer                         60\n",
       "educator                          48\n",
       "decision                          43\n",
       "manufacturer                      34\n",
       "consultant                        29\n",
       "cargo                             27\n",
       "software  solution provider       25\n",
       "homeowner                         21\n",
       "system integrator                 21\n",
       "employee                          14\n",
       "engineering                        9\n",
       "exhibition                         7\n",
       "administrative                     5\n",
       "operations                         3\n",
       "sales                              3\n",
       "medical imaging specialist         3\n",
       "technical                          2\n",
       "business development               2\n",
       "av management                      2\n",
       "research                           2\n",
       "business partner                   2\n",
       "lider de desarrollo                1\n",
       "distributor                        1\n",
       "career coach                       1\n",
       "product management                 1\n",
       "professional trainer               1\n",
       "Name: count, dtype: int64"
      ]
     },
     "execution_count": 79,
     "metadata": {},
     "output_type": "execute_result"
    }
   ],
   "source": [
    "df_train['customer_position'].value_counts()"
   ]
  },
  {
   "cell_type": "code",
   "execution_count": 80,
   "id": "22e4e0c1-ed6f-4873-bc5b-3136f1450b30",
   "metadata": {},
   "outputs": [],
   "source": [
    "counts = df_train['customer_position'].value_counts()\n",
    "threshold = 10\n",
    "low_frequency = counts[counts < threshold].index\n",
    "df_train['customer_position'] = df_train['customer_position'].replace(low_frequency, 'other')"
   ]
  },
  {
   "cell_type": "code",
   "execution_count": 81,
   "id": "1f3275b9-e79e-4f7e-81e4-228c03df1a3c",
   "metadata": {},
   "outputs": [],
   "source": [
    "counts = df_test['customer_position'].value_counts()\n",
    "threshold = 10\n",
    "low_frequency = counts[counts < threshold].index\n",
    "df_test['customer_position'] = df_test['customer_position'].replace(low_frequency, 'other')"
   ]
  },
  {
   "cell_type": "code",
   "execution_count": 82,
   "id": "740f5fdf-61f9-4d78-b56d-271713a35a17",
   "metadata": {
    "scrolled": true
   },
   "outputs": [
    {
     "data": {
      "text/plain": [
       "customer_position\n",
       "none                           19712\n",
       "ceo                             8854\n",
       "manager                         8217\n",
       "other                           7511\n",
       "director                        4843\n",
       "intern                          2665\n",
       "associate analyst               2597\n",
       "partner                         2536\n",
       "trainee                          849\n",
       "government                       550\n",
       "customer                         437\n",
       "hospital                         206\n",
       "installer                         60\n",
       "educator                          48\n",
       "decision                          43\n",
       "manufacturer                      34\n",
       "consultant                        29\n",
       "cargo                             27\n",
       "software  solution provider       25\n",
       "homeowner                         21\n",
       "system integrator                 21\n",
       "employee                          14\n",
       "Name: count, dtype: int64"
      ]
     },
     "execution_count": 82,
     "metadata": {},
     "output_type": "execute_result"
    }
   ],
   "source": [
    "df_train['customer_position'].value_counts()"
   ]
  },
  {
   "cell_type": "code",
   "execution_count": 83,
   "id": "faad8fe6-c6f7-4c8d-9c59-3e9a9812e3ca",
   "metadata": {},
   "outputs": [
    {
     "name": "stdout",
     "output_type": "stream",
     "text": [
      "set()\n"
     ]
    }
   ],
   "source": [
    "train_vals = set(df_train['customer_job'].unique())\n",
    "test_vals = set(df_test['customer_job'].unique())\n",
    "\n",
    "test_not_train = test_vals - train_vals\n",
    "\n",
    "print(test_not_train)"
   ]
  },
  {
   "cell_type": "code",
   "execution_count": 84,
   "id": "c8a6ce72-7d32-4306-8056-ea1bed8b3e44",
   "metadata": {},
   "outputs": [],
   "source": [
    "# TargetEncoder 적용\n",
    "target_encoder = TargetEncoder(smoothing=1.0)\n",
    "df_train['customer_position'] = target_encoder.fit_transform(df_train['customer_position'], df_train['is_converted'])\n",
    "df_test['customer_position'] = target_encoder.transform(df_test['customer_position'])  # 'transform'만 호출하여 새로운 데이터에 적용"
   ]
  },
  {
   "cell_type": "markdown",
   "id": "0554e12c",
   "metadata": {},
   "source": [
    "plot_top_conversion_rates(df_train, 'customer_position', 'is_converted', top_n=30)"
   ]
  },
  {
   "cell_type": "markdown",
   "id": "7ba330df",
   "metadata": {},
   "source": [
    "plot_top_conversion_rates(df_test, 'customer_position', 'is_converted', top_n=30)"
   ]
  },
  {
   "cell_type": "markdown",
   "id": "0514e4c4-433f-4380-965a-2e2a113dc58d",
   "metadata": {},
   "source": [
    "# 11. product_subcategory\n",
    "- product_category\t요청 제품 카테고리\n",
    "- product_subcategory\t요청 제품 하위 카테고리\n",
    "- product_modelname\t요청 제품 모델명"
   ]
  },
  {
   "cell_type": "code",
   "execution_count": 85,
   "id": "f8af6169-db16-4fda-be9a-95ba15241be9",
   "metadata": {},
   "outputs": [
    {
     "data": {
      "text/plain": [
       "0                 multi-split\n",
       "1                 multi-split\n",
       "2                single-split\n",
       "3                         vrf\n",
       "4                 multi-split\n",
       "                 ...         \n",
       "59294                     vrf\n",
       "59295                    etc.\n",
       "59296            single-split\n",
       "59297                    etc.\n",
       "59298    monior/monitor tv,tv\n",
       "Name: product_category, Length: 59299, dtype: object"
      ]
     },
     "execution_count": 85,
     "metadata": {},
     "output_type": "execute_result"
    }
   ],
   "source": [
    "df_train['product_category']"
   ]
  },
  {
   "cell_type": "code",
   "execution_count": 86,
   "id": "c4755747-a1a2-4569-9ccf-13f7e0df4a8f",
   "metadata": {},
   "outputs": [
    {
     "name": "stderr",
     "output_type": "stream",
     "text": [
      "IOPub data rate exceeded.\n",
      "The Jupyter server will temporarily stop sending output\n",
      "to the client in order to avoid crashing it.\n",
      "To change this limit, set the config variable\n",
      "`--ServerApp.iopub_data_rate_limit`.\n",
      "\n",
      "Current values:\n",
      "ServerApp.iopub_data_rate_limit=1000000.0 (bytes/sec)\n",
      "ServerApp.rate_limit_window=3.0 (secs)\n",
      "\n"
     ]
    }
   ],
   "source": [
    "df_train['product_subcategory'] = df_train['product_subcategory'].fillna('None').replace('and', ',').replace('|', ',').str.strip().str.split(',')\n",
    "df_test['product_subcategory'] = df_test['product_subcategory'].fillna('None').replace('and', ',').replace('|', ',').str.strip().str.split(',')\n",
    "df_train['product_modelname'] = df_train['product_modelname'].fillna('None').replace('and', ',').replace('|', ',').str.strip().str.split(',')\n",
    "df_test['product_modelname'] = df_test['product_modelname'].fillna('None').replace('and', ',').replace('|', ',').str.strip().str.split(',')\n",
    "\n",
    "sub_modelname_mapping = {\n",
    "    # 모델명 보고 전처리\n",
    "    '14HQ701G-BP':'Digital X-Ray Detector with a-Si TFT',\n",
    "    '16Z90R-G.AP7BF':'LG gram 16 Ultra-lightweight',\n",
    "    '21HQ513D':'IPS Diagnostic Monitor',\n",
    "    '24MP400':'PC Monitor',\n",
    "    '27QP88D':'QHD Monitor Ergo Dual',\n",
    "    '28MQ780':'DualUp Monitor',\n",
    "    '31HN713D':'IPS Diagnostic Monitor',\n",
    "    '32UD99-W':'UHD IPS LED Monitor',\n",
    "    '32UK550':'Class 4K UHD Monitor',\n",
    "    '32UN880':'UHD 4K Ergo IPS Monitor',\n",
    "    '32hl512D':'Diagnostic Monitor',\n",
    "    '34WN780':'LED Monitor',\n",
    "    '43HT3WJ':'One:Quick Flex',\n",
    "    '43UH5J':'UHD Standard Signage',\n",
    "    '43US660H':'US660H Series',\n",
    "    '43US660H (Japan)':'US660H Series',\n",
    "    '43US660H (NA)':'4K UHD Hospitality TV with Pro:Centric Direct', # 홈페이지에서 얘만 카테고리 다름.\n",
    "    '43US660H (SCA)':'US660H Series',\n",
    "    '43US660H (Colombia)':'US660H Series',\n",
    "    '43US660H (ASIA)':'US660H Series',\n",
    "    '43US660H (MEA)':'US660H Series',\n",
    "    '49VL5G-M':'49\" 500 nits FHD Slim Bezel Video Wall',\n",
    "    '50UQ751C0SF':'4K UHD Smart TV',\n",
    "    '55CT5WJ':'One:Quick Works',\n",
    "    '55CT5WJ-ZJ':'One:Quick Works for Zoom Rooms',\n",
    "    '43HT3WJ':'One:Quick Flex',\n",
    "    'SC-00DA':'One:Quick Share',\n",
    "    '55UR640':'UHD TV Signage',\n",
    "    '55UR640 (INDIA)':'UHD TV Signage',\n",
    "    '55UR640 (UAE)':'UHD TV Signage',\n",
    "    '55UR640 (ASIA)':'UHD TV Signage',\n",
    "    '55UR640 (MEA)':'UHD TV Signage',\n",
    "    '55UR640 (EU/CIS)':'UHD TV Signage',\n",
    "    '55UR640 (SCA)':'UHD TV Signage',\n",
    "    '55UR640 (Colombia)':'UHD TV Signage',\n",
    "    '55UR640 (NA)':'UHD TV Signage',\n",
    "    '65EP5G OLED Pro':'UltraFine Display OLED Pro',\n",
    "    '75XS4G':'Window Facing Display',\n",
    "    'Ai/Machine Learning | Antennas,  Transmitters And Towers | Audience Measurement | Cameras And Lenses':['AI/Machine Learning', 'Antennas/Transmitters/Towers', 'Audience Measurement', 'Cameras/Lenses'],\n",
    "    'AI/Machine Learning':'AI/Machine Learning', \n",
    "    'Antennas':'Antennas',\n",
    "    'Transmitters and Towers':'Transmitters/Towers',\n",
    "    'Audience Measurement':'Audience Measurement',\n",
    "    'Cameras and Lenses':'Cameras/Lenses',\n",
    "    'DualUp(28MQ780)':'DualUp Monitor',\n",
    "    'Ergo Dual(27QP88D)':'QHD Monitor Ergo Dual',\n",
    "    'GMBD035':'Mesh LED',\n",
    "    'IDB':'IDB',\n",
    "    'LAD033F':'LG Miraclass',\n",
    "    'Lg Supersign Cms':'Lg Supersign Cms', # 한번에 컨트롤 할 수 있는 소프트웨어\n",
    "    'LTAK140':'Transparent Film',\n",
    "    'LTAK140-GU':'Transparent Film',\n",
    "    'LTAK140-GV':'Transparent Film',\n",
    "    'LTAK140-GW':'Transparent Film',\n",
    "    'Only Installation Need':'Only Installation Need',\n",
    "    'UltraFine Ergo(32UN880)':'UHD 4K Ergo IPS Monitor',\n",
    "    'UltraWide Ergo(34WN780)':'LED Monitor',\n",
    "    \n",
    "    # 서브카테고리 자체 전처리\n",
    "    'Pro:Centeric Tv':'Pro:Centric Tv',\n",
    "    'Pro:Centrc Tv':'Pro:Centric Tv',\n",
    "    'OLED 透明觸控顯示屏':'OLED transparent touch display',\n",
    "    'All Monitors &Pcs': 'All Monitors & Pcs',\n",
    "    '透明 LED 顯示貼':'Transparent LED display sticker',\n",
    "    'SH7DD 系列':'SH7DD series',\n",
    "    'จอภาพเพื่อการวินิจฉัย':'Monitor for navigation',\n",
    "    'UH7F 系列':'UH7F series',\n",
    "    'VL5F 系列':'VL5F series',\n",
    "    'TR3BG 系列':'TR3BG series',\n",
    "    'UT781H 系列':'UT781H series',\n",
    "    'Indoor Versatile 系列':'Indoor Versatile series',\n",
    "    'VL5D 系列':'VL5D series',\n",
    "    'LT660H 系列':'LT660H series',\n",
    "    'จอภาพสำหร บการตรวจสอบทางคล น ก':'Monitor for mechanical inspection',\n",
    "    'จอภาพสำหรับการตรวจสอบทางคลินิก':'Monitor for mechanical inspection',\n",
    "    'Curvable Oled Sigange':'Curvable Oled Signage',\n",
    "    'Diagnostic Monitor':'Diagnostic Monitors',\n",
    "    'Flat Oled Sigange':'Flat Oled Signage',\n",
    "    'Interactive Digital Board':'IDB',\n",
    "    \n",
    "    'LS341H':'Ls341H series',\n",
    "    'UltraWide™ Monitors':'Ultrawide Monitors',\n",
    "    'Stadium Series (Perimeter)':'Stadium Series',\n",
    "    'Stadium Series (Ribbon Board)':'Stadium Series',\n",
    "    'UT640S':'UT640S Series',\n",
    "    'UT781H':'Ut781H Series',\n",
    "    'UL3J':'UHD Digital Signage',\n",
    "    '65TR3DJ':'CreateBoard',\n",
    "    '50US660H0SD.BWZ':'TV 50\" LG 4K Hotel Quick PRO',\n",
    "    '65TR3BF':'One:Quick e-Board',\n",
    "    '55XS4J-B Écran Vitrine':'55\" IPS Full HD Window Facing Display',\n",
    "    'Monitor De Diagnostico':'Diagnostic Monitor',\n",
    "    '75UH5C':'UH5C Series',\n",
    "    '55VH7E-H':'VH7E-H Series',\n",
    "    'moniteurs_de_chirurgicaux':'Surgical Monitors',\n",
    "    '75UR640S':'UHD TV Signage',\n",
    "    'UQ801':'TV', # 모델명 정확하지 않음. 대체로 Tv에 해당되는 일부 모델명.\n",
    "    '49VL5J':'49\" 500 nits FHD Slim Bezel Video Wall',\n",
    "    \n",
    "    # 조회 불가\n",
    "    'Budget High For Vrf , He Will Buy The Split Ac':'Other',\n",
    "    'Budget Is Higher For Vrf':'Other',\n",
    "    'This Is Being Dealt With By Lg Germany.':'Other',\n",
    "    'We Dont Offer T/F Spoke To Ha Pm':'Other',\n",
    "    'Inquiry Forwarded To Shaker':'Other',\n",
    "    'Want Split Ac':'Other',\n",
    "    'Passed On To Fixxy Distribution':'Other',\n",
    "    'This Is Being Dealt With By Lg Germany.':'Other',\n",
    "    'ALL Surgical':'Other',\n",
    "    'Inquiry forwarded to Shaker':'Other',\n",
    "    'Passed on to Fixxy distribution':'Other',\n",
    "    'Required After 3 Months':'Other',\n",
    "    'Surgical':'Other',\n",
    "    'This is being dealt with by LG Germany.':'Other',\n",
    "    'Want Split AC':'Other',\n",
    "    'Zero Clients':'Other',\n",
    "    'Series':'Other',\n",
    "    '49':'Other',\n",
    "    'Hotel':'Other',\n",
    "    'Mi':'Other',\n",
    "    'Category':'Other',\n",
    "    \n",
    "    'Architect , We Are Meeting For Enqiry Generation ( This Is Not A Inquiry)':'Other',\n",
    "    'Architect ,  We Are Meeting For Enqiry Generation ( This Is Not A Inquiry)':'Other',\n",
    "    'Regarding Dealership':'Other',\n",
    "    'Budget Is Higher For Vrf':'Other',\n",
    "    'Budget High For Vrf ,  He Will Buy The Split Ac':'Other',\n",
    "    'We Dont Offer T/F Spoke To Ha Pm':'Other',\n",
    "    \n",
    "    # 기타\n",
    "    'Etc.':'Other',\n",
    "    'Etc ':'Other',\n",
    "    'etc ':'Other',\n",
    "    'Etc':'Other',\n",
    "    'etc':'Other',\n",
    "    'Other':'Other',\n",
    "    'Others':'Other',\n",
    "    '其他':'Other',\n",
    "}       \n",
    "\n",
    "def sub_mapping(df):\n",
    "    for i in range(0, len(df['product_modelname'])): # 행 개수\n",
    "        new_list = []\n",
    "        \n",
    "        for j in range(0, len(df['product_modelname'][i])): # 모델명 개수\n",
    "            for k in range(0, len(df['product_subcategory'][i])): # 서브카테고리 개수\n",
    "                modelname = df['product_modelname'][i][j] # 모델명 하나씩 대체\n",
    "                subcategory = df['product_subcategory'][i][k] # 서브카테고리 이상값 대체\n",
    "                \n",
    "                if 'None' not in df['product_subcategory'][i]:\n",
    "                    # 서브카테고리 None 아니고, mapping 대상 있으면 mapping\n",
    "                    if subcategory in sub_modelname_mapping.keys(): \n",
    "                        new_list.append(sub_modelname_mapping[subcategory])\n",
    "                    \n",
    "                    # 서브카테고리 None 아니고, mapping 대상 없으면 값 그대로 넣기\n",
    "                    else:\n",
    "                        new_list.append(df['product_subcategory'][i][k]) \n",
    "                    \n",
    "                # 서브카테고리 None, mapping 대상 있으면 mapping\n",
    "                elif modelname in sub_modelname_mapping.keys():\n",
    "                    new_list.append(sub_modelname_mapping[modelname])\n",
    "\n",
    "                # 서브카테고리 None, mapping 대상 없으면 모델명으로 값 대체\n",
    "                else:\n",
    "                    new_list.append(modelname)\n",
    "                    \n",
    "        # 문자열로 결측치 대체  \n",
    "        df['product_subcategory'][i] = ', '.join(new_list)\n",
    "        df['product_modelname'][i] = ', '.join(df['product_modelname'][i])\n",
    "\n",
    "sub_mapping(df_train)\n",
    "sub_mapping(df_test)\n",
    "\n",
    "\n",
    "# 2차로 맵핑. 문장 대소문자 때문에 오류 많아서 아예 대체.\n",
    "re_mapping = [\n",
    "    'Architect*,**We*are*Meeting*for*Enqiry*Generation*(*This*is*not*a*Inquiry)',\n",
    "    'AI/Machine*Learning*|*Antennas,**Transmitters*and*Towers*|*Audience*Measurement*|*Cameras*and*Lenses',\n",
    "    'Budget*is*Higher*for*VRF',\n",
    "    'Budget*high*for*VRF*,**He*will*buy*the*split*ac',\n",
    "    'We*dont*offer*T/F*spoke*to*HA*PM',\n",
    "]\n",
    "\n",
    "def re_map(df):\n",
    "    sp = df['product_subcategory']\n",
    "    for i in range(0, len(sp)):\n",
    "        j = sp[i].replace(' ', '*')\n",
    "        if j in re_mapping:\n",
    "            df.loc[i, 'product_subcategory'] = 'Other'\n",
    "    \n",
    "    # 대소문자 일치시켜서 그룹화\n",
    "    df['product_subcategory'] = df['product_subcategory'].str.title()\n",
    "    \n",
    "re_map(df_train)\n",
    "re_map(df_test)"
   ]
  },
  {
   "cell_type": "code",
   "execution_count": 87,
   "id": "7d141daf-cfcf-41a1-8098-6b87036e0e08",
   "metadata": {},
   "outputs": [],
   "source": [
    "counts = df_train['product_subcategory'].value_counts()\n",
    "threshold = 10\n",
    "low_frequency = counts[counts < threshold].index\n",
    "df_train['product_subcategory'] = df_train['product_subcategory'].replace(low_frequency, 'Other')"
   ]
  },
  {
   "cell_type": "code",
   "execution_count": 88,
   "id": "450e2464-67da-446c-a2f6-103771855cd4",
   "metadata": {},
   "outputs": [],
   "source": [
    "counts = df_test['product_subcategory'].value_counts()\n",
    "threshold = 10\n",
    "low_frequency = counts[counts < threshold].index\n",
    "df_test['product_subcategory'] = df_test['product_subcategory'].replace(low_frequency, 'Other')"
   ]
  },
  {
   "cell_type": "code",
   "execution_count": 89,
   "id": "837d56c2-5d1e-4195-bf4f-9be448ae2928",
   "metadata": {},
   "outputs": [
    {
     "data": {
      "text/plain": [
       "product_subcategory\n",
       "None                                         48489\n",
       "Dualup Monitor                                 617\n",
       "Other                                          575\n",
       "Uhd 4K Ergo Ips Monitor                        574\n",
       "All Medical Displays                           446\n",
       "                                             ...  \n",
       "Flexible Curved Open Frame                      10\n",
       "Lt560H Series                                   10\n",
       "Vh7B Series                                     10\n",
       "Ls341H Series                                   10\n",
       "Transparent Led Film With High Brightness       10\n",
       "Name: count, Length: 143, dtype: int64"
      ]
     },
     "execution_count": 89,
     "metadata": {},
     "output_type": "execute_result"
    }
   ],
   "source": [
    "df_train['product_subcategory'].value_counts()"
   ]
  },
  {
   "cell_type": "code",
   "execution_count": 90,
   "id": "54f31826-ee93-401d-895a-2d881cf17aab",
   "metadata": {},
   "outputs": [
    {
     "data": {
      "text/plain": [
       "product_subcategory\n",
       "None                                             4468\n",
       "Other                                             367\n",
       "Digital Signage Or Commercial Tvs                  86\n",
       "Transparent Led Film                               52\n",
       "Tr3Dj Series                                       32\n",
       "Idb                                                30\n",
       "Curvable Oled Signage                              24\n",
       "High Brightness Series                             23\n",
       "Transparent Oled Signage                           22\n",
       "55\" 500 Nits Fhd 0.44Mm Even Bezel Video Wall      20\n",
       "55\" 700 Nits Fhd 0.44Mm Even Bezel Video Wall      19\n",
       "Transparent Oled Touch Signage                     16\n",
       "49\" 500 Nits Fhd Slim Bezel Video Wall             15\n",
       "55\" 700 Nits Fhd Slim Bezel Video Wall             14\n",
       "Lg Createboard                                     14\n",
       "55\" 500 Nits Fhd Slim Bezel Video Wall             13\n",
       "Uh5F-H Series                                      13\n",
       "4K Uhd Hospitality Tv With Pro:Centric Direct      11\n",
       "Vl5F Series                                        11\n",
       "Outdoor Display                                    11\n",
       "Outdoor Versatile Series                           10\n",
       "Name: count, dtype: int64"
      ]
     },
     "execution_count": 90,
     "metadata": {},
     "output_type": "execute_result"
    }
   ],
   "source": [
    "df_test['product_subcategory'].value_counts()"
   ]
  },
  {
   "cell_type": "code",
   "execution_count": 91,
   "id": "e96794b7-4415-41f1-b46d-2f75e0353bdd",
   "metadata": {},
   "outputs": [
    {
     "name": "stdout",
     "output_type": "stream",
     "text": [
      "set()\n"
     ]
    }
   ],
   "source": [
    "train_vals = set(df_train['product_subcategory'].unique())\n",
    "test_vals = set(df_test['product_subcategory'].unique())\n",
    "\n",
    "test_not_train = test_vals - train_vals\n",
    "\n",
    "print(test_not_train) # 모델명은 제거"
   ]
  },
  {
   "cell_type": "code",
   "execution_count": 92,
   "id": "0175d8a7-b5c3-48e2-80b5-932e3c6f1f54",
   "metadata": {},
   "outputs": [],
   "source": [
    "# TargetEncoder 적용\n",
    "target_encoder = TargetEncoder(smoothing=1.0)\n",
    "df_train['product_subcategory'] = target_encoder.fit_transform(df_train['product_subcategory'], df_train['is_converted'])\n",
    "df_test['product_subcategory'] = target_encoder.transform(df_test['product_subcategory'])  # 'transform'만 호출하여 새로운 데이터에 적용"
   ]
  },
  {
   "cell_type": "markdown",
   "id": "bc09f6f3",
   "metadata": {},
   "source": [
    "plot_top_conversion_rates(df_train, 'product_subcategory', 'is_converted', top_n=30)"
   ]
  },
  {
   "cell_type": "markdown",
   "id": "211b81d8",
   "metadata": {},
   "source": [
    "plot_top_conversion_rates(df_test, 'product_subcategory', 'is_converted', top_n=30)"
   ]
  },
  {
   "cell_type": "markdown",
   "id": "5a8d54c4-35d8-4e8a-85fe-d36d476480df",
   "metadata": {},
   "source": [
    "# 12. product_category"
   ]
  },
  {
   "cell_type": "code",
   "execution_count": 93,
   "id": "c54ec528-dfc1-469c-af2d-39473179e328",
   "metadata": {},
   "outputs": [],
   "source": [
    "categories = {\n",
    "    'ultra stretch signage': 'DIGITAL Signage',\n",
    "    'ultra stretch series': 'DIGITAL Signage',\n",
    "    'signage': 'Signage',\n",
    "\n",
    "    'led signage': 'LED Signage',\n",
    "    'led aio 136': 'LED Signage',\n",
    "    'meeting & screen sharedirect view leddirect view led': 'LED Signage',\n",
    "    'laec015': 'LED Signage',\n",
    "    'leadallin': 'LED Signage',\n",
    "    'ledallinone': 'LED Signage',\n",
    "    'laec015-gn.awz': 'LED Signage',\n",
    "    'gscd046': 'LED Signage',\n",
    "    'laec15': 'LED Signage',\n",
    "    'lg led bloc': 'LED Signage',\n",
    "    'lg magnit': 'LED Signage',\n",
    "    'led cinema': 'LED Signage',\n",
    "    'pantalla led outdoor': 'LED Signage',\n",
    "    'gsca046': 'LED Signage',\n",
    "    'gscd100': 'LED Signage',\n",
    "    'lsca039': 'LED Signage',\n",
    "    'essential series': 'LED Signage',\n",
    "\n",
    "    'oled signage': 'OLED Signage',\n",
    "    'transparent oled': 'OLED Signage',\n",
    "\n",
    "    'uhd signage': 'DIGITAL Signage',\n",
    "    'uh': 'DIGITAL Signage',\n",
    "\n",
    "    'digital signage': 'DIGITAL Signage',\n",
    "    'one:quick series': 'DIGITAL Signage',\n",
    "    'lg one:quick': 'DIGITAL Signage',\n",
    "    'lg one:quick series': 'DIGITAL Signage',\n",
    "    'one quick works': 'DIGITAL Signage',\n",
    "    'onequick series': 'DIGITAL Signage',\n",
    "    'one quick:flex': 'DIGITAL Signage',\n",
    "    'one:quick flex': 'DIGITAL Signage',\n",
    "    'one:quick': 'DIGITAL Signage',\n",
    "    '43uh5f-h.awzm': 'DIGITAL Signage',\n",
    "    '49vl5g-m.awzm': 'DIGITAL Signage',\n",
    "    'corpouh5f': 'DIGITAL Signage',\n",
    "    'corpuh5f-': 'DIGITAL Signage',\n",
    "    '86uh5f': 'DIGITAL Signage',\n",
    "    '55tc3d': 'DIGITAL Signage',\n",
    "    '5svh7f-a': 'DIGITAL Signage',\n",
    "    'tr3': 'DIGITAL Signage',\n",
    "    '98uh5e': 'DIGITAL Signage',\n",
    "    'standard signage': 'DIGITAL Signage',\n",
    "    'high brightness signage': 'DIGITAL Signage',\n",
    "    'interactive signage': 'DIGITAL Signage',\n",
    "    'special signage': 'DIGITAL Signage',\n",
    "    'accessories': 'DIGITAL Signage',\n",
    "    'standard': 'DIGITAL Signage',\n",
    "    'high brightness': 'DIGITAL Signage',\n",
    "\n",
    "    'tv signage': 'DIGITAL Signage',\n",
    "    'smart tv signage': 'DIGITAL Signage',\n",
    "    'ur640': 'DIGITAL Signage',\n",
    "    'ur640s': 'DIGITAL Signage',\n",
    "\n",
    "    'aio': 'AIO',\n",
    "    'allinone_rmk': 'AIO',\n",
    "\n",
    "    'system air conditioner': 'CAC',\n",
    "    'single cac': 'CAC',\n",
    "    'điều hòa trung tâm multi': 'CAC',\n",
    "    'cac': 'CAC',\n",
    "    'system ac': 'CAC',\n",
    "\n",
    "    'vrf': 'VRF',\n",
    "    'all lg vrf systems': 'VRF',\n",
    "    'multi v5 vrf': 'VRF',\n",
    "    'نظام التدفق المتغيرvrf': 'VRF',\n",
    "    'vrf - multi v s': 'VRF',\n",
    "    'kimatyzacja vrf': 'VRF',\n",
    "    'điều hòa trung tâm vrf': 'VRF',\n",
    "    'systèmes de débit à réfrigérant variable (drv)': 'VRF',\n",
    "\n",
    "    'điều hòa trung tâm chiller': 'Chiller',\n",
    "    'chiller': 'Chiller',\n",
    "    'مبرد (تشيلر)': 'Chiller',\n",
    "    'chiller/enfriadoras': 'Chiller',\n",
    "\n",
    "    'software solution': 'Solution',\n",
    "    'signage care solution': 'Solution',\n",
    "    'signage care solutions': 'Solution',\n",
    "    'lg home bliss air solution': 'Solution',\n",
    "    'lg paradise air solution': 'Solution',\n",
    "    'lg salang air solution for dream homes': 'Solution',\n",
    "    'حلول التدفئة': 'Solution',\n",
    "    'pro:centric': 'Solution',\n",
    "    'pro centric hotel': 'Solution',\n",
    "    'procentric': 'Solution',\n",
    "\n",
    "    'heating': 'Heating',\n",
    "    'חימום': 'Heating',\n",
    "    'isıtma': 'Heating',\n",
    "    'ogrzewanie (pompy ciepła)': 'Heating',\n",
    "    'calefacción': 'Heating',\n",
    "    'aquecimento': 'Heating',\n",
    "\n",
    "    'rac': 'RAC',\n",
    "    'điều hòa gia dụng': 'RAC',\n",
    "    'เครื่องปรับอากาศเผื่อที่อยู่อาศัย': 'RAC',\n",
    "    'ac rumah': 'RAC',\n",
    "    'aire acondicionado residencial': 'RAC',\n",
    "    'climatiseur résidentiel': 'RAC',\n",
    "    'điều hòa cục bộ': 'RAC',\n",
    "    'residential air conditioner': 'RAC',\n",
    "    'מזגנים למקום מגורים': 'RAC',\n",
    "    'تكييفات': 'RAC',\n",
    "    'ar condicionado residencial': 'RAC',\n",
    "     'pendingin': 'RAC',\n",
    "\n",
    "    'commercial display': 'Display',\n",
    "    'medical display': 'Display',\n",
    "    '互動式顯示屏': 'Display',\n",
    "    'led 顯示屏': 'Display',\n",
    "    '標準顯示屏': 'Display',\n",
    "    'collaboration displays': 'Display',\n",
    "    'oled 顯示屏': 'Display',\n",
    "    'window facing display': 'Display',\n",
    "    'medical displays': 'Display',\n",
    "    'radiology displays': 'Display',\n",
    "    'taa lcd lfd displays': 'Display',\n",
    "    '特別顯示屏': 'Display',\n",
    "    '高亮度顯示屏': 'Display',\n",
    "\n",
    "    'hotel tv': 'TV',\n",
    "    'commercial tv': 'TV',\n",
    "    'hospital tv': 'TV',\n",
    "    'tv': 'TV',\n",
    "    '酒店電視': 'TV',\n",
    "    'tv,commercial tv': 'TV',\n",
    "    'htv': 'TV',\n",
    "    'tv 60\"': 'TV',\n",
    "    'comercial tv': 'TV',\n",
    "    '醫院電視': 'TV',\n",
    "    'ctv': 'TV',\n",
    "    'smart tv': 'TV',\n",
    "    'tv 55\"': 'TV',\n",
    "    'tv 43 pol': 'TV',\n",
    "    '43us660h0sd.awz': 'TV',\n",
    "    '50uq801c0sb.bwz': 'TV',\n",
    "    '55us660h0sd.bwz': 'TV',\n",
    "    '32lq621cbsb.awz': 'TV',\n",
    "    '55uq801c0sb.bwz': 'TV',\n",
    "    '43uq751c0sf.bwz': 'TV',\n",
    "    '43uq751c0sb.bwz': 'TV',\n",
    "    '50us660h0sd.bwz': 'TV',\n",
    "    '43us660h (na)': 'TV',\n",
    "    'hoteleria_us670h': 'TV',\n",
    "\n",
    "    'monitor': 'Monitor',\n",
    "    'computer monitors': 'Monitor',\n",
    "    'medical monitors': 'Monitor',\n",
    "    'monitor & pc': 'Monitor',\n",
    "    'medical monitor': 'Monitor',\n",
    "    'surgical monitor': 'Monitor',\n",
    "    '28mq780': 'Monitor',\n",
    "    'medical- surgical': 'Monitor',\n",
    "    'monitorindustrial_rmk': 'Monitor',\n",
    "\n",
    "    'multi-split': 'Multi Split',\n",
    "    'multi split': 'Multi Split',\n",
    "    'פיצול מרובה': 'Multi Split',\n",
    "    'multi-split (plusieurs pièces)': 'Multi Split',\n",
    "    'klimatyzacja multi-split': 'Multi Split',\n",
    "\n",
    "    'single-split': 'Single Split',\n",
    "    'single split': 'Single Split',\n",
    "    'split tunggal': 'Single Split',\n",
    "\n",
    "    'videowall_rmk': 'Video Wall',\n",
    "    'videwall': 'Video Wall',\n",
    "    '110 + video wall': 'Video Wall',\n",
    "    'video wall': 'Video Wall',\n",
    "    '49vl5g-m': 'Video Wall',\n",
    "    '55vm5e-a': 'Video Wall',\n",
    "    '55vm5j-h': 'Video Wall',\n",
    "    '49vl5f': 'Video Wall',\n",
    "    'videowall signage': 'Video Wall',\n",
    "\n",
    "    'etc.': 'Other',\n",
    "    'lainnya': 'Other',\n",
    "    'אחר': 'Other',\n",
    "    'ฯลฯ': 'Other',\n",
    "    'khác': 'Other',\n",
    "    'outros': 'Other',\n",
    "    'آخر': 'Other',\n",
    "    'not specified': 'Other',\n",
    "    'other': 'Other',\n",
    "    'others': 'Other',\n",
    "    'otros': 'Other',\n",
    "    'autre': 'Other',\n",
    "\n",
    "    'idb': 'IDB',\n",
    "    'interactive digital board': 'IDB',\n",
    "\n",
    "     'washing machine,dryer': 'Several',\n",
    "     'solar,chiller': 'Several',\n",
    "     'system ac,rac': 'Several',\n",
    "     'monitor signage,commercial tv,monior/monitor tv': 'Several',\n",
    "     'monitor signage,monior/monitor tv': 'Several',\n",
    "     'aircare,built-in/cooking': 'Several',\n",
    "     'monitor signage,commercial tv,monior/monitor tv,projector,tv': 'Several',\n",
    "     'monitor signage,commercial tv,monior/monitor tv,tv': 'Several',\n",
    "     'commercial tv,tv': 'Several',\n",
    "     'monitor signage,commercial tv,solar,ess,monior/monitor tv,pc,projector,robot,system ac,ems,rac,chill': 'Several',\n",
    "     'monior/monitor tv,tv': 'Several',\n",
    "     'chiller,aircare': 'Several',\n",
    "     'solar,aircare': 'Several',\n",
    "     'commercial tv,audio/video': 'Several',\n",
    "     'solar,ess': 'Several',\n",
    "     'solar,system ac': 'Several',\n",
    "     'vrf,multi-split': 'Several',\n",
    "     'vrf,multi-split,chiller': 'Several',\n",
    "     'vrf,multi-split,single-split,chiller,heating': 'Several',\n",
    "     'system ac,solar,washing machine': 'Several',\n",
    "     'solar,ess,ems': 'Several',\n",
    "     'tv,mobile': 'Several',\n",
    "     'commercial tv,projector': 'Several',\n",
    "     'aircare,water care': 'Several',\n",
    "     'monior/monitor tv,chiller': 'Several',\n",
    "     'system ac,chiller': 'Several',\n",
    "     'system ac,aircare': 'Several',\n",
    "     'monitor signage,commercial tv': 'Several',\n",
    "     'system ac,tv': 'Several',\n",
    "     'monitor signage,audio/video': 'Several',\n",
    "     'monitor signage,commercial tv,solar,ess,monior/monitor tv,pc': 'Several',\n",
    "     'monitor signage,pc': 'Several',\n",
    "     'monitor signage,commercial tv,solar,ess': 'Several',\n",
    "     'monior/monitor tv,system ac,tv,refrigerator,washing machine,dryer,built-in/cooking': 'Several',\n",
    "     'commercial tv,robot': 'Several',\n",
    "     'monitor signage,solar': 'Several',\n",
    "     'solar,projector': 'Several',\n",
    "     'tv,audio/video': 'Several',\n",
    "     'solar,dryer': 'Several',\n",
    "     'solar,monior/monitor tv': 'Several',\n",
    "     'chiller,dryer': 'Several',\n",
    "     'monior/monitor tv,pc': 'Several',\n",
    "     'solar,refrigerator': 'Several',\n",
    "     'monitor signage,system ac': 'Several',\n",
    "     'system air conditioner,solar': 'Several',\n",
    "     'solar,tv': 'Several',\n",
    "     'monitor signage,tv': 'Several',\n",
    "     'dryer,chiller': 'Several',\n",
    "     'monitor signage,monior/monitor tv,system ac,vacuum cleaner,tv,home beauty,commercial tv,mobile,audio': 'Several',\n",
    "     'solar,vacuum cleaner': 'Several',\n",
    "     'solar,monior/monitor tv,pc,tv,refrigerator,washing machine,dryer,home beauty': 'Several',\n",
    "     'monitor signage,solar,robot,water care': 'Several',\n",
    "     'mobile,audio/video': 'Several',\n",
    "     'system ac,refrigerator,washing machine,dryer': 'Several',\n",
    "     'solar,system ac,aircare': 'Several',\n",
    "     'projector,system ac,water care': 'Several',\n",
    "     'chiller,water care': 'Several',\n",
    "     'monior/monitor tv,tv,commercial tv,pc,refrigerator,solar,rac,washing machine,mobile,ess,audio/video': 'Several',\n",
    "     'ess,chiller': 'Several',\n",
    "     'monitor signage,monior/monitor tv,pc,tv': 'Several',\n",
    "     'solar,water care': 'Several',\n",
    "     'digital signage or commercial tvs': 'Several',\n",
    "     'monitor signage,commercial tv,audio/video': 'Several',\n",
    "     'solar,built-in/cooking': 'Several',\n",
    "     'monitor signage,monior/monitor tv,commercial tv': 'Several',\n",
    "     'commercial tv,monior/monitor tv': 'Several',\n",
    "     'robot,system ac': 'Several',\n",
    "     'commercial tv,water care': 'Several',\n",
    "     'pc,washing machine': 'Several',\n",
    "     'monitor signage,solar,monior/monitor tv,pc,projector,robot,system ac,tv,refrigerator,washing machine': 'Several',\n",
    "     'system ac,tv,refrigerator,washing machine,built-in/cooking,audio/video': 'Several',\n",
    "     'system air conditioner,energy storage system': 'Several',\n",
    "     'system ac,home beauty': 'Several',\n",
    "     'information display,monitor': 'Several',\n",
    "     'rac/cac': 'Several',\n",
    "     'system ac,chiller,aircare': 'Several',\n",
    "     'tv,refrigerator,washing machine': 'Several',\n",
    "     'monior/monitor tv,refrigerator': 'Several',\n",
    "     'monior/monitor tv,system ac,tv,pc,refrigerator,water care,solar,washing machine,mobile,chiller,built': 'Several',\n",
    "     'projector,audio/video': 'Several',\n",
    "     'monior/monitor tv,audio/video': 'Several',\n",
    "     'monitor signage,commercial tv,monior/monitor tv,pc,tv,home beauty,audio/video': 'Several',\n",
    "     'pc,robot,system ac,chiller,tv,refrigerator,washing machine,vacuum cleaner,styler,dryer,mobile,audio/': 'Several',\n",
    "     'refrigerator,washing machine,built-in/cooking': 'Several',\n",
    "     'monitor signage,monior/monitor tv,tv,audio/video': 'Several',\n",
    "     'tv,refrigerator,washing machine,vacuum cleaner,audio/video': 'Several',\n",
    "     'pc,tv': 'Several',\n",
    "     'aircare,mobile': 'Several',\n",
    "     'solar,ess,system ac': 'Several',\n",
    "     'system ac,refrigerator': 'Several',\n",
    "     'tv,pc': 'Several',\n",
    "     'monitor signage,commercial tv,solar,pc,projector,system ac,ems,rac,chiller,refrigerator,washing mach': 'Several',\n",
    "     'chiller,refrigerator': 'Several',\n",
    "     'monitor signage,commercial tv,solar,projector,robot,chiller,refrigerator,built-in/cooking,water care': 'Several',\n",
    "     'commercial tv,solar': 'Several',\n",
    "     'monior/monitor tv,projector,audio/video': 'Several',\n",
    "     'refrigerator,chiller': 'Several',\n",
    "     'chiller,tv': 'Several',\n",
    "     'projector,ems': 'Several',\n",
    "     'vrf,chiller': 'Several',\n",
    "     'monitor signage,mobile': 'Several',\n",
    "     'robot,vacuum cleaner': 'Several',\n",
    "     'monitor signage,commercial tv,monior/monitor tv,audio/video': 'Several',\n",
    "     'video wall + aio': 'Several',\n",
    "     'vrf,single-split': 'Several',\n",
    "     'vrf,multi-split,single-split,chiller,etc.': 'Several',\n",
    "     'multi-split,single-split': 'Several',\n",
    "     'vrf,multi-split,single-split': 'Several',\n",
    "     'vrf,multi-split,etc.': 'Several',\n",
    "     'vrf,multi-split,heating': 'Several',\n",
    "     'vrf,multi-split,single-split,chiller': 'Several',\n",
    "     'vrf,multi-split,single-split,heating': 'Several',\n",
    "     'vrf,single-split,chiller': 'Several',\n",
    "     'commercial tv,solar,ess,projector,system ac,tv,washing machine,home beauty,audio/video': 'Several',\n",
    "     'solar,robot': 'Several',\n",
    "     'monitor signage,commercial tv,monior/monitor tv,pc,projector,tv,audio/video': 'Several',\n",
    "     'solar,energy storage system': 'Several',\n",
    "     'system ac,solar': 'Several',\n",
    "     'solar,system ac,water care': 'Several',\n",
    "     'vrf,heating': 'Several',\n",
    "     'monitor signage,monior/monitor tv,vacuum cleaner,tv,home beauty,commercial tv,pc,refrigerator,styler': 'Several',\n",
    "     'refrigerator,built-in/cooking': 'Several',\n",
    "     'ems,audio/video': 'Several',\n",
    "     'projector,ems,mobile,audio/video': 'Several',\n",
    "     'commercial tv,solar,ess,monior/monitor tv,pc,projector,robot,system ac,ems,rac,chiller,refrigerator,': 'Several',\n",
    "     'tv,refrigerator': 'Several',\n",
    "     'monior/monitor tv,refrigerator,audio/video': 'Several'\n",
    "}\n",
    "\n",
    "# 주어진 값을 카테고리에 따라 변환\n",
    "def map_to_category(value):\n",
    "    return categories.get(value, value)\n",
    "\n",
    "# 판다스 시리즈를 입력으로 받아 카테고리에 따라 변환된 값을 반환\n",
    "def transform_column_values_series(column_series):\n",
    "    return column_series.map(map_to_category)\n",
    "\n",
    "\n",
    "# 변환된 칼럼 값 출력\n",
    "df_train['product_category'] = transform_column_values_series(df_train['product_category'])\n",
    "df_test['product_category'] = transform_column_values_series(df_test['product_category'])"
   ]
  },
  {
   "cell_type": "code",
   "execution_count": 94,
   "id": "d232e4db-d440-4dcb-ba15-d492000d3ce9",
   "metadata": {},
   "outputs": [
    {
     "name": "stdout",
     "output_type": "stream",
     "text": [
      "빈도수가 1인 행의 개수: 19\n"
     ]
    }
   ],
   "source": [
    "count_1 = (df_train['product_category'].value_counts() == 1).sum()\n",
    "print(f\"빈도수가 1인 행의 개수: {count_1}\")"
   ]
  },
  {
   "cell_type": "code",
   "execution_count": 95,
   "id": "ed1976db-691b-4a44-a3f4-c07694adf5e2",
   "metadata": {},
   "outputs": [],
   "source": [
    "df_train['product_category']= df_train['product_category'].fillna('None')\n",
    "df_test['product_category']= df_test['product_category'].fillna('None')"
   ]
  },
  {
   "cell_type": "code",
   "execution_count": 96,
   "id": "10df703d-adbf-47d2-982a-f02a8b4466fb",
   "metadata": {},
   "outputs": [
    {
     "data": {
      "text/plain": [
       "product_category\n",
       "None                        19374\n",
       "IDB                          6185\n",
       "VRF                          5736\n",
       "DIGITAL Signage              5615\n",
       "Multi Split                  3683\n",
       "                            ...  \n",
       "32 / 43 pol                     1\n",
       "high inch 86 / 98 or 110        1\n",
       "refrigerator                    1\n",
       "aio | one quick                 1\n",
       "parts                           1\n",
       "Name: count, Length: 75, dtype: int64"
      ]
     },
     "execution_count": 96,
     "metadata": {},
     "output_type": "execute_result"
    }
   ],
   "source": [
    "df_train['product_category'].value_counts()"
   ]
  },
  {
   "cell_type": "code",
   "execution_count": 97,
   "id": "bbbb35ef-d355-4992-abd6-a8b9fbe5c140",
   "metadata": {},
   "outputs": [],
   "source": [
    "counts = df_train['product_category'].value_counts()\n",
    "threshold = 11\n",
    "low_frequency = counts[counts < threshold].index\n",
    "df_train['product_category'] = df_train['product_category'].replace(low_frequency, 'Other')"
   ]
  },
  {
   "cell_type": "code",
   "execution_count": 98,
   "id": "50e0960b-8a10-4795-80bc-98cfa9f08cc0",
   "metadata": {
    "scrolled": true
   },
   "outputs": [
    {
     "data": {
      "text/plain": [
       "product_category\n",
       "None                            19374\n",
       "IDB                              6185\n",
       "VRF                              5736\n",
       "DIGITAL Signage                  5615\n",
       "Multi Split                      3683\n",
       "Other                            2257\n",
       "video wall signage               2029\n",
       "LED Signage                      1939\n",
       "RAC                              1770\n",
       "Single Split                     1576\n",
       "TV                               1371\n",
       "OLED Signage                     1352\n",
       "Display                          1121\n",
       "Chiller                          1057\n",
       "Monitor                           807\n",
       "Heating                           713\n",
       "ventilation                       420\n",
       "Solution                          366\n",
       "Several                           323\n",
       "teto ou cassete inverter          308\n",
       "control                           263\n",
       "multi inverter                    257\n",
       "webos                             144\n",
       "Video Wall                        122\n",
       "pc                                114\n",
       "projector                          83\n",
       "multi v 5 air                      51\n",
       "technical support                  50\n",
       "cloud device                       46\n",
       "laptop                             41\n",
       "a thermodynamic water heater       37\n",
       "virtual production                 30\n",
       "services                           20\n",
       "education createboard              14\n",
       "multi v water 5                    13\n",
       "CAC                                12\n",
       "Name: count, dtype: int64"
      ]
     },
     "execution_count": 98,
     "metadata": {},
     "output_type": "execute_result"
    }
   ],
   "source": [
    "df_train['product_category'].value_counts()"
   ]
  },
  {
   "cell_type": "code",
   "execution_count": 99,
   "id": "f043eebb-d3ed-46b5-8321-69eabb5107e3",
   "metadata": {
    "scrolled": true
   },
   "outputs": [
    {
     "data": {
      "text/plain": [
       "product_category\n",
       "None                  1858\n",
       "VRF                    726\n",
       "DIGITAL Signage        595\n",
       "Multi Split            544\n",
       "LED Signage            289\n",
       "Other                  207\n",
       "Single Split           179\n",
       "video wall signage     167\n",
       "TV                     144\n",
       "OLED Signage           104\n",
       "Chiller                 99\n",
       "IDB                     74\n",
       "Heating                 67\n",
       "Monitor                 58\n",
       "Display                 32\n",
       "ventilation             31\n",
       "Solution                22\n",
       "cloud device            18\n",
       "webos                   14\n",
       "laptop                  13\n",
       "control                 13\n",
       "projector               12\n",
       "ess                      4\n",
       "notebook                 1\n",
       "Name: count, dtype: int64"
      ]
     },
     "execution_count": 99,
     "metadata": {},
     "output_type": "execute_result"
    }
   ],
   "source": [
    "df_test['product_category'].value_counts()"
   ]
  },
  {
   "cell_type": "code",
   "execution_count": 100,
   "id": "049e8d78-7f9d-4e23-9c78-f333e0c49b68",
   "metadata": {},
   "outputs": [],
   "source": [
    "counts = df_test['product_category'].value_counts()\n",
    "threshold = 10\n",
    "low_frequency = counts[counts < threshold].index\n",
    "df_test['product_category'] = df_test['product_category'].replace(low_frequency, 'Other')"
   ]
  },
  {
   "cell_type": "code",
   "execution_count": 101,
   "id": "d7c4e2b6-44b6-4d64-8d48-b972c513ef43",
   "metadata": {},
   "outputs": [
    {
     "name": "stdout",
     "output_type": "stream",
     "text": [
      "set()\n"
     ]
    }
   ],
   "source": [
    "# train에 없는 값이 test에 있을까? \n",
    "\n",
    "train_vals = set(df_train['product_category'].unique())\n",
    "test_vals = set(df_test['product_category'].unique())\n",
    "\n",
    "test_not_train = test_vals - train_vals\n",
    "\n",
    "print(test_not_train) "
   ]
  },
  {
   "cell_type": "code",
   "execution_count": 102,
   "id": "7ef8d329-5d58-40b7-b7aa-e96fbe48b4f8",
   "metadata": {},
   "outputs": [],
   "source": [
    "# TargetEncoder 적용\n",
    "target_encoder = TargetEncoder(smoothing=1.0)\n",
    "df_train['product_category'] = target_encoder.fit_transform(df_train['product_category'], df_train['is_converted'])\n",
    "df_test['product_category'] = target_encoder.transform(df_test['product_category'])  # 'transform'만 호출하여 새로운 데이터에 적용\n"
   ]
  },
  {
   "cell_type": "markdown",
   "id": "d5574362",
   "metadata": {},
   "source": [
    "plot_top_conversion_rates(df_train, 'product_category', 'is_converted', top_n=30)"
   ]
  },
  {
   "cell_type": "markdown",
   "id": "769f5b46",
   "metadata": {},
   "source": [
    "plot_top_conversion_rates(df_test, 'product_category', 'is_converted', top_n=30)"
   ]
  },
  {
   "cell_type": "markdown",
   "id": "49feec3d-b3ab-4bc1-b4fe-dc2b31dc711c",
   "metadata": {},
   "source": [
    "# 13. inquiry_type\n",
    "- inquiry_type\t고객의 문의 유형"
   ]
  },
  {
   "cell_type": "code",
   "execution_count": 103,
   "id": "ea427b13-0ae8-4e1b-95de-1a5591ab8b06",
   "metadata": {
    "scrolled": true
   },
   "outputs": [
    {
     "data": {
      "text/plain": [
       "inquiry_type\n",
       "Quotation or purchase consultation                                                                                     23274\n",
       "Quotation or Purchase Consultation                                                                                     18766\n",
       "Sales Inquiry                                                                                                           9977\n",
       "Product Information                                                                                                     1237\n",
       "Other                                                                                                                    929\n",
       "                                                                                                                       ...  \n",
       "quotation_                                                                                                                 1\n",
       "display product                                                                                                            1\n",
       "first Info and pricing                                                                                                     1\n",
       "estoy buscando para Ecuador este producto LG MAGNIT micro LED, para un cliente de 138 pulgadas, con envió marítimo.        1\n",
       "Evento_SdelEstero                                                                                                          1\n",
       "Name: count, Length: 71, dtype: int64"
      ]
     },
     "execution_count": 103,
     "metadata": {},
     "output_type": "execute_result"
    }
   ],
   "source": [
    "df_train['inquiry_type'].value_counts()"
   ]
  },
  {
   "cell_type": "markdown",
   "id": "48dd0dad",
   "metadata": {},
   "source": [
    "plot_top_conversion_rates(df_train, 'inquiry_type', 'is_converted', top_n=30)"
   ]
  },
  {
   "cell_type": "code",
   "execution_count": 104,
   "id": "43a847fc-90e2-47cd-b99c-3ad99736d1b1",
   "metadata": {},
   "outputs": [],
   "source": [
    "# 주어진 값들을 범주에 따라 매핑하는 딕셔너리 생성\n",
    "category_mapping = {\n",
    "    'Quotation or purchase consultation': 'Quotation',\n",
    "    'Quotation or Purchase Consultation': 'Quotation',\n",
    "    'quotation_or_purchase_consultation': 'Quotation',\n",
    "    'Request for quotation or purchase': 'Quotation',\n",
    "    'Quotation or Purchase consultation': 'Quotation',\n",
    "    'Purchase': 'Quotation',\n",
    "    'quotation_': 'Quotation',\n",
    "    'Purchase or Quotation': 'Quotation',\n",
    "    'first Info and pricing': 'Quotation',\n",
    "    'Hola me pueden cotizar 19 pantallas interactivas de 100 pulgadas entregadas en Guayaquil -Ecuador.': 'Quotation',\n",
    "    'Vui lòng báo giá giúp mình sản phẩm đo thân nhiệt Xin cảm ơn': 'Quotation',\n",
    "    'Probeam precio': 'Quotation',\n",
    "    'Solicito apoyo para realizar cotizacion de los dispositivos que ofrecen en la solución\\xa0One Quick:\\xa0': 'Quotation',\n",
    "    'Toi muon tim hieu thong tin ky thuat, gia ca cua sp de su dung': 'Quotation',\n",
    "    'tôi cần tham khảo giá và giải pháp từ LG': 'Quotation',\n",
    "    \n",
    "    'Product Information': 'Product',\n",
    "    'One Quick:Flex': 'Product',\n",
    "    'AIO': 'Product',\n",
    "    'Hospital TV': 'Product',\n",
    "    'EDUCATIONAL EQUIPMENTS': 'Product',\n",
    "    'Digital platform': 'Product',\n",
    "    'TV interactive': 'Product',\n",
    "    'Display Textbook and photos': 'Product',\n",
    "    'High inch 86 / 98 or 110': 'Product',\n",
    "    'display product': 'Product',\n",
    "    'estoy buscando para Ecuador este producto LG MAGNIT micro LED, para un cliente de 138 pulgadas, con envió marítimo.': 'Product',\n",
    "    'Hotel TV products': 'Product',\n",
    "    'Pantallas Interactivas para Clinicas': 'Product',\n",
    "    'IDB': 'Product',\n",
    "    'LED Signage': 'Product',\n",
    "    'Standalone': 'Product',\n",
    "    'Video Wall': 'Product',\n",
    "    'Preciso de um monitor médico para radiografia convencional e tomogrtafia.': 'Product',\n",
    "    'VRF': 'Product',\n",
    "    'window facing product': 'Product',\n",
    "    \n",
    "    'Usage or technical consultation': 'Technical',\n",
    "    'Technical Support': 'Technical',\n",
    "    'Usage or Technical Consultation': 'Technical',\n",
    "    'Technical Consultation': 'Technical',\n",
    "    'technical': 'Technical',\n",
    "    'usage or technical consultation': 'Technical',\n",
    "    'usage_or_technical_consultation': 'Technical',\n",
    "    'Request for technical consulting': 'Technical',\n",
    "    'technical_consultation': 'Technical',\n",
    "    \n",
    "    'Other': 'Other',\n",
    "    'Etc.': 'Other',\n",
    "    'other': 'Other',\n",
    "    'other_': 'Other',\n",
    "    'Others': 'Other',\n",
    "    'others': 'Other',\n",
    "    'ETC.': 'Other',\n",
    "    'Not specified': 'Other',\n",
    "    \n",
    "    'Event Inquiry': 'Event',\n",
    "    'Evento_SdelEstero': 'Event'\n",
    "}\n",
    "\n",
    "# 주어진 값을 카테고리에 따라 변환\n",
    "def map_to_category(value):\n",
    "    return category_mapping.get(value, value)\n",
    "\n",
    "# 판다스 시리즈를 입력으로 받아 카테고리에 따라 변환된 값을 반환\n",
    "def transform_column_values_series(column_series):\n",
    "    return column_series.map(map_to_category)\n",
    "\n",
    "\n",
    "# 변환된 칼럼 값 출력\n",
    "df_train['inquiry_type'] = transform_column_values_series(df_train['inquiry_type'])\n",
    "df_test['inquiry_type'] = transform_column_values_series(df_test['inquiry_type'])"
   ]
  },
  {
   "cell_type": "code",
   "execution_count": 105,
   "id": "732a5c7c-700c-424c-81d9-17bdc0ff3d60",
   "metadata": {},
   "outputs": [],
   "source": [
    "counts = df_train['inquiry_type'].value_counts()\n",
    "threshold = 13\n",
    "low_frequency = counts[counts < threshold].index\n",
    "df_train['inquiry_type'] = df_train['inquiry_type'].replace(low_frequency, 'Other')"
   ]
  },
  {
   "cell_type": "code",
   "execution_count": 106,
   "id": "aead7a71-b36a-4ea5-bc52-86b88b7381df",
   "metadata": {},
   "outputs": [],
   "source": [
    "counts = df_test['inquiry_type'].value_counts()\n",
    "threshold = 13\n",
    "low_frequency = counts[counts < threshold].index\n",
    "df_test['inquiry_type'] = df_test['inquiry_type'].replace(low_frequency, 'Other')"
   ]
  },
  {
   "cell_type": "code",
   "execution_count": 107,
   "id": "a3b43e54-d55d-4c5d-94fa-c2162402e5a9",
   "metadata": {},
   "outputs": [
    {
     "data": {
      "text/plain": [
       "inquiry_type\n",
       "Quotation                      42395\n",
       "Sales Inquiry                   9977\n",
       "Technical                       1778\n",
       "Other                           1437\n",
       "Product                         1266\n",
       "Trainings                        434\n",
       "Services                         415\n",
       "Request for Partnership          297\n",
       "Request a Demo                   184\n",
       "sales                            100\n",
       "Request for Distributorship       75\n",
       "Name: count, dtype: int64"
      ]
     },
     "execution_count": 107,
     "metadata": {},
     "output_type": "execute_result"
    }
   ],
   "source": [
    "df_train['inquiry_type'].value_counts()"
   ]
  },
  {
   "cell_type": "code",
   "execution_count": 108,
   "id": "a63fb2f2-050a-4f6a-be75-c3311b159ea2",
   "metadata": {},
   "outputs": [
    {
     "name": "stdout",
     "output_type": "stream",
     "text": [
      "set()\n"
     ]
    }
   ],
   "source": [
    "# train에 없는 값이 test에 있을까? \n",
    "\n",
    "train_vals = set(df_train['product_category'].unique())\n",
    "test_vals = set(df_test['product_category'].unique())\n",
    "\n",
    "test_not_train = test_vals - train_vals\n",
    "\n",
    "print(test_not_train) "
   ]
  },
  {
   "cell_type": "code",
   "execution_count": 109,
   "id": "e8a13551-87f3-4367-a583-a49eb185afe5",
   "metadata": {},
   "outputs": [
    {
     "name": "stdout",
     "output_type": "stream",
     "text": [
      "object\n"
     ]
    }
   ],
   "source": [
    "# 'customer_idx' 열의 데이터 타입 확인\n",
    "print(df_train['inquiry_type'].dtype)\n",
    "\n",
    "# 'customer_idx' 열을 범주형으로 변환 (만약 int64일 경우)!!!!?\n",
    "df_train['inquiry_type'] = df_train['inquiry_type'].astype(str)\n",
    "df_test['inquiry_type'] = df_test['inquiry_type'].astype(str)\n",
    "\n",
    "# TargetEncoder 적용\n",
    "target_encoder = TargetEncoder(smoothing=1.0)\n",
    "df_train['inquiry_type'] = target_encoder.fit_transform(df_train['inquiry_type'], df_train['is_converted'])\n",
    "df_test['inquiry_type'] = target_encoder.transform(df_test['inquiry_type'])  # 'transform'만 호출하여 새로운 데이터에 적용\n",
    "\n"
   ]
  },
  {
   "cell_type": "markdown",
   "id": "9045a19e",
   "metadata": {},
   "source": [
    "plot_top_conversion_rates(df_train, 'inquiry_type', 'is_converted', top_n=30)"
   ]
  },
  {
   "cell_type": "markdown",
   "id": "c2ae11b6",
   "metadata": {},
   "source": [
    "plot_top_conversion_rates(df_test, 'inquiry_type', 'is_converted', top_n=30)"
   ]
  },
  {
   "cell_type": "markdown",
   "id": "30a56be7-5fdb-4517-98ec-8b3b528c091c",
   "metadata": {},
   "source": [
    "# 14. response_corporate\n",
    "- \t담당 자사 법인명"
   ]
  },
  {
   "cell_type": "code",
   "execution_count": 110,
   "id": "c915021f-a0fb-4724-b7f3-b0b0267f07ec",
   "metadata": {},
   "outputs": [
    {
     "data": {
      "text/plain": [
       "0"
      ]
     },
     "execution_count": 110,
     "metadata": {},
     "output_type": "execute_result"
    }
   ],
   "source": [
    "df_train['response_corporate'].isnull().sum()"
   ]
  },
  {
   "cell_type": "code",
   "execution_count": 111,
   "id": "a88ec1ce-ce77-447e-bdcc-f469e5f449bc",
   "metadata": {
    "scrolled": true
   },
   "outputs": [
    {
     "data": {
      "text/plain": [
       "response_corporate\n",
       "LGEIL    16908\n",
       "LGESP     9311\n",
       "LGEUS     5955\n",
       "LGEMS     2768\n",
       "LGEPH     2651\n",
       "LGEGF     2149\n",
       "LGECB     2079\n",
       "LGEUK     1651\n",
       "LGESJ     1469\n",
       "LGECL     1339\n",
       "LGEPS     1252\n",
       "LGEIS     1146\n",
       "LGEPR     1131\n",
       "LGEDG     1051\n",
       "LGEPL      850\n",
       "LGEEG      704\n",
       "LGEVH      614\n",
       "LGEES      592\n",
       "LGETK      541\n",
       "LGEAR      491\n",
       "LGEKR      433\n",
       "LGEHK      383\n",
       "LGEAP      366\n",
       "LGESL      348\n",
       "LGEMK      331\n",
       "LGEFS      302\n",
       "LGEAF      288\n",
       "LGEIN      281\n",
       "LGELF      274\n",
       "LGESA      268\n",
       "LGECI      263\n",
       "LGETH      185\n",
       "LGEEF      159\n",
       "LGEPT      111\n",
       "LGEML      110\n",
       "LGEBN       99\n",
       "LGEYK       78\n",
       "LGECH       65\n",
       "LGEHS       51\n",
       "LGETT       47\n",
       "LGEJP       41\n",
       "LGEAS       33\n",
       "LGESW       31\n",
       "LGEMC       30\n",
       "LGERO       29\n",
       "LGEEB       13\n",
       "LGEAG        8\n",
       "LGERA        8\n",
       "LGECZ        7\n",
       "LGELA        2\n",
       "LGEUR        1\n",
       "LGEIR        1\n",
       "LGEBT        1\n",
       "Name: count, dtype: int64"
      ]
     },
     "execution_count": 111,
     "metadata": {},
     "output_type": "execute_result"
    }
   ],
   "source": [
    "df_train['response_corporate'].value_counts()"
   ]
  },
  {
   "cell_type": "code",
   "execution_count": 112,
   "id": "bbb78617-7047-44a9-8edb-5989512f5b54",
   "metadata": {},
   "outputs": [],
   "source": [
    "counts = df_train['response_corporate'].value_counts()\n",
    "threshold = 10\n",
    "low_frequency = counts[counts < threshold].index\n",
    "df_train['response_corporate'] = df_train['response_corporate'].replace(low_frequency, 'Other')"
   ]
  },
  {
   "cell_type": "code",
   "execution_count": 113,
   "id": "9f14c104-1276-49eb-939a-e0c53b2b436c",
   "metadata": {},
   "outputs": [],
   "source": [
    "counts = df_test['response_corporate'].value_counts()\n",
    "threshold = 10\n",
    "low_frequency = counts[counts < threshold].index\n",
    "df_test['response_corporate'] = df_test['response_corporate'].replace(low_frequency, 'Other')"
   ]
  },
  {
   "cell_type": "code",
   "execution_count": 114,
   "id": "d47ba884-4e00-4f70-9439-4804a26a86c6",
   "metadata": {},
   "outputs": [
    {
     "name": "stdout",
     "output_type": "stream",
     "text": [
      "set()\n"
     ]
    }
   ],
   "source": [
    "# train에 없는 값이 test에 있을까? \n",
    "\n",
    "train_vals = set(df_train['response_corporate'].unique())\n",
    "test_vals = set(df_test['response_corporate'].unique())\n",
    "\n",
    "test_not_train = test_vals - train_vals\n",
    "\n",
    "print(test_not_train) "
   ]
  },
  {
   "cell_type": "code",
   "execution_count": 115,
   "id": "a2bfd0a8-a984-4e91-a9e7-4d2543453b4d",
   "metadata": {},
   "outputs": [],
   "source": [
    "# TargetEncoder 적용\n",
    "target_encoder = TargetEncoder(smoothing=1.0)\n",
    "df_train['response_corporate'] = target_encoder.fit_transform(df_train['response_corporate'], df_train['is_converted'])\n",
    "df_test['response_corporate'] = target_encoder.transform(df_test['response_corporate'])  # 'transform'만 호출하여 새로운 데이터에 적용"
   ]
  },
  {
   "cell_type": "markdown",
   "id": "54ec64ac",
   "metadata": {},
   "source": [
    "plot_top_conversion_rates(df_train, 'response_corporate', 'is_converted', top_n=30)"
   ]
  },
  {
   "cell_type": "markdown",
   "id": "bd24180f",
   "metadata": {},
   "source": [
    "plot_top_conversion_rates(df_test, 'response_corporate', 'is_converted', top_n=30)"
   ]
  },
  {
   "cell_type": "markdown",
   "id": "309a7ec9-0eb3-412e-8e4e-fe5200af2607",
   "metadata": {},
   "source": [
    "# 15. expected_timeline"
   ]
  },
  {
   "cell_type": "code",
   "execution_count": 116,
   "id": "b83c1d22-dde2-4f76-a393-9dc62f06a618",
   "metadata": {},
   "outputs": [],
   "source": [
    "def update_expected_timeline(value):\n",
    "    if pd.notna(value):\n",
    "        original_value = value\n",
    "        mapping_rules = {\n",
    "            ('requi', 'reqi'): 'requirement',\n",
    "            ('no', 'not'): 'no requirement',\n",
    "            ('follow',): 'follow',\n",
    "            ('details',): 'details shared',\n",
    "            ('call back', 'call later', 'call after'): 'call back'\n",
    "        }\n",
    "        for keywords, updated_value in mapping_rules.items():\n",
    "            if any(keyword in value for keyword in keywords):\n",
    "                return updated_value\n",
    "        return original_value\n",
    "\n",
    "\n",
    "def mapping(df, timeline_mapping):\n",
    "    df['expected_timeline'] = df['expected_timeline'].apply(update_expected_timeline)\n",
    "    df['expected_timeline'] = df['expected_timeline'].map(timeline_mapping).fillna(df['expected_timeline'])\n",
    "    return df\n",
    "\n",
    "timeline_mapping = {\n",
    "    \"less than 3 months\": \"0-3m\",\n",
    "    \"less_than_3_months\": \"0-3m\",\n",
    "    \n",
    "    \"3 months ~ 6 months\": \"3-6m\",\n",
    "    \"3_months_~6_months\": \"3-6m\",\n",
    "    \"3_months_~_6_months\": \"3-6m\",\n",
    "    \n",
    "    \"6 months ~ 9 months\": \"6-9m\",\n",
    "    \"6_months~9_months\": \"6-9m\",\n",
    "    \n",
    "    \"9 months ~ 1 year\": \"9-12m\",\n",
    "    \"9_months~_1_year\": \"9-12m\",\n",
    "    \"9_months_~_1_year\": \"9-12m\",\n",
    "    \n",
    "    \"up to december\": \"1y\",\n",
    "    \"more than a year\": \"1y\",\n",
    "    \"more_than_a_year\": \"1y\",\n",
    "    \n",
    "    \"couldn't connect\": \"no response\",\n",
    "    \"didn't respond\": \"no response\",\n",
    "    \"rnr\": \"no response\",\n",
    "    \"reponse\": \"response\"\n",
    "}\n",
    "\n",
    "\n",
    "df_train = mapping(df_train, timeline_mapping)\n",
    "df_test = mapping(df_test, timeline_mapping)\n",
    "\n",
    "# nan을 'no requirement'로 채우기\n",
    "df_train['expected_timeline'].fillna('no requirement', inplace=True)\n",
    "df_test['expected_timeline'].fillna('no requirement', inplace=True)\n"
   ]
  },
  {
   "cell_type": "code",
   "execution_count": 117,
   "id": "1b53d165-a852-4248-bf54-d0b88a782279",
   "metadata": {
    "scrolled": true
   },
   "outputs": [
    {
     "data": {
      "text/plain": [
       "expected_timeline\n",
       "no requirement                                                                                                                  30983\n",
       "0-3m                                                                                                                            17326\n",
       "3-6m                                                                                                                             5035\n",
       "1y                                                                                                                               3028\n",
       "9-12m                                                                                                                            1107\n",
       "                                                                                                                                ...  \n",
       "received po.                                                                                                                        1\n",
       "september                                                                                                                           1\n",
       "he is looking for display for his restaurant. he has asked to contact him after 1 month as restaurant work is under progress        1\n",
       "his budget is very low.                                                                                                             1\n",
       "quote shared with him.                                                                                                              1\n",
       "Name: count, Length: 204, dtype: int64"
      ]
     },
     "execution_count": 117,
     "metadata": {},
     "output_type": "execute_result"
    }
   ],
   "source": [
    "df_train['expected_timeline'].value_counts()"
   ]
  },
  {
   "cell_type": "code",
   "execution_count": 118,
   "id": "4b070e8f-c533-48cc-8dbf-4a530cdd8b55",
   "metadata": {},
   "outputs": [],
   "source": [
    "counts = df_train['expected_timeline'].value_counts()\n",
    "threshold = 10\n",
    "low_frequency = counts[counts < threshold].index\n",
    "df_train['expected_timeline'] = df_train['expected_timeline'].replace(low_frequency, 'Other')"
   ]
  },
  {
   "cell_type": "code",
   "execution_count": 119,
   "id": "2c05d7de-9cef-459b-aa8e-6b4b4b61887c",
   "metadata": {},
   "outputs": [
    {
     "data": {
      "text/plain": [
       "expected_timeline\n",
       "no requirement        30983\n",
       "0-3m                  17326\n",
       "3-6m                   5035\n",
       "1y                     3028\n",
       "9-12m                  1107\n",
       "6-9m                   1098\n",
       "Other                   220\n",
       "requirement             112\n",
       "follow                  108\n",
       "less than 6 months      108\n",
       "etc.                     95\n",
       "details shared           45\n",
       "no response              17\n",
       "call back                17\n",
       "Name: count, dtype: int64"
      ]
     },
     "execution_count": 119,
     "metadata": {},
     "output_type": "execute_result"
    }
   ],
   "source": [
    "df_train['expected_timeline'].value_counts()"
   ]
  },
  {
   "cell_type": "code",
   "execution_count": 120,
   "id": "7da132a8-8621-4475-9514-9a5aace73676",
   "metadata": {},
   "outputs": [
    {
     "data": {
      "text/plain": [
       "expected_timeline\n",
       "no requirement    2408\n",
       "0-3m              1734\n",
       "3-6m               426\n",
       "1y                 272\n",
       "9-12m              264\n",
       "6-9m               167\n",
       "Name: count, dtype: int64"
      ]
     },
     "execution_count": 120,
     "metadata": {},
     "output_type": "execute_result"
    }
   ],
   "source": [
    "df_test['expected_timeline'].value_counts()"
   ]
  },
  {
   "cell_type": "code",
   "execution_count": 121,
   "id": "b8b795fe-6ec2-4bef-a917-9bd7f8e716c6",
   "metadata": {},
   "outputs": [],
   "source": [
    "# TargetEncoder 적용\n",
    "target_encoder = TargetEncoder(smoothing=1.0)\n",
    "df_train['expected_timeline'] = target_encoder.fit_transform(df_train['expected_timeline'], df_train['is_converted'])\n",
    "df_test['expected_timeline'] = target_encoder.transform(df_test['expected_timeline'])  # 'transform'만 호출하여 새로운 데이터에 적용"
   ]
  },
  {
   "cell_type": "markdown",
   "id": "1ed83bdd",
   "metadata": {},
   "source": [
    "plot_top_conversion_rates(df_train, 'expected_timeline', 'is_converted', top_n=30)"
   ]
  },
  {
   "cell_type": "markdown",
   "id": "078dccdd",
   "metadata": {},
   "source": [
    "plot_top_conversion_rates(df_test, 'expected_timeline', 'is_converted', top_n=30)"
   ]
  },
  {
   "cell_type": "markdown",
   "id": "d4d56b53-599a-41f6-a158-8dec095a6c34",
   "metadata": {},
   "source": [
    "# ※ business area, subarea"
   ]
  },
  {
   "cell_type": "code",
   "execution_count": 122,
   "id": "c894a7f9-d95d-4a41-91cf-d45956ff7af6",
   "metadata": {
    "scrolled": true
   },
   "outputs": [
    {
     "name": "stdout",
     "output_type": "stream",
     "text": [
      "40882\n",
      "----------\n",
      "2898\n",
      "----------\n",
      "business_area\n",
      "corporate / office                4097\n",
      "retail                            3011\n",
      "hotel & accommodation             2013\n",
      "special purpose                   1929\n",
      "residential (home)                1818\n",
      "education                         1727\n",
      "hospital & health care            1199\n",
      "factory                           1035\n",
      "government department              650\n",
      "public facility                    519\n",
      "transportation                     306\n",
      "power plant / renewable energy     113\n",
      "Name: count, dtype: int64\n",
      "----------\n",
      "business_area\n",
      "corporate / office                581\n",
      "transportation                    431\n",
      "retail                            318\n",
      "education                         312\n",
      "hotel & accommodation             177\n",
      "hospital & health care            133\n",
      "residential (home)                124\n",
      "special purpose                    93\n",
      "factory                            77\n",
      "public facility                    48\n",
      "government department              48\n",
      "power plant / renewable energy     31\n",
      "Name: count, dtype: int64\n"
     ]
    }
   ],
   "source": [
    "print(df_train['business_area'].isnull().sum())\n",
    "print('-'*10)\n",
    "print(df_test['business_area'].isnull().sum())\n",
    "print('-'*10)\n",
    "print(df_train['business_area'].value_counts())\n",
    "print('-'*10)\n",
    "print(df_test['business_area'].value_counts())"
   ]
  },
  {
   "cell_type": "code",
   "execution_count": 123,
   "id": "e8aae1b7-780e-451f-b696-edfb817782b2",
   "metadata": {
    "scrolled": true
   },
   "outputs": [
    {
     "name": "stdout",
     "output_type": "stream",
     "text": [
      "53773\n",
      "----------\n",
      "3455\n",
      "----------\n",
      "business_subarea\n",
      "Others                           1740\n",
      "Other Stores                      280\n",
      "Hospital                          267\n",
      "Manufacturing Factory / Plant     196\n",
      "Construction                      191\n",
      "                                 ... \n",
      "Duty Free Shop                      2\n",
      "Dormitory                           1\n",
      "Casino Resort                       1\n",
      "Holdings                            1\n",
      "Travel Agency                       1\n",
      "Name: count, Length: 86, dtype: int64\n",
      "----------\n",
      "business_subarea\n",
      "Others                                     667\n",
      "Hotel                                      123\n",
      "Higher Education (College & University)    111\n",
      "Other Stores                                82\n",
      "K12 Kindergarten & Schools                  80\n",
      "                                          ... \n",
      "Travel Agency                                1\n",
      "Aerospace                                    1\n",
      "Botanical Garden / Green House               1\n",
      "Sea Passenger Terminal / Port                1\n",
      "Bus Terminal                                 1\n",
      "Name: count, Length: 80, dtype: int64\n"
     ]
    }
   ],
   "source": [
    "print(df_train['business_subarea'].isnull().sum())\n",
    "print('-'*10)\n",
    "print(df_test['business_subarea'].isnull().sum())\n",
    "print('-'*10)\n",
    "print(df_train['business_subarea'].value_counts())\n",
    "print('-'*10)\n",
    "print(df_test['business_subarea'].value_counts())"
   ]
  },
  {
   "cell_type": "code",
   "execution_count": 124,
   "id": "fb2edd5a-523a-44ef-95e9-9a2855d31e81",
   "metadata": {},
   "outputs": [],
   "source": [
    "# df_train\n",
    "grouped_data_train = df_train.groupby('business_area')['business_subarea'].apply(list)\n",
    "mode_subarea_by_area_train = df_train.groupby('business_area')['business_subarea'].apply(lambda x: x.mode().iloc[0] if not x.mode().empty else None)\n",
    "df_train['business_subarea'] = df_train.apply(lambda row: mode_subarea_by_area_train.get(row['business_area'], row['business_subarea']), axis=1)\n",
    "\n",
    "# df_test\n",
    "grouped_data_test = df_test.groupby('business_area')['business_subarea'].apply(list)\n",
    "mode_subarea_by_area_test = df_test.groupby('business_area')['business_subarea'].apply(lambda x: x.mode().iloc[0] if not x.mode().empty else None)\n",
    "df_test['business_subarea'] = df_test.apply(lambda row: mode_subarea_by_area_test.get(row['business_area'], row['business_subarea']), axis=1)"
   ]
  },
  {
   "cell_type": "code",
   "execution_count": 125,
   "id": "bc7c5c39-ddb8-4af0-9b24-b221130a8149",
   "metadata": {
    "scrolled": true
   },
   "outputs": [
    {
     "name": "stdout",
     "output_type": "stream",
     "text": [
      "40882\n",
      "----------\n",
      "2898\n",
      "----------\n",
      "business_subarea\n",
      "Others                                     8050\n",
      "Other Stores                               3011\n",
      "Cruise                                     2013\n",
      "Villa / Single-Family Home                 1818\n",
      "Higher Education (College & University)    1727\n",
      "Manufacturing Factory / Plant              1035\n",
      "General Government Office                   650\n",
      "Renewable Energy                            113\n",
      "Name: count, dtype: int64\n",
      "----------\n",
      "business_subarea\n",
      "Others                                     1153\n",
      "Other Stores                                318\n",
      "Higher Education (College & University)     312\n",
      "Hotel                                       177\n",
      "Hospital                                    133\n",
      "Villa / Single-Family Home                  124\n",
      "Manufacturing Factory / Plant                77\n",
      "General Government Office                    48\n",
      "Power Plant                                  31\n",
      "Name: count, dtype: int64\n"
     ]
    }
   ],
   "source": [
    "print(df_train['business_subarea'].isnull().sum())\n",
    "print('-'*10)\n",
    "print(df_test['business_subarea'].isnull().sum())\n",
    "print('-'*10)\n",
    "print(df_train['business_subarea'].value_counts())\n",
    "print('-'*10)\n",
    "print(df_test['business_subarea'].value_counts())"
   ]
  },
  {
   "cell_type": "markdown",
   "id": "e154b7de-c9f8-4a20-9c52-df41a31614ec",
   "metadata": {},
   "source": [
    "# 16. ver_cus,ver_pro"
   ]
  },
  {
   "cell_type": "code",
   "execution_count": 126,
   "id": "81078ddd-d18d-43f5-9a32-04628a84e54a",
   "metadata": {},
   "outputs": [
    {
     "name": "stdout",
     "output_type": "stream",
     "text": [
      "0\n",
      "----------\n",
      "0\n",
      "----------\n",
      "ver_cus\n",
      "0    56832\n",
      "1     2467\n",
      "Name: count, dtype: int64\n",
      "----------\n",
      "ver_cus\n",
      "0    4497\n",
      "1     774\n",
      "Name: count, dtype: int64\n"
     ]
    }
   ],
   "source": [
    "print(df_train['ver_cus'].isnull().sum())\n",
    "print('-'*10)\n",
    "print(df_test['ver_cus'].isnull().sum())\n",
    "print('-'*10)\n",
    "print(df_train['ver_cus'].value_counts())\n",
    "print('-'*10)\n",
    "print(df_test['ver_cus'].value_counts())"
   ]
  },
  {
   "cell_type": "code",
   "execution_count": 127,
   "id": "95af1009-88f9-4674-b838-a875d22068a4",
   "metadata": {},
   "outputs": [
    {
     "name": "stdout",
     "output_type": "stream",
     "text": [
      "0\n",
      "----------\n",
      "0\n",
      "----------\n",
      "ver_pro\n",
      "0    56286\n",
      "1     3013\n",
      "Name: count, dtype: int64\n",
      "----------\n",
      "ver_pro\n",
      "0    4842\n",
      "1     429\n",
      "Name: count, dtype: int64\n"
     ]
    }
   ],
   "source": [
    "print(df_train['ver_pro'].isnull().sum())\n",
    "print('-'*10)\n",
    "print(df_test['ver_pro'].isnull().sum())\n",
    "print('-'*10)\n",
    "print(df_train['ver_pro'].value_counts())\n",
    "print('-'*10)\n",
    "print(df_test['ver_pro'].value_counts())"
   ]
  },
  {
   "cell_type": "markdown",
   "id": "97088015-b48f-4bbe-b339-71f715ed0126",
   "metadata": {},
   "source": [
    "# 17. ver_win_rate_x \n",
    "- ver_win_rate_x : 전체 Lead 중에서 Vertical을 기준으로 Vertical 수 비율과 Vertical 별 Lead 수 대비 영업 전환 성공 비율 값을 곱한 값\n"
   ]
  },
  {
   "cell_type": "code",
   "execution_count": 128,
   "id": "f0a97272-0f13-48fa-ad73-3f7a3fc3b779",
   "metadata": {
    "scrolled": true
   },
   "outputs": [
    {
     "name": "stdout",
     "output_type": "stream",
     "text": [
      "40882\n",
      "----------\n",
      "2898\n",
      "----------\n",
      "ver_win_rate_x\n",
      "0.003079    4097\n",
      "0.001183    3011\n",
      "0.000717    2013\n",
      "0.000543    1929\n",
      "0.000298    1818\n",
      "0.000572    1727\n",
      "0.000060    1199\n",
      "0.000215    1035\n",
      "0.000097     650\n",
      "0.000026     519\n",
      "0.000013     306\n",
      "0.000002     113\n",
      "Name: count, dtype: int64\n",
      "----------\n",
      "ver_win_rate_x\n",
      "0.003079    581\n",
      "0.000013    431\n",
      "0.001183    318\n",
      "0.000572    312\n",
      "0.000717    177\n",
      "0.000060    133\n",
      "0.000298    124\n",
      "0.000543     93\n",
      "0.000215     77\n",
      "0.000026     48\n",
      "0.000097     48\n",
      "0.000002     31\n",
      "Name: count, dtype: int64\n"
     ]
    }
   ],
   "source": [
    "print(df_train['ver_win_rate_x'].isnull().sum())\n",
    "print('-'*10)\n",
    "print(df_test['ver_win_rate_x'].isnull().sum())\n",
    "print('-'*10)\n",
    "print(df_train['ver_win_rate_x'].value_counts())\n",
    "print('-'*10)\n",
    "print(df_test['ver_win_rate_x'].value_counts())"
   ]
  },
  {
   "cell_type": "code",
   "execution_count": 129,
   "id": "4bf38802-71f3-4200-89a9-1ff5c0f33ada",
   "metadata": {},
   "outputs": [
    {
     "name": "stdout",
     "output_type": "stream",
     "text": [
      "Chi-squared Statistic: 202587.0\n",
      "P-value: 0.0\n"
     ]
    }
   ],
   "source": [
    "#카이 제곱확인\n",
    "from scipy.stats import chi2_contingency\n",
    "\n",
    "# 'business_area'와 'ver_win_rate_x' 간의 교차테이블 생성\n",
    "cross_tab = pd.crosstab(df_train['business_area'], df_train['ver_win_rate_x'])\n",
    "\n",
    "# 카이제곱 검정 수행\n",
    "chi2_stat, p_value, _, _ = chi2_contingency(cross_tab)\n",
    "\n",
    "print(f\"Chi-squared Statistic: {chi2_stat}\")\n",
    "print(f\"P-value: {p_value}\")"
   ]
  },
  {
   "cell_type": "code",
   "execution_count": 130,
   "id": "a5af77f7-2a83-42d3-b7eb-34c6527d2cb9",
   "metadata": {
    "scrolled": true
   },
   "outputs": [
    {
     "name": "stdout",
     "output_type": "stream",
     "text": [
      " 'AS''corporate / office': True\n",
      " 'AS''education': True\n",
      " 'AS''factory': True\n",
      " 'AS''government department': True\n",
      " 'AS''hospital & health care': True\n",
      " 'AS''hotel & accommodation': True\n",
      " 'AS''power plant / renewable energy': True\n",
      " 'AS''public facility': True\n",
      " 'AS''residential (home)': True\n",
      " 'AS''retail': True\n",
      " 'AS''special purpose': True\n",
      " 'AS''transportation': True\n",
      " 'ID''corporate / office': True\n",
      " 'ID''education': True\n",
      " 'ID''factory': True\n",
      " 'ID''government department': True\n",
      " 'ID''hospital & health care': True\n",
      " 'ID''hotel & accommodation': True\n",
      " 'ID''power plant / renewable energy': True\n",
      " 'ID''public facility': True\n",
      " 'ID''residential (home)': True\n",
      " 'ID''retail': True\n",
      " 'ID''special purpose': True\n",
      " 'ID''transportation': True\n",
      " 'IT''corporate / office': True\n",
      " 'IT''education': True\n",
      " 'IT''factory': True\n",
      " 'IT''government department': True\n",
      " 'IT''hospital & health care': True\n",
      " 'IT''hotel & accommodation': True\n",
      " 'IT''power plant / renewable energy': True\n",
      " 'IT''public facility': True\n",
      " 'IT''residential (home)': True\n",
      " 'IT''retail': True\n",
      " 'IT''special purpose': True\n",
      " 'IT''transportation': True\n",
      " 'Solution''corporate / office': True\n",
      " 'Solution''education': True\n",
      " 'Solution''factory': True\n",
      " 'Solution''government department': True\n",
      " 'Solution''hotel & accommodation': True\n",
      " 'Solution''public facility': True\n",
      " 'Solution''residential (home)': True\n",
      " 'Solution''retail': True\n",
      " 'Solution''special purpose': True\n",
      " 'Solution''transportation': True\n"
     ]
    }
   ],
   "source": [
    "# business_unit과 business_area에 따라 모두 같은 값을 가지는지 확인\n",
    "unique_counts = df_train.groupby(['business_unit', 'business_area'])['ver_win_rate_x'].nunique()\n",
    "all_same_ver_win_rate_x = (unique_counts == 1)\n",
    "\n",
    "for idx, is_same in enumerate(all_same_ver_win_rate_x):\n",
    "    bu = unique_counts.index[idx][0]\n",
    "    area = unique_counts.index[idx][1]\n",
    "    print(f\" '{bu}''{area}': {is_same}\")"
   ]
  },
  {
   "cell_type": "code",
   "execution_count": 131,
   "id": "a4de6f2f-7cdf-4bdd-83ea-d45d895b6d12",
   "metadata": {},
   "outputs": [
    {
     "data": {
      "text/plain": [
       "(12, 12)"
      ]
     },
     "execution_count": 131,
     "metadata": {},
     "output_type": "execute_result"
    }
   ],
   "source": [
    "# 사업영역의 고유 수 와 ver_win_rate_x 의 고유수가 같음\n",
    "df_train['business_area'].nunique(), df_test['ver_win_rate_x'].nunique()"
   ]
  },
  {
   "cell_type": "markdown",
   "id": "cdebf4ac-3557-40f5-bdee-21f51bb70d19",
   "metadata": {},
   "source": [
    "- business_unit  business_area 에 따라 모두 같은 값을 갖기 때문에 변수 설명력이 약함 -> 삭제해도 될 듯?\n",
    "- ver_win_rate도 제거"
   ]
  },
  {
   "cell_type": "markdown",
   "id": "e294b79b-3dd8-4af1-b92a-10bf6b36e0dc",
   "metadata": {},
   "source": [
    "# 18. ver_win_ratio_per_bu\n",
    "- ver_win_ratio_per_bu: 특정 Vertical Level1의 Business Unit 별 샘플 수 대비 영업 전환된 샘플 수의 비율을 계산"
   ]
  },
  {
   "cell_type": "code",
   "execution_count": 132,
   "id": "db206a51-9213-478a-8aa7-673891d4457a",
   "metadata": {
    "scrolled": true
   },
   "outputs": [
    {
     "name": "stdout",
     "output_type": "stream",
     "text": [
      "43995\n",
      "----------\n",
      "3365\n",
      "----------\n",
      "ver_win_ratio_per_bu\n",
      "0.064566    2460\n",
      "0.049840    2028\n",
      "0.020121    1365\n",
      "0.048630    1356\n",
      "0.026846    1278\n",
      "0.064070    1075\n",
      "0.071345     984\n",
      "0.011583     788\n",
      "0.022634     713\n",
      "0.060924     540\n",
      "0.079412     421\n",
      "0.036913     403\n",
      "0.035484     385\n",
      "0.031579     271\n",
      "0.053571     216\n",
      "0.051471     210\n",
      "0.028777     200\n",
      "0.022727     173\n",
      "0.128571     156\n",
      "0.131148     148\n",
      "0.227273      62\n",
      "0.285714      43\n",
      "0.034483      29\n",
      "Name: count, dtype: int64\n",
      "----------\n",
      "ver_win_ratio_per_bu\n",
      "0.064566    443\n",
      "0.048630    287\n",
      "0.049840    211\n",
      "0.071345    150\n",
      "0.053571    139\n",
      "0.011583     89\n",
      "0.026846     87\n",
      "0.020121     72\n",
      "0.064070     71\n",
      "0.131148     60\n",
      "0.060924     49\n",
      "0.035484     48\n",
      "0.079412     37\n",
      "0.031579     35\n",
      "0.128571     26\n",
      "0.036913     25\n",
      "0.285714     22\n",
      "0.022634     16\n",
      "0.051471     14\n",
      "0.028777      9\n",
      "0.227273      9\n",
      "0.022727      7\n",
      "Name: count, dtype: int64\n"
     ]
    }
   ],
   "source": [
    "print(df_train['ver_win_ratio_per_bu'].isnull().sum())\n",
    "print('-'*10)\n",
    "print(df_test['ver_win_ratio_per_bu'].isnull().sum())\n",
    "print('-'*10)\n",
    "print(df_train['ver_win_ratio_per_bu'].value_counts())\n",
    "print('-'*10)\n",
    "print(df_test['ver_win_ratio_per_bu'].value_counts())"
   ]
  },
  {
   "cell_type": "code",
   "execution_count": 133,
   "id": "d1ab804e-8384-4d1f-b1e0-d88ab84c78a9",
   "metadata": {
    "scrolled": true
   },
   "outputs": [
    {
     "name": "stdout",
     "output_type": "stream",
     "text": [
      " True\n",
      " True\n",
      " True\n",
      " True\n",
      " True\n",
      " False\n",
      " True\n",
      " True\n",
      " True\n",
      " True\n",
      " True\n",
      " False\n",
      " True\n",
      " True\n",
      " True\n",
      " True\n",
      " True\n",
      " True\n",
      " True\n",
      " True\n",
      " True\n",
      " True\n",
      " True\n",
      " True\n",
      " False\n",
      " False\n",
      " False\n",
      " False\n",
      " False\n",
      " False\n",
      " False\n",
      " False\n",
      " False\n",
      " False\n",
      " False\n",
      " False\n",
      " True\n",
      " False\n",
      " False\n",
      " False\n",
      " False\n",
      " False\n",
      " False\n",
      " False\n",
      " False\n",
      " False\n"
     ]
    }
   ],
   "source": [
    "# business_unit과 business_area에 따라 모두 같은 값을 가지는지 확인\n",
    "unique_counts = df_train.groupby(['business_unit', 'business_area'])['ver_win_ratio_per_bu'].nunique()\n",
    "all_same_ver_win_rate_x = (unique_counts == 1)\n",
    "\n",
    "for idx, is_same in enumerate(all_same_ver_win_rate_x):\n",
    "    bu = unique_counts.index[idx][0]\n",
    "    area = unique_counts.index[idx][1]\n",
    "    print(f\" {is_same}\")"
   ]
  },
  {
   "cell_type": "code",
   "execution_count": 134,
   "id": "12210a51-a23d-4c49-bf77-4e7189a4528f",
   "metadata": {
    "scrolled": true
   },
   "outputs": [
    {
     "name": "stdout",
     "output_type": "stream",
     "text": [
      "For business_unit 'AS' and business_area 'hotel & accommodation': 207  NaN \n",
      "For business_unit 'AS' and business_area 'transportation': 53  NaN \n",
      "For business_unit 'IT' and business_area 'corporate / office': 330  NaN \n",
      "For business_unit 'IT' and business_area 'education': 150  NaN \n",
      "For business_unit 'IT' and business_area 'factory': 83  NaN \n",
      "For business_unit 'IT' and business_area 'government department': 49  NaN \n",
      "For business_unit 'IT' and business_area 'hospital & health care': 895  NaN \n",
      "For business_unit 'IT' and business_area 'hotel & accommodation': 791  NaN \n",
      "For business_unit 'IT' and business_area 'power plant / renewable energy': 8  NaN \n",
      "For business_unit 'IT' and business_area 'public facility': 40  NaN \n",
      "For business_unit 'IT' and business_area 'residential (home)': 42  NaN \n",
      "For business_unit 'IT' and business_area 'retail': 163  NaN \n",
      "For business_unit 'IT' and business_area 'special purpose': 108  NaN \n",
      "For business_unit 'IT' and business_area 'transportation': 33  NaN \n",
      "For business_unit 'Solution' and business_area 'education': 11  NaN \n",
      "For business_unit 'Solution' and business_area 'factory': 9  NaN \n",
      "For business_unit 'Solution' and business_area 'government department': 7  NaN \n",
      "For business_unit 'Solution' and business_area 'hotel & accommodation': 31  NaN \n",
      "For business_unit 'Solution' and business_area 'public facility': 8  NaN \n",
      "For business_unit 'Solution' and business_area 'residential (home)': 26  NaN \n",
      "For business_unit 'Solution' and business_area 'retail': 32  NaN \n",
      "For business_unit 'Solution' and business_area 'special purpose': 33  NaN \n",
      "For business_unit 'Solution' and business_area 'transportation': 4  NaN \n"
     ]
    }
   ],
   "source": [
    "# all_same_ver_win_rate_x가 False인 경우 해당 그룹에서 'ver_win_ratio_per_bu' 값이 NaN인지 확인\n",
    "for idx, is_same in enumerate(all_same_ver_win_rate_x):\n",
    "    if not is_same:\n",
    "        bu = unique_counts.index[idx][0]\n",
    "        area = unique_counts.index[idx][1]\n",
    "        \n",
    "        nan_count = df_train[(df_train['business_unit'] == bu) & (df_train['business_area'] == area)]['ver_win_ratio_per_bu'].isna().sum()\n",
    "        \n",
    "        print(f\"For business_unit '{bu}' and business_area '{area}': {nan_count}  NaN \")\n"
   ]
  },
  {
   "cell_type": "markdown",
   "id": "fb8d3ae1-d1cc-4a93-8c4f-25156c701469",
   "metadata": {},
   "source": [
    "- ! false는 NAN값이다. 즉 business_unit과 business_area에 따라 모두 같은 값을 가지며, false인 경우는 nan값이다."
   ]
  },
  {
   "cell_type": "code",
   "execution_count": 135,
   "id": "be2b7f78-13a6-49ee-8feb-d9c9ff4b70c4",
   "metadata": {},
   "outputs": [],
   "source": [
    "df_train['ver_win_ratio_per_bu'] = df_train['ver_win_ratio_per_bu'].fillna(0)\n",
    "df_test['ver_win_ratio_per_bu'] = df_test['ver_win_ratio_per_bu'].fillna(0)"
   ]
  },
  {
   "cell_type": "markdown",
   "id": "30a2987e",
   "metadata": {},
   "source": [
    "plot_top_conversion_rates(df_train, 'ver_win_ratio_per_bu', 'is_converted', top_n=30)"
   ]
  },
  {
   "cell_type": "markdown",
   "id": "7ba7e729",
   "metadata": {},
   "source": [
    "plot_top_conversion_rates(df_test, 'ver_win_ratio_per_bu', 'is_converted', top_n=30)"
   ]
  },
  {
   "cell_type": "code",
   "execution_count": 136,
   "id": "b36378f8-70fa-4d04-8858-91a86577e98e",
   "metadata": {},
   "outputs": [],
   "source": [
    "# business_subarea business_area 삭제할지말지 고민 =>둘을 그룹바이 한 것과 특성이 같기 때문에 (삭제 처리함)"
   ]
  },
  {
   "cell_type": "markdown",
   "id": "46dfdf9f-c926-4237-894c-62a93321043c",
   "metadata": {},
   "source": [
    "# 19. business_unit"
   ]
  },
  {
   "cell_type": "code",
   "execution_count": 137,
   "id": "a3b1485a-f696-436d-bdff-e0b7e60a707a",
   "metadata": {},
   "outputs": [
    {
     "name": "stdout",
     "output_type": "stream",
     "text": [
      "0\n",
      "----------\n",
      "0\n",
      "----------\n",
      "business_unit\n",
      "ID          25563\n",
      "AS          24774\n",
      "IT           8664\n",
      "Solution      296\n",
      "CM              2\n",
      "Name: count, dtype: int64\n",
      "----------\n",
      "business_unit\n",
      "AS    2410\n",
      "ID    2342\n",
      "IT     519\n",
      "Name: count, dtype: int64\n"
     ]
    }
   ],
   "source": [
    "print(df_train['business_unit'].isnull().sum())\n",
    "print('-'*10)\n",
    "print(df_test['business_unit'].isnull().sum())\n",
    "print('-'*10)\n",
    "print(df_train['business_unit'].value_counts())\n",
    "print('-'*10)\n",
    "print(df_test['business_unit'].value_counts())"
   ]
  },
  {
   "cell_type": "code",
   "execution_count": 138,
   "id": "bcfc2c31-3ab0-4b5e-9578-2cf91815c7c7",
   "metadata": {},
   "outputs": [],
   "source": [
    "# 'business_unit'에 대한 원-핫 인코딩\n",
    "combined_business = pd.concat([df_train['business_unit'], df_test['business_unit']], keys=['train', 'test'])\n",
    "business_encoded = pd.get_dummies(combined_business, columns=['business_unit'])\n",
    "business_encoded.columns = ['business_unit_' + col for col in business_encoded.columns]\n",
    "df_train_business_encoded = business_encoded.xs('train')\n",
    "df_test_business_encoded = business_encoded.xs('test')"
   ]
  },
  {
   "cell_type": "code",
   "execution_count": 139,
   "id": "ec1f59fe-94e9-447f-a374-e2a9cd7e7d66",
   "metadata": {},
   "outputs": [
    {
     "data": {
      "text/plain": [
       "Index(['bant_submit', 'customer_country', 'business_unit',\n",
       "       'com_reg_ver_win_rate', 'customer_idx', 'customer_type', 'enterprise',\n",
       "       'historical_existing_cnt', 'id_strategic_ver', 'it_strategic_ver',\n",
       "       'idit_strategic_ver', 'customer_job', 'lead_desc_length',\n",
       "       'inquiry_type', 'product_category', 'product_subcategory',\n",
       "       'product_modelname', 'customer_country.1', 'customer_position',\n",
       "       'response_corporate', 'expected_timeline', 'ver_cus', 'ver_pro',\n",
       "       'ver_win_rate_x', 'ver_win_ratio_per_bu', 'business_area',\n",
       "       'business_subarea', 'lead_owner', 'is_converted'],\n",
       "      dtype='object')"
      ]
     },
     "execution_count": 139,
     "metadata": {},
     "output_type": "execute_result"
    }
   ],
   "source": [
    "df_train.columns"
   ]
  },
  {
   "cell_type": "markdown",
   "id": "b23e264d-17ba-44bf-8945-2ff9da195cf6",
   "metadata": {},
   "source": [
    "# 20 .enterprise\n",
    "- Global 기업인지, Small/Medium 규모의 기업인지"
   ]
  },
  {
   "cell_type": "code",
   "execution_count": 140,
   "id": "02853da4-8ed2-4d1f-b6b5-cc6621b4e8d0",
   "metadata": {
    "scrolled": true
   },
   "outputs": [
    {
     "name": "stdout",
     "output_type": "stream",
     "text": [
      "0\n",
      "----------\n",
      "0\n",
      "----------\n",
      "enterprise\n",
      "Enterprise    37783\n",
      "SMB           21516\n",
      "Name: count, dtype: int64\n",
      "----------\n",
      "enterprise\n",
      "Enterprise    3085\n",
      "SMB           2186\n",
      "Name: count, dtype: int64\n"
     ]
    }
   ],
   "source": [
    "print(df_train['enterprise'].isnull().sum())\n",
    "print('-'*10)\n",
    "print(df_test['enterprise'].isnull().sum())\n",
    "print('-'*10)\n",
    "print(df_train['enterprise'].value_counts())\n",
    "print('-'*10)\n",
    "print(df_test['enterprise'].value_counts())"
   ]
  },
  {
   "cell_type": "code",
   "execution_count": 141,
   "id": "63971d43-471d-4a1e-a487-49d16917bff8",
   "metadata": {},
   "outputs": [],
   "source": [
    "# 'enterprise'에 대한 원-핫 인코딩\n",
    "combined_enterprise = pd.concat([df_train['enterprise'], df_test['enterprise']], keys=['train', 'test'])\n",
    "enterprise_encoded = pd.get_dummies(combined_enterprise, columns=['enterprise'])\n",
    "enterprise_encoded.columns = ['enterprise_' + col for col in enterprise_encoded.columns]\n",
    "df_train_enterprise_encoded = enterprise_encoded.xs('train')\n",
    "df_test_enterprise_encoded = enterprise_encoded.xs('test')"
   ]
  },
  {
   "cell_type": "code",
   "execution_count": 142,
   "id": "3b018991",
   "metadata": {},
   "outputs": [],
   "source": [
    "# 인코딩된 결과를 원래 데이터에 결합하고, 기존 열 제거\n",
    "df_train = pd.concat([df_train.drop(['business_unit', 'enterprise'], axis=1), df_train_business_encoded, df_train_enterprise_encoded], axis=1)\n",
    "df_test = pd.concat([df_test.drop(['business_unit', 'enterprise'], axis=1), df_test_business_encoded, df_test_enterprise_encoded], axis=1)"
   ]
  },
  {
   "cell_type": "markdown",
   "id": "daa0fb82-db47-46c2-830c-6a1230f4d77f",
   "metadata": {},
   "source": [
    "# 21. lead_owner\n",
    "- 영업 담당자 이름  "
   ]
  },
  {
   "cell_type": "code",
   "execution_count": 143,
   "id": "600fb46c-b7e9-4d31-bcd4-b736f5ca722e",
   "metadata": {
    "scrolled": true
   },
   "outputs": [
    {
     "name": "stdout",
     "output_type": "stream",
     "text": [
      "0\n",
      "----------\n",
      "0\n",
      "----------\n",
      "lead_owner\n",
      "174    4627\n",
      "175    4120\n",
      "97     2499\n",
      "23     2453\n",
      "194    2208\n",
      "       ... \n",
      "481       1\n",
      "909       1\n",
      "979       1\n",
      "111       1\n",
      "756       1\n",
      "Name: count, Length: 984, dtype: int64\n",
      "----------\n",
      "lead_owner\n",
      "97     688\n",
      "174    357\n",
      "258    184\n",
      "375    134\n",
      "194    131\n",
      "      ... \n",
      "826      1\n",
      "714      1\n",
      "715      1\n",
      "569      1\n",
      "821      1\n",
      "Name: count, Length: 440, dtype: int64\n"
     ]
    }
   ],
   "source": [
    "print(df_train['lead_owner'].isnull().sum())\n",
    "print('-'*10)\n",
    "print(df_test['lead_owner'].isnull().sum())\n",
    "print('-'*10)\n",
    "print(df_train['lead_owner'].value_counts())\n",
    "print('-'*10)\n",
    "print(df_test['lead_owner'].value_counts())"
   ]
  },
  {
   "cell_type": "code",
   "execution_count": 144,
   "id": "5c4e4d4c-28e4-4ef5-9983-6a57ae9570ae",
   "metadata": {},
   "outputs": [
    {
     "name": "stderr",
     "output_type": "stream",
     "text": [
      "/var/folders/zn/z7q7zstd5jg_tg51vl5zplj80000gn/T/ipykernel_94728/4190819328.py:4: FutureWarning: Setting an item of incompatible dtype is deprecated and will raise in a future error of pandas. Value 'NONE' has dtype incompatible with int64, please explicitly cast to a compatible dtype first.\n",
      "  df_train.loc[df_train['lead_owner'].isin(low_frequency), 'lead_owner'] = 'NONE'\n"
     ]
    }
   ],
   "source": [
    "counts = df_train['lead_owner'].value_counts()\n",
    "threshold = 10\n",
    "low_frequency = counts[counts < threshold].index\n",
    "df_train.loc[df_train['lead_owner'].isin(low_frequency), 'lead_owner'] = 'NONE'"
   ]
  },
  {
   "cell_type": "code",
   "execution_count": 145,
   "id": "62e78fd3-1af4-4095-ba31-f03e47b81b15",
   "metadata": {},
   "outputs": [
    {
     "name": "stderr",
     "output_type": "stream",
     "text": [
      "/var/folders/zn/z7q7zstd5jg_tg51vl5zplj80000gn/T/ipykernel_94728/1425570455.py:4: FutureWarning: Setting an item of incompatible dtype is deprecated and will raise in a future error of pandas. Value 'NONE' has dtype incompatible with int64, please explicitly cast to a compatible dtype first.\n",
      "  df_test.loc[df_test['lead_owner'].isin(low_frequency), 'lead_owner'] = 'NONE'\n"
     ]
    }
   ],
   "source": [
    "counts = df_test['lead_owner'].value_counts()\n",
    "threshold = 10\n",
    "low_frequency = counts[counts < threshold].index\n",
    "df_test.loc[df_test['lead_owner'].isin(low_frequency), 'lead_owner'] = 'NONE'"
   ]
  },
  {
   "cell_type": "code",
   "execution_count": 146,
   "id": "5e46fe35-9042-48a0-9b22-8983940f5fa8",
   "metadata": {},
   "outputs": [
    {
     "name": "stdout",
     "output_type": "stream",
     "text": [
      "{6, 135, 1046, 670, 308, 566, 316, 317, 449, 325, 1108, 731, 348, 733, 608, 353, 999, 616, 766}\n"
     ]
    }
   ],
   "source": [
    "# train에 없는 값이 test에 있을까? \n",
    "\n",
    "train_vals = set(df_train['lead_owner'].unique())\n",
    "test_vals = set(df_test['lead_owner'].unique())\n",
    "\n",
    "test_not_train = test_vals - train_vals\n",
    "\n",
    "print(test_not_train) "
   ]
  },
  {
   "cell_type": "code",
   "execution_count": 147,
   "id": "7fff6a42-c2b5-49ba-82df-79098a9c0b77",
   "metadata": {
    "scrolled": true
   },
   "outputs": [
    {
     "name": "stdout",
     "output_type": "stream",
     "text": [
      "lead_owner\n",
      "NONE    1524\n",
      "97       688\n",
      "174      357\n",
      "258      184\n",
      "375      134\n",
      "        ... \n",
      "146       11\n",
      "49        10\n",
      "223       10\n",
      "245       10\n",
      "838       10\n",
      "Name: count, Length: 82, dtype: int64\n"
     ]
    }
   ],
   "source": [
    "train_vals = set(df_train['lead_owner'].unique())\n",
    "test_vals = set(df_test['lead_owner'].unique())\n",
    "\n",
    "test_not_train = test_vals - train_vals\n",
    "\n",
    "# df_test['customer_idx'] 열에서 test_not_train에 해당하는 값이 있는지 확인합니다.\n",
    "mask = df_test['lead_owner'].isin(test_not_train)\n",
    "\n",
    "# df_test['customer_idx'] 값이 test_not_train에 해당하는 경우에만 0으로 대체합니다.\n",
    "df_test.loc[mask, 'lead_owner'] = 'NONE'\n",
    "\n",
    "# 업데이트된 값의 개수를 출력합니다.\n",
    "print(df_test['lead_owner'].value_counts())"
   ]
  },
  {
   "cell_type": "code",
   "execution_count": 148,
   "id": "aba06093-6eca-4d07-bb2d-25e9f9d77b25",
   "metadata": {},
   "outputs": [
    {
     "name": "stdout",
     "output_type": "stream",
     "text": [
      "set()\n"
     ]
    }
   ],
   "source": [
    "train_vals = set(df_train['lead_owner'].unique())\n",
    "test_vals = set(df_test['lead_owner'].unique())\n",
    "\n",
    "test_not_train = test_vals - train_vals\n",
    "\n",
    "print(test_not_train) "
   ]
  },
  {
   "cell_type": "code",
   "execution_count": 149,
   "id": "eee63cb1-0c6f-4bf2-9daa-2621f01db941",
   "metadata": {},
   "outputs": [],
   "source": [
    "# TargetEncoder 적용\n",
    "target_encoder = TargetEncoder(smoothing=1.0)\n",
    "df_train['lead_owner'] = target_encoder.fit_transform(df_train['lead_owner'], df_train['is_converted'])\n",
    "df_test['lead_owner'] = target_encoder.transform(df_test['lead_owner'])  # 'transform'만 호출하여 새로운 데이터에 적용"
   ]
  },
  {
   "cell_type": "markdown",
   "id": "fa2e9160",
   "metadata": {},
   "source": [
    "plot_top_conversion_rates(df_test, 'lead_owner', 'is_converted', top_n=30)"
   ]
  },
  {
   "cell_type": "markdown",
   "id": "aceaf087",
   "metadata": {},
   "source": [
    "plot_top_conversion_rates(df_train, 'lead_owner', 'is_converted', top_n=30)"
   ]
  },
  {
   "cell_type": "markdown",
   "id": "41acd6bf",
   "metadata": {},
   "source": [
    "# ※ 수치형 결측치 0 대체, 필요없는 컬럼 정리"
   ]
  },
  {
   "cell_type": "code",
   "execution_count": 150,
   "id": "e795bb71",
   "metadata": {},
   "outputs": [
    {
     "data": {
      "text/plain": [
       "Index(['bant_submit', 'customer_country', 'com_reg_ver_win_rate',\n",
       "       'customer_idx', 'customer_type', 'historical_existing_cnt',\n",
       "       'id_strategic_ver', 'it_strategic_ver', 'idit_strategic_ver',\n",
       "       'customer_job', 'lead_desc_length', 'inquiry_type', 'product_category',\n",
       "       'product_subcategory', 'product_modelname', 'customer_country.1',\n",
       "       'customer_position', 'response_corporate', 'expected_timeline',\n",
       "       'ver_cus', 'ver_pro', 'ver_win_rate_x', 'ver_win_ratio_per_bu',\n",
       "       'business_area', 'business_subarea', 'lead_owner', 'is_converted',\n",
       "       'business_unit_AS', 'business_unit_CM', 'business_unit_ID',\n",
       "       'business_unit_IT', 'business_unit_Solution', 'enterprise_Enterprise',\n",
       "       'enterprise_SMB'],\n",
       "      dtype='object')"
      ]
     },
     "execution_count": 150,
     "metadata": {},
     "output_type": "execute_result"
    }
   ],
   "source": [
    "df_train.columns"
   ]
  },
  {
   "cell_type": "code",
   "execution_count": 151,
   "id": "44585128",
   "metadata": {},
   "outputs": [],
   "source": [
    "columns_to_fill = ['historical_existing_cnt', \n",
    "                   'id_strategic_ver', 'it_strategic_ver', 'idit_strategic_ver', \n",
    "                   'ver_win_ratio_per_bu', 'com_reg_ver_win_rate']\n",
    "df_train[columns_to_fill] = df_train[columns_to_fill].fillna(0)\n",
    "df_test[columns_to_fill] = df_test[columns_to_fill].fillna(0)"
   ]
  },
  {
   "cell_type": "code",
   "execution_count": 152,
   "id": "ba9ab271",
   "metadata": {},
   "outputs": [],
   "source": [
    "df_train.drop(['customer_country.1', 'product_modelname',\n",
    "               'idit_strategic_ver', 'id_strategic_ver', 'it_strategic_ver', \n",
    "               'ver_cus', 'ver_pro', 'ver_win_rate_x', 'ver_win_ratio_per_bu',\n",
    "               'business_subarea', 'business_area'], axis = 1, inplace = True)\n",
    "\n",
    "df_test.drop(['customer_country.1', 'product_modelname',\n",
    "               'idit_strategic_ver', 'id_strategic_ver', 'it_strategic_ver', \n",
    "               'ver_cus', 'ver_pro', 'ver_win_rate_x', 'ver_win_ratio_per_bu',\n",
    "               'business_subarea', 'business_area'], axis = 1, inplace = True)"
   ]
  },
  {
   "cell_type": "code",
   "execution_count": 153,
   "id": "234dfd43",
   "metadata": {},
   "outputs": [
    {
     "data": {
      "text/plain": [
       "Index(['bant_submit', 'customer_country', 'com_reg_ver_win_rate',\n",
       "       'customer_idx', 'customer_type', 'historical_existing_cnt',\n",
       "       'customer_job', 'lead_desc_length', 'inquiry_type', 'product_category',\n",
       "       'product_subcategory', 'customer_position', 'response_corporate',\n",
       "       'expected_timeline', 'lead_owner', 'is_converted', 'business_unit_AS',\n",
       "       'business_unit_CM', 'business_unit_ID', 'business_unit_IT',\n",
       "       'business_unit_Solution', 'enterprise_Enterprise', 'enterprise_SMB'],\n",
       "      dtype='object')"
      ]
     },
     "execution_count": 153,
     "metadata": {},
     "output_type": "execute_result"
    }
   ],
   "source": [
    "df_train.columns"
   ]
  },
  {
   "cell_type": "markdown",
   "id": "ad81bcd2",
   "metadata": {},
   "source": [
    "---\n",
    "# 수치형 스케일링"
   ]
  },
  {
   "cell_type": "markdown",
   "id": "4bd47e00",
   "metadata": {},
   "source": [
    "### 레이블 인코딩"
   ]
  },
  {
   "cell_type": "code",
   "execution_count": 154,
   "id": "0b42b1a1",
   "metadata": {},
   "outputs": [],
   "source": [
    "#def label_encoding(series: pd.Series) -> pd.Series:\n",
    "#    \"\"\"범주형 데이터를 시리즈 형태로 받아 숫자형 데이터로 변환합니다.\"\"\"\n",
    "#    my_dict = {}\n",
    "    # 모든 요소를 문자열로 변환\n",
    "#    series = series.astype(str)\n",
    "#    for idx, value in enumerate(sorted(series.unique())):\n",
    "#        my_dict[value] = idx\n",
    "#    series = series.map(my_dict)\n",
    "#    return series\n",
    "\n",
    "# 레이블 인코딩할 칼럼들\n",
    "#label_columns = [\n",
    "    #\"customer_country\", #\"business_subarea\", #\"business_area\", #\"business_unit\", #\"customer_type\",\n",
    "    #\"enterprise\", #\"customer_job\", #\"inquiry_type\", #\"product_category\", #\"product_subcategory\",\n",
    "    #\"product_modelname\", #\"customer_country.1\", #\"customer_position\", #\"response_corporate\",\n",
    "    #\"expected_timeline\"]\n",
    "#df_all = pd.concat([df_train[label_columns], df_test[label_columns]])\n",
    "#for col in label_columns:\n",
    "#    df_all[col] = label_encoding(df_all[col])\n",
    "\n",
    "# 다시 학습 데이터와 제출 데이터를 분리합니다.\n",
    "#for col in label_columns:  \n",
    "#    df_train[col] = df_all.iloc[: len(df_train)][col]\n",
    "#    df_test[col] = df_all.iloc[len(df_train) :][col]"
   ]
  },
  {
   "cell_type": "markdown",
   "id": "58192217",
   "metadata": {},
   "source": [
    "### 2-1. 스케일링 수정"
   ]
  },
  {
   "cell_type": "code",
   "execution_count": 155,
   "id": "7182aefb",
   "metadata": {},
   "outputs": [],
   "source": [
    "from sklearn.preprocessing import RobustScaler\n",
    "\n",
    "# 변형 객체 생성\n",
    "robust_scaler = RobustScaler()\n",
    "\n",
    "col = ['com_reg_ver_win_rate', 'lead_desc_length', 'historical_existing_cnt']\n",
    "\n",
    "# 스케일링\n",
    "df_train[col] = robust_scaler.fit_transform(df_train[col])\n",
    "df_test[col] = robust_scaler.transform(df_test[col])"
   ]
  },
  {
   "cell_type": "markdown",
   "id": "d332358a",
   "metadata": {},
   "source": [
    "### 2-2. 학습, 검증 데이터 분리"
   ]
  },
  {
   "cell_type": "code",
   "execution_count": 157,
   "id": "12b88266-b46d-40ae-81b3-d930de36149c",
   "metadata": {},
   "outputs": [],
   "source": [
    "\n",
    "def get_clf_eval(y_test, y_pred=None):\n",
    "    confusion = confusion_matrix(y_test, y_pred, labels=[True, False])\n",
    "    accuracy = accuracy_score(y_test, y_pred)\n",
    "    precision = precision_score(y_test, y_pred, labels=[True, False])\n",
    "    recall = recall_score(y_test, y_pred)\n",
    "    F1 = f1_score(y_test, y_pred, labels=[True, False])\n",
    "\n",
    "    print(\"오차행렬:\\n\", confusion)\n",
    "    print(\"\\n정확도: {:.4f}\".format(accuracy))\n",
    "    print(\"정밀도: {:.4f}\".format(precision))\n",
    "    print(\"재현율: {:.4f}\".format(recall))\n",
    "    print(\"F1: {:.4f}\".format(F1))\n"
   ]
  },
  {
   "cell_type": "code",
   "execution_count": 162,
   "id": "27c9e205",
   "metadata": {},
   "outputs": [],
   "source": [
    "from imblearn.combine import SMOTETomek\n",
    "from imblearn.under_sampling import TomekLinks\n",
    "\n",
    "# 데이터 나누기\n",
    "x_train, x_val, y_train, y_val = train_test_split(\n",
    "    df_train.drop(\"is_converted\", axis=1),\n",
    "    df_train[\"is_converted\"],\n",
    "    test_size=0.2,\n",
    "    shuffle=True,\n",
    "    random_state=684050,\n",
    ")\n",
    "\n",
    "# SMOTE 오버샘플링 적용\n",
    "smoteto = SMOTETomek(tomek=TomekLinks(sampling_strategy='majority'))\n",
    "x_train_resampled, y_train_resampled = smoteto.fit_resample(x_train, y_train)\n"
   ]
  },
  {
   "cell_type": "code",
   "execution_count": 163,
   "id": "8a2f261a-8dae-42e2-ba7c-8d1f246995e6",
   "metadata": {},
   "outputs": [
    {
     "name": "stderr",
     "output_type": "stream",
     "text": [
      "[I 2024-02-25 15:30:42,012] A new study created in memory with name: no-name-a5531472-27d5-47f4-ab01-0af7aafd4191\n",
      "/var/folders/zn/z7q7zstd5jg_tg51vl5zplj80000gn/T/ipykernel_94728/2884086753.py:19: FutureWarning: suggest_loguniform has been deprecated in v3.0.0. This feature will be removed in v6.0.0. See https://github.com/optuna/optuna/releases/tag/v3.0.0. Use suggest_float(..., log=True) instead.\n",
      "  'C': trial.suggest_loguniform('C', 0.001, 100),\n",
      "[I 2024-02-25 15:30:42,339] Trial 0 finished with value: 0.9194664550536229 and parameters: {'penalty': 'l2', 'C': 4.570563099801454, 'solver': 'liblinear'}. Best is trial 0 with value: 0.9194664550536229.\n"
     ]
    },
    {
     "name": "stdout",
     "output_type": "stream",
     "text": [
      "2018\n"
     ]
    },
    {
     "name": "stderr",
     "output_type": "stream",
     "text": [
      "/var/folders/zn/z7q7zstd5jg_tg51vl5zplj80000gn/T/ipykernel_94728/2884086753.py:19: FutureWarning: suggest_loguniform has been deprecated in v3.0.0. This feature will be removed in v6.0.0. See https://github.com/optuna/optuna/releases/tag/v3.0.0. Use suggest_float(..., log=True) instead.\n",
      "  'C': trial.suggest_loguniform('C', 0.001, 100),\n",
      "/Users/dessert_gomjelly/anaconda3/envs/LG/lib/python3.10/site-packages/sklearn/linear_model/_sag.py:350: ConvergenceWarning: The max_iter was reached which means the coef_ did not converge\n",
      "  warnings.warn(\n",
      "[I 2024-02-25 15:30:44,069] Trial 1 finished with value: 0.80394361717836 and parameters: {'penalty': 'l1', 'C': 21.42302175774107, 'solver': 'saga'}. Best is trial 0 with value: 0.9194664550536229.\n",
      "/var/folders/zn/z7q7zstd5jg_tg51vl5zplj80000gn/T/ipykernel_94728/2884086753.py:19: FutureWarning: suggest_loguniform has been deprecated in v3.0.0. This feature will be removed in v6.0.0. See https://github.com/optuna/optuna/releases/tag/v3.0.0. Use suggest_float(..., log=True) instead.\n",
      "  'C': trial.suggest_loguniform('C', 0.001, 100),\n"
     ]
    },
    {
     "name": "stdout",
     "output_type": "stream",
     "text": [
      "1740\n"
     ]
    },
    {
     "name": "stderr",
     "output_type": "stream",
     "text": [
      "[I 2024-02-25 15:30:44,514] Trial 2 finished with value: 0.9197718764213988 and parameters: {'penalty': 'l2', 'C': 14.528246637516036, 'solver': 'liblinear'}. Best is trial 2 with value: 0.9197718764213988.\n"
     ]
    },
    {
     "name": "stdout",
     "output_type": "stream",
     "text": [
      "2049\n"
     ]
    },
    {
     "name": "stderr",
     "output_type": "stream",
     "text": [
      "/var/folders/zn/z7q7zstd5jg_tg51vl5zplj80000gn/T/ipykernel_94728/2884086753.py:19: FutureWarning: suggest_loguniform has been deprecated in v3.0.0. This feature will be removed in v6.0.0. See https://github.com/optuna/optuna/releases/tag/v3.0.0. Use suggest_float(..., log=True) instead.\n",
      "  'C': trial.suggest_loguniform('C', 0.001, 100),\n",
      "[I 2024-02-25 15:30:44,866] Trial 3 finished with value: 0.9157982346114621 and parameters: {'penalty': 'l2', 'C': 0.42051564509138706, 'solver': 'liblinear'}. Best is trial 2 with value: 0.9197718764213988.\n"
     ]
    },
    {
     "name": "stdout",
     "output_type": "stream",
     "text": [
      "1932\n"
     ]
    },
    {
     "name": "stderr",
     "output_type": "stream",
     "text": [
      "/var/folders/zn/z7q7zstd5jg_tg51vl5zplj80000gn/T/ipykernel_94728/2884086753.py:19: FutureWarning: suggest_loguniform has been deprecated in v3.0.0. This feature will be removed in v6.0.0. See https://github.com/optuna/optuna/releases/tag/v3.0.0. Use suggest_float(..., log=True) instead.\n",
      "  'C': trial.suggest_loguniform('C', 0.001, 100),\n",
      "/Users/dessert_gomjelly/anaconda3/envs/LG/lib/python3.10/site-packages/sklearn/linear_model/_sag.py:350: ConvergenceWarning: The max_iter was reached which means the coef_ did not converge\n",
      "  warnings.warn(\n",
      "[I 2024-02-25 15:30:46,465] Trial 4 finished with value: 0.804368827213111 and parameters: {'penalty': 'l1', 'C': 0.028888383623653185, 'solver': 'saga'}. Best is trial 2 with value: 0.9197718764213988.\n",
      "/var/folders/zn/z7q7zstd5jg_tg51vl5zplj80000gn/T/ipykernel_94728/2884086753.py:19: FutureWarning: suggest_loguniform has been deprecated in v3.0.0. This feature will be removed in v6.0.0. See https://github.com/optuna/optuna/releases/tag/v3.0.0. Use suggest_float(..., log=True) instead.\n",
      "  'C': trial.suggest_loguniform('C', 0.001, 100),\n"
     ]
    },
    {
     "name": "stdout",
     "output_type": "stream",
     "text": [
      "1740\n"
     ]
    },
    {
     "name": "stderr",
     "output_type": "stream",
     "text": [
      "[I 2024-02-25 15:30:53,787] Trial 5 finished with value: 0.9196000420025902 and parameters: {'penalty': 'l1', 'C': 0.3725393839578886, 'solver': 'liblinear'}. Best is trial 2 with value: 0.9197718764213988.\n"
     ]
    },
    {
     "name": "stdout",
     "output_type": "stream",
     "text": [
      "2037\n"
     ]
    },
    {
     "name": "stderr",
     "output_type": "stream",
     "text": [
      "/var/folders/zn/z7q7zstd5jg_tg51vl5zplj80000gn/T/ipykernel_94728/2884086753.py:19: FutureWarning: suggest_loguniform has been deprecated in v3.0.0. This feature will be removed in v6.0.0. See https://github.com/optuna/optuna/releases/tag/v3.0.0. Use suggest_float(..., log=True) instead.\n",
      "  'C': trial.suggest_loguniform('C', 0.001, 100),\n",
      "/Users/dessert_gomjelly/anaconda3/envs/LG/lib/python3.10/site-packages/sklearn/linear_model/_sag.py:350: ConvergenceWarning: The max_iter was reached which means the coef_ did not converge\n",
      "  warnings.warn(\n",
      "[I 2024-02-25 15:30:55,530] Trial 6 finished with value: 0.8096608828285378 and parameters: {'penalty': 'l1', 'C': 0.0021147447960615704, 'solver': 'saga'}. Best is trial 2 with value: 0.9197718764213988.\n",
      "/var/folders/zn/z7q7zstd5jg_tg51vl5zplj80000gn/T/ipykernel_94728/2884086753.py:19: FutureWarning: suggest_loguniform has been deprecated in v3.0.0. This feature will be removed in v6.0.0. See https://github.com/optuna/optuna/releases/tag/v3.0.0. Use suggest_float(..., log=True) instead.\n",
      "  'C': trial.suggest_loguniform('C', 0.001, 100),\n"
     ]
    },
    {
     "name": "stdout",
     "output_type": "stream",
     "text": [
      "1679\n",
      "1531\n"
     ]
    },
    {
     "name": "stderr",
     "output_type": "stream",
     "text": [
      "[I 2024-02-25 15:30:55,758] Trial 7 finished with value: 0.8882410571339816 and parameters: {'penalty': 'l1', 'C': 0.0030786517836196197, 'solver': 'liblinear'}. Best is trial 2 with value: 0.9197718764213988.\n",
      "/var/folders/zn/z7q7zstd5jg_tg51vl5zplj80000gn/T/ipykernel_94728/2884086753.py:19: FutureWarning: suggest_loguniform has been deprecated in v3.0.0. This feature will be removed in v6.0.0. See https://github.com/optuna/optuna/releases/tag/v3.0.0. Use suggest_float(..., log=True) instead.\n",
      "  'C': trial.suggest_loguniform('C', 0.001, 100),\n",
      "[I 2024-02-25 15:30:55,974] Trial 8 finished with value: 0.8718257429634998 and parameters: {'penalty': 'l2', 'C': 0.0014857392806279248, 'solver': 'liblinear'}. Best is trial 2 with value: 0.9197718764213988.\n"
     ]
    },
    {
     "name": "stdout",
     "output_type": "stream",
     "text": [
      "1131\n"
     ]
    },
    {
     "name": "stderr",
     "output_type": "stream",
     "text": [
      "/var/folders/zn/z7q7zstd5jg_tg51vl5zplj80000gn/T/ipykernel_94728/2884086753.py:19: FutureWarning: suggest_loguniform has been deprecated in v3.0.0. This feature will be removed in v6.0.0. See https://github.com/optuna/optuna/releases/tag/v3.0.0. Use suggest_float(..., log=True) instead.\n",
      "  'C': trial.suggest_loguniform('C', 0.001, 100),\n",
      "[I 2024-02-25 15:31:03,209] Trial 9 finished with value: 0.9196416071678566 and parameters: {'penalty': 'l1', 'C': 0.3984190594434688, 'solver': 'liblinear'}. Best is trial 2 with value: 0.9197718764213988.\n"
     ]
    },
    {
     "name": "stdout",
     "output_type": "stream",
     "text": [
      "2040\n"
     ]
    },
    {
     "name": "stderr",
     "output_type": "stream",
     "text": [
      "/var/folders/zn/z7q7zstd5jg_tg51vl5zplj80000gn/T/ipykernel_94728/2884086753.py:19: FutureWarning: suggest_loguniform has been deprecated in v3.0.0. This feature will be removed in v6.0.0. See https://github.com/optuna/optuna/releases/tag/v3.0.0. Use suggest_float(..., log=True) instead.\n",
      "  'C': trial.suggest_loguniform('C', 0.001, 100),\n",
      "/Users/dessert_gomjelly/anaconda3/envs/LG/lib/python3.10/site-packages/sklearn/linear_model/_sag.py:350: ConvergenceWarning: The max_iter was reached which means the coef_ did not converge\n",
      "  warnings.warn(\n",
      "[I 2024-02-25 15:31:04,704] Trial 10 finished with value: 0.803934485813589 and parameters: {'penalty': 'l2', 'C': 44.62374428521923, 'solver': 'saga'}. Best is trial 2 with value: 0.9197718764213988.\n",
      "/var/folders/zn/z7q7zstd5jg_tg51vl5zplj80000gn/T/ipykernel_94728/2884086753.py:19: FutureWarning: suggest_loguniform has been deprecated in v3.0.0. This feature will be removed in v6.0.0. See https://github.com/optuna/optuna/releases/tag/v3.0.0. Use suggest_float(..., log=True) instead.\n",
      "  'C': trial.suggest_loguniform('C', 0.001, 100),\n"
     ]
    },
    {
     "name": "stdout",
     "output_type": "stream",
     "text": [
      "1740\n"
     ]
    },
    {
     "name": "stderr",
     "output_type": "stream",
     "text": [
      "[I 2024-02-25 15:31:05,108] Trial 11 finished with value: 0.9188658746013388 and parameters: {'penalty': 'l2', 'C': 2.9835590562734366, 'solver': 'liblinear'}. Best is trial 2 with value: 0.9197718764213988.\n"
     ]
    },
    {
     "name": "stdout",
     "output_type": "stream",
     "text": [
      "2016\n"
     ]
    },
    {
     "name": "stderr",
     "output_type": "stream",
     "text": [
      "/var/folders/zn/z7q7zstd5jg_tg51vl5zplj80000gn/T/ipykernel_94728/2884086753.py:19: FutureWarning: suggest_loguniform has been deprecated in v3.0.0. This feature will be removed in v6.0.0. See https://github.com/optuna/optuna/releases/tag/v3.0.0. Use suggest_float(..., log=True) instead.\n",
      "  'C': trial.suggest_loguniform('C', 0.001, 100),\n",
      "[I 2024-02-25 15:31:06,797] Trial 12 finished with value: 0.9158039137520665 and parameters: {'penalty': 'l1', 'C': 0.04234479062789692, 'solver': 'liblinear'}. Best is trial 2 with value: 0.9197718764213988.\n"
     ]
    },
    {
     "name": "stdout",
     "output_type": "stream",
     "text": [
      "2012\n"
     ]
    },
    {
     "name": "stderr",
     "output_type": "stream",
     "text": [
      "/var/folders/zn/z7q7zstd5jg_tg51vl5zplj80000gn/T/ipykernel_94728/2884086753.py:19: FutureWarning: suggest_loguniform has been deprecated in v3.0.0. This feature will be removed in v6.0.0. See https://github.com/optuna/optuna/releases/tag/v3.0.0. Use suggest_float(..., log=True) instead.\n",
      "  'C': trial.suggest_loguniform('C', 0.001, 100),\n",
      "[I 2024-02-25 15:31:07,205] Trial 13 finished with value: 0.9191531104389765 and parameters: {'penalty': 'l2', 'C': 3.9075263085014185, 'solver': 'liblinear'}. Best is trial 2 with value: 0.9197718764213988.\n"
     ]
    },
    {
     "name": "stdout",
     "output_type": "stream",
     "text": [
      "2018\n"
     ]
    },
    {
     "name": "stderr",
     "output_type": "stream",
     "text": [
      "/var/folders/zn/z7q7zstd5jg_tg51vl5zplj80000gn/T/ipykernel_94728/2884086753.py:19: FutureWarning: suggest_loguniform has been deprecated in v3.0.0. This feature will be removed in v6.0.0. See https://github.com/optuna/optuna/releases/tag/v3.0.0. Use suggest_float(..., log=True) instead.\n",
      "  'C': trial.suggest_loguniform('C', 0.001, 100),\n",
      "[I 2024-02-25 15:31:20,093] Trial 14 finished with value: 0.9197961967610675 and parameters: {'penalty': 'l1', 'C': 90.7011543518457, 'solver': 'liblinear'}. Best is trial 14 with value: 0.9197961967610675.\n"
     ]
    },
    {
     "name": "stdout",
     "output_type": "stream",
     "text": [
      "2065\n"
     ]
    },
    {
     "name": "stderr",
     "output_type": "stream",
     "text": [
      "/var/folders/zn/z7q7zstd5jg_tg51vl5zplj80000gn/T/ipykernel_94728/2884086753.py:19: FutureWarning: suggest_loguniform has been deprecated in v3.0.0. This feature will be removed in v6.0.0. See https://github.com/optuna/optuna/releases/tag/v3.0.0. Use suggest_float(..., log=True) instead.\n",
      "  'C': trial.suggest_loguniform('C', 0.001, 100),\n",
      "[I 2024-02-25 15:31:20,530] Trial 15 finished with value: 0.9197439455242938 and parameters: {'penalty': 'l2', 'C': 94.5373433828611, 'solver': 'liblinear'}. Best is trial 14 with value: 0.9197961967610675.\n"
     ]
    },
    {
     "name": "stdout",
     "output_type": "stream",
     "text": [
      "2063\n"
     ]
    },
    {
     "name": "stderr",
     "output_type": "stream",
     "text": [
      "/var/folders/zn/z7q7zstd5jg_tg51vl5zplj80000gn/T/ipykernel_94728/2884086753.py:19: FutureWarning: suggest_loguniform has been deprecated in v3.0.0. This feature will be removed in v6.0.0. See https://github.com/optuna/optuna/releases/tag/v3.0.0. Use suggest_float(..., log=True) instead.\n",
      "  'C': trial.suggest_loguniform('C', 0.001, 100),\n",
      "[I 2024-02-25 15:31:32,554] Trial 16 finished with value: 0.9198176454813622 and parameters: {'penalty': 'l1', 'C': 16.454320814714894, 'solver': 'liblinear'}. Best is trial 16 with value: 0.9198176454813622.\n"
     ]
    },
    {
     "name": "stdout",
     "output_type": "stream",
     "text": [
      "2065\n"
     ]
    },
    {
     "name": "stderr",
     "output_type": "stream",
     "text": [
      "/var/folders/zn/z7q7zstd5jg_tg51vl5zplj80000gn/T/ipykernel_94728/2884086753.py:19: FutureWarning: suggest_loguniform has been deprecated in v3.0.0. This feature will be removed in v6.0.0. See https://github.com/optuna/optuna/releases/tag/v3.0.0. Use suggest_float(..., log=True) instead.\n",
      "  'C': trial.suggest_loguniform('C', 0.001, 100),\n",
      "[I 2024-02-25 15:31:45,250] Trial 17 finished with value: 0.919819515209458 and parameters: {'penalty': 'l1', 'C': 93.73301460348897, 'solver': 'liblinear'}. Best is trial 17 with value: 0.919819515209458.\n"
     ]
    },
    {
     "name": "stdout",
     "output_type": "stream",
     "text": [
      "2065\n"
     ]
    },
    {
     "name": "stderr",
     "output_type": "stream",
     "text": [
      "/var/folders/zn/z7q7zstd5jg_tg51vl5zplj80000gn/T/ipykernel_94728/2884086753.py:19: FutureWarning: suggest_loguniform has been deprecated in v3.0.0. This feature will be removed in v6.0.0. See https://github.com/optuna/optuna/releases/tag/v3.0.0. Use suggest_float(..., log=True) instead.\n",
      "  'C': trial.suggest_loguniform('C', 0.001, 100),\n",
      "/Users/dessert_gomjelly/anaconda3/envs/LG/lib/python3.10/site-packages/sklearn/linear_model/_sag.py:350: ConvergenceWarning: The max_iter was reached which means the coef_ did not converge\n",
      "  warnings.warn(\n",
      "[I 2024-02-25 15:31:46,865] Trial 18 finished with value: 0.80394361717836 and parameters: {'penalty': 'l1', 'C': 1.5139489488317261, 'solver': 'saga'}. Best is trial 17 with value: 0.919819515209458.\n",
      "/var/folders/zn/z7q7zstd5jg_tg51vl5zplj80000gn/T/ipykernel_94728/2884086753.py:19: FutureWarning: suggest_loguniform has been deprecated in v3.0.0. This feature will be removed in v6.0.0. See https://github.com/optuna/optuna/releases/tag/v3.0.0. Use suggest_float(..., log=True) instead.\n",
      "  'C': trial.suggest_loguniform('C', 0.001, 100),\n"
     ]
    },
    {
     "name": "stdout",
     "output_type": "stream",
     "text": [
      "1740\n"
     ]
    },
    {
     "name": "stderr",
     "output_type": "stream",
     "text": [
      "[I 2024-02-25 15:31:59,619] Trial 19 finished with value: 0.9198176454813622 and parameters: {'penalty': 'l1', 'C': 10.828144976166346, 'solver': 'liblinear'}. Best is trial 17 with value: 0.919819515209458.\n"
     ]
    },
    {
     "name": "stdout",
     "output_type": "stream",
     "text": [
      "2066\n"
     ]
    },
    {
     "name": "stderr",
     "output_type": "stream",
     "text": [
      "/var/folders/zn/z7q7zstd5jg_tg51vl5zplj80000gn/T/ipykernel_94728/2884086753.py:19: FutureWarning: suggest_loguniform has been deprecated in v3.0.0. This feature will be removed in v6.0.0. See https://github.com/optuna/optuna/releases/tag/v3.0.0. Use suggest_float(..., log=True) instead.\n",
      "  'C': trial.suggest_loguniform('C', 0.001, 100),\n",
      "[I 2024-02-25 15:32:12,147] Trial 20 finished with value: 0.9198428336578484 and parameters: {'penalty': 'l1', 'C': 34.58217956301538, 'solver': 'liblinear'}. Best is trial 20 with value: 0.9198428336578484.\n"
     ]
    },
    {
     "name": "stdout",
     "output_type": "stream",
     "text": [
      "2065\n"
     ]
    },
    {
     "name": "stderr",
     "output_type": "stream",
     "text": [
      "/var/folders/zn/z7q7zstd5jg_tg51vl5zplj80000gn/T/ipykernel_94728/2884086753.py:19: FutureWarning: suggest_loguniform has been deprecated in v3.0.0. This feature will be removed in v6.0.0. See https://github.com/optuna/optuna/releases/tag/v3.0.0. Use suggest_float(..., log=True) instead.\n",
      "  'C': trial.suggest_loguniform('C', 0.001, 100),\n",
      "[I 2024-02-25 15:32:31,320] Trial 21 finished with value: 0.9198069209961758 and parameters: {'penalty': 'l1', 'C': 29.350053350925233, 'solver': 'liblinear'}. Best is trial 20 with value: 0.9198428336578484.\n"
     ]
    },
    {
     "name": "stdout",
     "output_type": "stream",
     "text": [
      "2065\n"
     ]
    },
    {
     "name": "stderr",
     "output_type": "stream",
     "text": [
      "/var/folders/zn/z7q7zstd5jg_tg51vl5zplj80000gn/T/ipykernel_94728/2884086753.py:19: FutureWarning: suggest_loguniform has been deprecated in v3.0.0. This feature will be removed in v6.0.0. See https://github.com/optuna/optuna/releases/tag/v3.0.0. Use suggest_float(..., log=True) instead.\n",
      "  'C': trial.suggest_loguniform('C', 0.001, 100),\n",
      "[I 2024-02-25 15:32:43,200] Trial 22 finished with value: 0.9198050509525918 and parameters: {'penalty': 'l1', 'C': 7.787110748448769, 'solver': 'liblinear'}. Best is trial 20 with value: 0.9198428336578484.\n"
     ]
    },
    {
     "name": "stdout",
     "output_type": "stream",
     "text": [
      "2062\n"
     ]
    },
    {
     "name": "stderr",
     "output_type": "stream",
     "text": [
      "/var/folders/zn/z7q7zstd5jg_tg51vl5zplj80000gn/T/ipykernel_94728/2884086753.py:19: FutureWarning: suggest_loguniform has been deprecated in v3.0.0. This feature will be removed in v6.0.0. See https://github.com/optuna/optuna/releases/tag/v3.0.0. Use suggest_float(..., log=True) instead.\n",
      "  'C': trial.suggest_loguniform('C', 0.001, 100),\n",
      "[I 2024-02-25 15:32:52,967] Trial 23 finished with value: 0.9198120357738365 and parameters: {'penalty': 'l1', 'C': 1.3557427283203098, 'solver': 'liblinear'}. Best is trial 20 with value: 0.9198428336578484.\n"
     ]
    },
    {
     "name": "stdout",
     "output_type": "stream",
     "text": [
      "2059\n"
     ]
    },
    {
     "name": "stderr",
     "output_type": "stream",
     "text": [
      "/var/folders/zn/z7q7zstd5jg_tg51vl5zplj80000gn/T/ipykernel_94728/2884086753.py:19: FutureWarning: suggest_loguniform has been deprecated in v3.0.0. This feature will be removed in v6.0.0. See https://github.com/optuna/optuna/releases/tag/v3.0.0. Use suggest_float(..., log=True) instead.\n",
      "  'C': trial.suggest_loguniform('C', 0.001, 100),\n",
      "[I 2024-02-25 15:33:14,998] Trial 24 finished with value: 0.9198176454813622 and parameters: {'penalty': 'l1', 'C': 42.89820419662483, 'solver': 'liblinear'}. Best is trial 20 with value: 0.9198428336578484.\n"
     ]
    },
    {
     "name": "stdout",
     "output_type": "stream",
     "text": [
      "2065\n"
     ]
    },
    {
     "name": "stderr",
     "output_type": "stream",
     "text": [
      "/var/folders/zn/z7q7zstd5jg_tg51vl5zplj80000gn/T/ipykernel_94728/2884086753.py:19: FutureWarning: suggest_loguniform has been deprecated in v3.0.0. This feature will be removed in v6.0.0. See https://github.com/optuna/optuna/releases/tag/v3.0.0. Use suggest_float(..., log=True) instead.\n",
      "  'C': trial.suggest_loguniform('C', 0.001, 100),\n",
      "[I 2024-02-25 15:33:28,030] Trial 25 finished with value: 0.9197961967610675 and parameters: {'penalty': 'l1', 'C': 96.70597728588292, 'solver': 'liblinear'}. Best is trial 20 with value: 0.9198428336578484.\n"
     ]
    },
    {
     "name": "stdout",
     "output_type": "stream",
     "text": [
      "2065\n"
     ]
    },
    {
     "name": "stderr",
     "output_type": "stream",
     "text": [
      "/var/folders/zn/z7q7zstd5jg_tg51vl5zplj80000gn/T/ipykernel_94728/2884086753.py:19: FutureWarning: suggest_loguniform has been deprecated in v3.0.0. This feature will be removed in v6.0.0. See https://github.com/optuna/optuna/releases/tag/v3.0.0. Use suggest_float(..., log=True) instead.\n",
      "  'C': trial.suggest_loguniform('C', 0.001, 100),\n",
      "/Users/dessert_gomjelly/anaconda3/envs/LG/lib/python3.10/site-packages/sklearn/linear_model/_sag.py:350: ConvergenceWarning: The max_iter was reached which means the coef_ did not converge\n",
      "  warnings.warn(\n",
      "[I 2024-02-25 15:33:29,617] Trial 26 finished with value: 0.8042267924099534 and parameters: {'penalty': 'l1', 'C': 0.0572279633916222, 'solver': 'saga'}. Best is trial 20 with value: 0.9198428336578484.\n",
      "/var/folders/zn/z7q7zstd5jg_tg51vl5zplj80000gn/T/ipykernel_94728/2884086753.py:19: FutureWarning: suggest_loguniform has been deprecated in v3.0.0. This feature will be removed in v6.0.0. See https://github.com/optuna/optuna/releases/tag/v3.0.0. Use suggest_float(..., log=True) instead.\n",
      "  'C': trial.suggest_loguniform('C', 0.001, 100),\n"
     ]
    },
    {
     "name": "stdout",
     "output_type": "stream",
     "text": [
      "1741\n"
     ]
    },
    {
     "name": "stderr",
     "output_type": "stream",
     "text": [
      "[I 2024-02-25 15:36:15,505] Trial 27 finished with value: 0.9198176454813622 and parameters: {'penalty': 'l1', 'C': 28.961279696900483, 'solver': 'liblinear'}. Best is trial 20 with value: 0.9198428336578484.\n"
     ]
    },
    {
     "name": "stdout",
     "output_type": "stream",
     "text": [
      "2065\n"
     ]
    },
    {
     "name": "stderr",
     "output_type": "stream",
     "text": [
      "/var/folders/zn/z7q7zstd5jg_tg51vl5zplj80000gn/T/ipykernel_94728/2884086753.py:19: FutureWarning: suggest_loguniform has been deprecated in v3.0.0. This feature will be removed in v6.0.0. See https://github.com/optuna/optuna/releases/tag/v3.0.0. Use suggest_float(..., log=True) instead.\n",
      "  'C': trial.suggest_loguniform('C', 0.001, 100),\n",
      "[I 2024-02-25 15:36:26,497] Trial 28 finished with value: 0.9198586770210235 and parameters: {'penalty': 'l1', 'C': 1.5752240409654508, 'solver': 'liblinear'}. Best is trial 28 with value: 0.9198586770210235.\n"
     ]
    },
    {
     "name": "stdout",
     "output_type": "stream",
     "text": [
      "2059\n"
     ]
    },
    {
     "name": "stderr",
     "output_type": "stream",
     "text": [
      "/var/folders/zn/z7q7zstd5jg_tg51vl5zplj80000gn/T/ipykernel_94728/2884086753.py:19: FutureWarning: suggest_loguniform has been deprecated in v3.0.0. This feature will be removed in v6.0.0. See https://github.com/optuna/optuna/releases/tag/v3.0.0. Use suggest_float(..., log=True) instead.\n",
      "  'C': trial.suggest_loguniform('C', 0.001, 100),\n",
      "[I 2024-02-25 15:36:30,565] Trial 29 finished with value: 0.9185342712252577 and parameters: {'penalty': 'l1', 'C': 0.13734698064405537, 'solver': 'liblinear'}. Best is trial 28 with value: 0.9198586770210235.\n"
     ]
    },
    {
     "name": "stdout",
     "output_type": "stream",
     "text": [
      "2044\n"
     ]
    },
    {
     "name": "stderr",
     "output_type": "stream",
     "text": [
      "/var/folders/zn/z7q7zstd5jg_tg51vl5zplj80000gn/T/ipykernel_94728/2884086753.py:19: FutureWarning: suggest_loguniform has been deprecated in v3.0.0. This feature will be removed in v6.0.0. See https://github.com/optuna/optuna/releases/tag/v3.0.0. Use suggest_float(..., log=True) instead.\n",
      "  'C': trial.suggest_loguniform('C', 0.001, 100),\n",
      "[I 2024-02-25 15:36:49,037] Trial 30 finished with value: 0.919828370216636 and parameters: {'penalty': 'l1', 'C': 1.7763503123782438, 'solver': 'liblinear'}. Best is trial 28 with value: 0.9198586770210235.\n"
     ]
    },
    {
     "name": "stdout",
     "output_type": "stream",
     "text": [
      "2059\n"
     ]
    },
    {
     "name": "stderr",
     "output_type": "stream",
     "text": [
      "/var/folders/zn/z7q7zstd5jg_tg51vl5zplj80000gn/T/ipykernel_94728/2884086753.py:19: FutureWarning: suggest_loguniform has been deprecated in v3.0.0. This feature will be removed in v6.0.0. See https://github.com/optuna/optuna/releases/tag/v3.0.0. Use suggest_float(..., log=True) instead.\n",
      "  'C': trial.suggest_loguniform('C', 0.001, 100),\n",
      "[I 2024-02-25 15:37:06,858] Trial 31 finished with value: 0.9197887151502432 and parameters: {'penalty': 'l1', 'C': 2.4007834875537575, 'solver': 'liblinear'}. Best is trial 28 with value: 0.9198586770210235.\n"
     ]
    },
    {
     "name": "stdout",
     "output_type": "stream",
     "text": [
      "2061\n"
     ]
    },
    {
     "name": "stderr",
     "output_type": "stream",
     "text": [
      "/var/folders/zn/z7q7zstd5jg_tg51vl5zplj80000gn/T/ipykernel_94728/2884086753.py:19: FutureWarning: suggest_loguniform has been deprecated in v3.0.0. This feature will be removed in v6.0.0. See https://github.com/optuna/optuna/releases/tag/v3.0.0. Use suggest_float(..., log=True) instead.\n",
      "  'C': trial.suggest_loguniform('C', 0.001, 100),\n",
      "[I 2024-02-25 15:37:20,295] Trial 32 finished with value: 0.9197144989736892 and parameters: {'penalty': 'l1', 'C': 0.7519757282753536, 'solver': 'liblinear'}. Best is trial 28 with value: 0.9198586770210235.\n"
     ]
    },
    {
     "name": "stdout",
     "output_type": "stream",
     "text": [
      "2053\n"
     ]
    },
    {
     "name": "stderr",
     "output_type": "stream",
     "text": [
      "/var/folders/zn/z7q7zstd5jg_tg51vl5zplj80000gn/T/ipykernel_94728/2884086753.py:19: FutureWarning: suggest_loguniform has been deprecated in v3.0.0. This feature will be removed in v6.0.0. See https://github.com/optuna/optuna/releases/tag/v3.0.0. Use suggest_float(..., log=True) instead.\n",
      "  'C': trial.suggest_loguniform('C', 0.001, 100),\n",
      "[I 2024-02-25 15:37:37,300] Trial 33 finished with value: 0.9198176454813622 and parameters: {'penalty': 'l1', 'C': 7.621822061866856, 'solver': 'liblinear'}. Best is trial 28 with value: 0.9198586770210235.\n"
     ]
    },
    {
     "name": "stdout",
     "output_type": "stream",
     "text": [
      "2066\n"
     ]
    },
    {
     "name": "stderr",
     "output_type": "stream",
     "text": [
      "/var/folders/zn/z7q7zstd5jg_tg51vl5zplj80000gn/T/ipykernel_94728/2884086753.py:19: FutureWarning: suggest_loguniform has been deprecated in v3.0.0. This feature will be removed in v6.0.0. See https://github.com/optuna/optuna/releases/tag/v3.0.0. Use suggest_float(..., log=True) instead.\n",
      "  'C': trial.suggest_loguniform('C', 0.001, 100),\n",
      "[I 2024-02-25 15:37:56,627] Trial 34 finished with value: 0.919828370216636 and parameters: {'penalty': 'l1', 'C': 5.9546079914618515, 'solver': 'liblinear'}. Best is trial 28 with value: 0.9198586770210235.\n"
     ]
    },
    {
     "name": "stdout",
     "output_type": "stream",
     "text": [
      "2065\n"
     ]
    },
    {
     "name": "stderr",
     "output_type": "stream",
     "text": [
      "/var/folders/zn/z7q7zstd5jg_tg51vl5zplj80000gn/T/ipykernel_94728/2884086753.py:19: FutureWarning: suggest_loguniform has been deprecated in v3.0.0. This feature will be removed in v6.0.0. See https://github.com/optuna/optuna/releases/tag/v3.0.0. Use suggest_float(..., log=True) instead.\n",
      "  'C': trial.suggest_loguniform('C', 0.001, 100),\n",
      "/Users/dessert_gomjelly/anaconda3/envs/LG/lib/python3.10/site-packages/sklearn/linear_model/_sag.py:350: ConvergenceWarning: The max_iter was reached which means the coef_ did not converge\n",
      "  warnings.warn(\n",
      "[I 2024-02-25 15:37:58,647] Trial 35 finished with value: 0.8039253546562476 and parameters: {'penalty': 'l1', 'C': 0.9040566229689682, 'solver': 'saga'}. Best is trial 28 with value: 0.9198586770210235.\n",
      "/var/folders/zn/z7q7zstd5jg_tg51vl5zplj80000gn/T/ipykernel_94728/2884086753.py:19: FutureWarning: suggest_loguniform has been deprecated in v3.0.0. This feature will be removed in v6.0.0. See https://github.com/optuna/optuna/releases/tag/v3.0.0. Use suggest_float(..., log=True) instead.\n",
      "  'C': trial.suggest_loguniform('C', 0.001, 100),\n"
     ]
    },
    {
     "name": "stdout",
     "output_type": "stream",
     "text": [
      "1740\n"
     ]
    },
    {
     "name": "stderr",
     "output_type": "stream",
     "text": [
      "[I 2024-02-25 15:38:10,546] Trial 36 finished with value: 0.9198157756660642 and parameters: {'penalty': 'l1', 'C': 4.535194316077371, 'solver': 'liblinear'}. Best is trial 28 with value: 0.9198586770210235.\n"
     ]
    },
    {
     "name": "stdout",
     "output_type": "stream",
     "text": [
      "2060\n"
     ]
    },
    {
     "name": "stderr",
     "output_type": "stream",
     "text": [
      "/var/folders/zn/z7q7zstd5jg_tg51vl5zplj80000gn/T/ipykernel_94728/2884086753.py:19: FutureWarning: suggest_loguniform has been deprecated in v3.0.0. This feature will be removed in v6.0.0. See https://github.com/optuna/optuna/releases/tag/v3.0.0. Use suggest_float(..., log=True) instead.\n",
      "  'C': trial.suggest_loguniform('C', 0.001, 100),\n",
      "[I 2024-02-25 15:38:16,197] Trial 37 finished with value: 0.9186094069529652 and parameters: {'penalty': 'l1', 'C': 0.13968169831582689, 'solver': 'liblinear'}. Best is trial 28 with value: 0.9198586770210235.\n"
     ]
    },
    {
     "name": "stdout",
     "output_type": "stream",
     "text": [
      "2043\n"
     ]
    },
    {
     "name": "stderr",
     "output_type": "stream",
     "text": [
      "/var/folders/zn/z7q7zstd5jg_tg51vl5zplj80000gn/T/ipykernel_94728/2884086753.py:19: FutureWarning: suggest_loguniform has been deprecated in v3.0.0. This feature will be removed in v6.0.0. See https://github.com/optuna/optuna/releases/tag/v3.0.0. Use suggest_float(..., log=True) instead.\n",
      "  'C': trial.suggest_loguniform('C', 0.001, 100),\n",
      "/Users/dessert_gomjelly/anaconda3/envs/LG/lib/python3.10/site-packages/sklearn/linear_model/_sag.py:350: ConvergenceWarning: The max_iter was reached which means the coef_ did not converge\n",
      "  warnings.warn(\n",
      "[I 2024-02-25 15:38:17,793] Trial 38 finished with value: 0.8039300318037256 and parameters: {'penalty': 'l1', 'C': 7.275281337701645, 'solver': 'saga'}. Best is trial 28 with value: 0.9198586770210235.\n",
      "/var/folders/zn/z7q7zstd5jg_tg51vl5zplj80000gn/T/ipykernel_94728/2884086753.py:19: FutureWarning: suggest_loguniform has been deprecated in v3.0.0. This feature will be removed in v6.0.0. See https://github.com/optuna/optuna/releases/tag/v3.0.0. Use suggest_float(..., log=True) instead.\n",
      "  'C': trial.suggest_loguniform('C', 0.001, 100),\n"
     ]
    },
    {
     "name": "stdout",
     "output_type": "stream",
     "text": [
      "1740\n"
     ]
    },
    {
     "name": "stderr",
     "output_type": "stream",
     "text": [
      "[I 2024-02-25 15:38:18,142] Trial 39 finished with value: 0.9133310619500217 and parameters: {'penalty': 'l2', 'C': 0.18548238806448616, 'solver': 'liblinear'}. Best is trial 28 with value: 0.9198586770210235.\n"
     ]
    },
    {
     "name": "stdout",
     "output_type": "stream",
     "text": [
      "1834\n"
     ]
    },
    {
     "name": "stderr",
     "output_type": "stream",
     "text": [
      "/var/folders/zn/z7q7zstd5jg_tg51vl5zplj80000gn/T/ipykernel_94728/2884086753.py:19: FutureWarning: suggest_loguniform has been deprecated in v3.0.0. This feature will be removed in v6.0.0. See https://github.com/optuna/optuna/releases/tag/v3.0.0. Use suggest_float(..., log=True) instead.\n",
      "  'C': trial.suggest_loguniform('C', 0.001, 100),\n",
      "[I 2024-02-25 15:38:36,810] Trial 40 finished with value: 0.9197887151502432 and parameters: {'penalty': 'l1', 'C': 2.2050934362548893, 'solver': 'liblinear'}. Best is trial 28 with value: 0.9198586770210235.\n"
     ]
    },
    {
     "name": "stdout",
     "output_type": "stream",
     "text": [
      "2060\n"
     ]
    },
    {
     "name": "stderr",
     "output_type": "stream",
     "text": [
      "/var/folders/zn/z7q7zstd5jg_tg51vl5zplj80000gn/T/ipykernel_94728/2884086753.py:19: FutureWarning: suggest_loguniform has been deprecated in v3.0.0. This feature will be removed in v6.0.0. See https://github.com/optuna/optuna/releases/tag/v3.0.0. Use suggest_float(..., log=True) instead.\n",
      "  'C': trial.suggest_loguniform('C', 0.001, 100),\n",
      "[I 2024-02-25 15:38:56,699] Trial 41 finished with value: 0.919819515209458 and parameters: {'penalty': 'l1', 'C': 16.576512773606588, 'solver': 'liblinear'}. Best is trial 28 with value: 0.9198586770210235.\n"
     ]
    },
    {
     "name": "stdout",
     "output_type": "stream",
     "text": [
      "2066\n"
     ]
    },
    {
     "name": "stderr",
     "output_type": "stream",
     "text": [
      "/var/folders/zn/z7q7zstd5jg_tg51vl5zplj80000gn/T/ipykernel_94728/2884086753.py:19: FutureWarning: suggest_loguniform has been deprecated in v3.0.0. This feature will be removed in v6.0.0. See https://github.com/optuna/optuna/releases/tag/v3.0.0. Use suggest_float(..., log=True) instead.\n",
      "  'C': trial.suggest_loguniform('C', 0.001, 100),\n",
      "[I 2024-02-25 15:39:04,447] Trial 42 finished with value: 0.9196836801343661 and parameters: {'penalty': 'l1', 'C': 0.5768069771616731, 'solver': 'liblinear'}. Best is trial 28 with value: 0.9198586770210235.\n"
     ]
    },
    {
     "name": "stdout",
     "output_type": "stream",
     "text": [
      "2049\n"
     ]
    },
    {
     "name": "stderr",
     "output_type": "stream",
     "text": [
      "/var/folders/zn/z7q7zstd5jg_tg51vl5zplj80000gn/T/ipykernel_94728/2884086753.py:19: FutureWarning: suggest_loguniform has been deprecated in v3.0.0. This feature will be removed in v6.0.0. See https://github.com/optuna/optuna/releases/tag/v3.0.0. Use suggest_float(..., log=True) instead.\n",
      "  'C': trial.suggest_loguniform('C', 0.001, 100),\n",
      "[I 2024-02-25 15:39:05,208] Trial 43 finished with value: 0.8950886232236771 and parameters: {'penalty': 'l1', 'C': 0.006557000312279805, 'solver': 'liblinear'}. Best is trial 28 with value: 0.9198586770210235.\n"
     ]
    },
    {
     "name": "stdout",
     "output_type": "stream",
     "text": [
      "1625\n"
     ]
    },
    {
     "name": "stderr",
     "output_type": "stream",
     "text": [
      "/var/folders/zn/z7q7zstd5jg_tg51vl5zplj80000gn/T/ipykernel_94728/2884086753.py:19: FutureWarning: suggest_loguniform has been deprecated in v3.0.0. This feature will be removed in v6.0.0. See https://github.com/optuna/optuna/releases/tag/v3.0.0. Use suggest_float(..., log=True) instead.\n",
      "  'C': trial.suggest_loguniform('C', 0.001, 100),\n",
      "[I 2024-02-25 15:39:27,616] Trial 44 finished with value: 0.919828370216636 and parameters: {'penalty': 'l1', 'C': 45.01383567124005, 'solver': 'liblinear'}. Best is trial 28 with value: 0.9198586770210235.\n"
     ]
    },
    {
     "name": "stdout",
     "output_type": "stream",
     "text": [
      "2065\n"
     ]
    },
    {
     "name": "stderr",
     "output_type": "stream",
     "text": [
      "/var/folders/zn/z7q7zstd5jg_tg51vl5zplj80000gn/T/ipykernel_94728/2884086753.py:19: FutureWarning: suggest_loguniform has been deprecated in v3.0.0. This feature will be removed in v6.0.0. See https://github.com/optuna/optuna/releases/tag/v3.0.0. Use suggest_float(..., log=True) instead.\n",
      "  'C': trial.suggest_loguniform('C', 0.001, 100),\n",
      "[I 2024-02-25 15:39:49,885] Trial 45 finished with value: 0.919828370216636 and parameters: {'penalty': 'l1', 'C': 43.303224427916476, 'solver': 'liblinear'}. Best is trial 28 with value: 0.9198586770210235.\n"
     ]
    },
    {
     "name": "stdout",
     "output_type": "stream",
     "text": [
      "2065\n"
     ]
    },
    {
     "name": "stderr",
     "output_type": "stream",
     "text": [
      "/var/folders/zn/z7q7zstd5jg_tg51vl5zplj80000gn/T/ipykernel_94728/2884086753.py:19: FutureWarning: suggest_loguniform has been deprecated in v3.0.0. This feature will be removed in v6.0.0. See https://github.com/optuna/optuna/releases/tag/v3.0.0. Use suggest_float(..., log=True) instead.\n",
      "  'C': trial.suggest_loguniform('C', 0.001, 100),\n",
      "[I 2024-02-25 15:39:50,279] Trial 46 finished with value: 0.9196453569762016 and parameters: {'penalty': 'l2', 'C': 6.136067529206898, 'solver': 'liblinear'}. Best is trial 28 with value: 0.9198586770210235.\n"
     ]
    },
    {
     "name": "stdout",
     "output_type": "stream",
     "text": [
      "2031\n"
     ]
    },
    {
     "name": "stderr",
     "output_type": "stream",
     "text": [
      "/var/folders/zn/z7q7zstd5jg_tg51vl5zplj80000gn/T/ipykernel_94728/2884086753.py:19: FutureWarning: suggest_loguniform has been deprecated in v3.0.0. This feature will be removed in v6.0.0. See https://github.com/optuna/optuna/releases/tag/v3.0.0. Use suggest_float(..., log=True) instead.\n",
      "  'C': trial.suggest_loguniform('C', 0.001, 100),\n",
      "/Users/dessert_gomjelly/anaconda3/envs/LG/lib/python3.10/site-packages/sklearn/linear_model/_sag.py:350: ConvergenceWarning: The max_iter was reached which means the coef_ did not converge\n",
      "  warnings.warn(\n",
      "[I 2024-02-25 15:39:51,951] Trial 47 finished with value: 0.80394361717836 and parameters: {'penalty': 'l1', 'C': 1.4545347176781969, 'solver': 'saga'}. Best is trial 28 with value: 0.9198586770210235.\n",
      "/var/folders/zn/z7q7zstd5jg_tg51vl5zplj80000gn/T/ipykernel_94728/2884086753.py:19: FutureWarning: suggest_loguniform has been deprecated in v3.0.0. This feature will be removed in v6.0.0. See https://github.com/optuna/optuna/releases/tag/v3.0.0. Use suggest_float(..., log=True) instead.\n",
      "  'C': trial.suggest_loguniform('C', 0.001, 100),\n"
     ]
    },
    {
     "name": "stdout",
     "output_type": "stream",
     "text": [
      "1740\n"
     ]
    },
    {
     "name": "stderr",
     "output_type": "stream",
     "text": [
      "[I 2024-02-25 15:40:11,471] Trial 48 finished with value: 0.9198050509525918 and parameters: {'penalty': 'l1', 'C': 12.398542545461794, 'solver': 'liblinear'}. Best is trial 28 with value: 0.9198586770210235.\n"
     ]
    },
    {
     "name": "stdout",
     "output_type": "stream",
     "text": [
      "2066\n"
     ]
    },
    {
     "name": "stderr",
     "output_type": "stream",
     "text": [
      "/var/folders/zn/z7q7zstd5jg_tg51vl5zplj80000gn/T/ipykernel_94728/2884086753.py:19: FutureWarning: suggest_loguniform has been deprecated in v3.0.0. This feature will be removed in v6.0.0. See https://github.com/optuna/optuna/releases/tag/v3.0.0. Use suggest_float(..., log=True) instead.\n",
      "  'C': trial.suggest_loguniform('C', 0.001, 100),\n",
      "[I 2024-02-25 15:40:11,961] Trial 49 finished with value: 0.9196450435532959 and parameters: {'penalty': 'l2', 'C': 28.04026394317936, 'solver': 'liblinear'}. Best is trial 28 with value: 0.9198586770210235.\n"
     ]
    },
    {
     "name": "stdout",
     "output_type": "stream",
     "text": [
      "2057\n"
     ]
    }
   ],
   "source": [
    "from sklearn.model_selection import train_test_split\n",
    "from sklearn.metrics import f1_score\n",
    "from imblearn.over_sampling import SMOTE\n",
    "import optuna\n",
    "from sklearn.linear_model import LogisticRegression\n",
    "import xgboost as xgb\n",
    "import catboost as cb\n",
    "\n",
    "# Optuna Study 생성 및 최적화\n",
    "sampler = optuna.samplers.TPESampler(seed=42)\n",
    "study = optuna.create_study(direction='maximize', sampler=sampler)\n",
    "\n",
    "def objective(trial):\n",
    "    classifier_name = 'LogisticRegression'  \n",
    "    \n",
    "    if classifier_name == 'LogisticRegression':\n",
    "        param = {\n",
    "            'penalty': trial.suggest_categorical('penalty', ['l1', 'l2']),\n",
    "            'C': trial.suggest_loguniform('C', 0.001, 100),\n",
    "            'solver': trial.suggest_categorical('solver', ['liblinear', 'saga'])\n",
    "        }\n",
    "        model = LogisticRegression(**param)\n",
    "    \n",
    "    elif classifier_name == 'XGBoost':\n",
    "        param = {\n",
    "            'n_estimators': trial.suggest_int('n_estimators', 100, 500),\n",
    "            'learning_rate': trial.suggest_loguniform('learning_rate', 0.01, 0.3),\n",
    "            'max_depth': trial.suggest_int('max_depth', 3, 10),\n",
    "            'min_child_weight': trial.suggest_int('min_child_weight', 1, 10),\n",
    "            'subsample': trial.suggest_float('subsample', 0.5, 1),\n",
    "            'colsample_bytree': trial.suggest_float('colsample_bytree', 0.5, 1),\n",
    "        }\n",
    "        model = xgb.XGBClassifier(**param)\n",
    "\n",
    "    elif classifier_name == 'CatBoost':\n",
    "        param = {\n",
    "            'iterations': trial.suggest_int('iterations', 100, 500),\n",
    "            'learning_rate': trial.suggest_loguniform('learning_rate', 0.01, 0.3),\n",
    "            'depth': trial.suggest_int('depth', 4, 10),\n",
    "            'l2_leaf_reg': trial.suggest_int('l2_leaf_reg', 1, 10),\n",
    "            'border_count': trial.suggest_int('border_count', 1, 255),\n",
    "            'loss_function': 'Logloss',\n",
    "        }\n",
    "        model = cb.CatBoostClassifier(**param, verbose=False)\n",
    "\n",
    "    model.fit(x_train_resampled, y_train_resampled)\n",
    "    \n",
    "    # 예측에 필요한 데이터 분리\n",
    "    x_test = df_test.drop([\"is_converted\", \"id\"], axis=1)\n",
    "    test_pred = model.predict(x_test)\n",
    "    print(sum(test_pred))\n",
    "    \n",
    "    y_pred = model.predict(x_train_resampled)\n",
    "    score = f1_score(y_train_resampled, y_pred, average='binary')\n",
    "    return score\n",
    "\n",
    "study.optimize(objective, n_trials=50)\n"
   ]
  },
  {
   "cell_type": "code",
   "execution_count": null,
   "id": "496ca086-ec8d-4dea-9b85-713443d43ac4",
   "metadata": {},
   "outputs": [],
   "source": [
    "print(\"Best trial:\")\n",
    "trial = study.best_trial\n",
    "print(\"Value: \", trial.value)\n",
    "print(\"Params: \")\n",
    "for key, value in trial.params.items():\n",
    "    print(f\"    {key}: {value}\")\n"
   ]
  },
  {
   "cell_type": "markdown",
   "id": "024e0d60-08ae-4aeb-a011-a8025cf040ed",
   "metadata": {},
   "source": [
    "# 로지스틱"
   ]
  },
  {
   "cell_type": "code",
   "execution_count": null,
   "id": "d8281426-8f10-41c4-8e70-a1e5bb42b656",
   "metadata": {},
   "outputs": [],
   "source": [
    "# Optuna에서 얻은 최적의 하이퍼파라미터\n",
    "best_params = {\n",
    "    'C': 13.501121488963042,\n",
    "    'penalty':  'l2',\n",
    "    'solver': 'saga',\n",
    "    'random_state': 42\n",
    "}\n",
    "\n",
    "# 로지스틱 모델 초기화\n",
    "model_logistic = LogisticRegression(**best_params)  \n",
    "\n",
    "# 모델 훈련\n",
    "model_logistic.fit(x_train_resampled, y_train_resampled)\n",
    "\n",
    "\n",
    "\n",
    "pred = model_logistic.predict(x_val)\n",
    "get_clf_eval(y_val, pred)\n"
   ]
  },
  {
   "cell_type": "code",
   "execution_count": null,
   "id": "c4d4edff-8ca7-4c2e-8ef8-7536d7d12c79",
   "metadata": {},
   "outputs": [],
   "source": [
    "# 예측에 필요한 데이터 분리\n",
    "x_test = df_test.drop([\"is_converted\", \"id\"], axis=1)\n",
    "test_pred = model_logistic.predict(x_test)\n",
    "sum(test_pred) # True로 예측된 개수"
   ]
  },
  {
   "cell_type": "markdown",
   "id": "a681ac3c-6ef2-475e-8631-402bdcdf83fa",
   "metadata": {},
   "source": [
    "# XGBOOST"
   ]
  },
  {
   "cell_type": "code",
   "execution_count": null,
   "id": "2e18b297-a551-42fa-9bb7-c4b7f46b3f79",
   "metadata": {},
   "outputs": [],
   "source": [
    "import xgboost as xgb\n",
    "from sklearn.metrics import accuracy_score, f1_score\n",
    "\n",
    "\n",
    "# Optuna에서 얻은 최적의 하이퍼파라미터\n",
    "best_params = {\n",
    "    'n_estimators': 353,\n",
    "    'learning_rate':  0.2434479254071981,\n",
    "    'max_depth': 9,\n",
    "    'min_child_weight': 1,\n",
    "    'subsample': 0.8542013928801689,\n",
    "    'colsample_bytree': 0.7740784750016947,\n",
    "    'random_state': 42\n",
    "}\n",
    "\n",
    "# XGBoost 모델 초기화\n",
    "model_xgb = xgb.XGBClassifier(**best_params)\n",
    "\n",
    "# 모델 훈련\n",
    "model_xgb.fit(x_train_resampled, y_train_resampled)\n",
    "\n",
    "# 예측\n",
    "test_pred = model_xgb.predict(x_test)\n",
    "print(\"True로 예측된 개수 : \",sum(test_pred))  # True로 예측된 개수\n",
    "\n",
    "\n",
    "pred = model_xgb.predict(x_val)\n",
    "get_clf_eval(y_val, pred)\n"
   ]
  },
  {
   "cell_type": "markdown",
   "id": "3d8d909d-1fd2-4c8f-8ed9-254c7d40ba4d",
   "metadata": {},
   "source": [
    "# CatBoost"
   ]
  },
  {
   "cell_type": "code",
   "execution_count": null,
   "id": "330a4963-1771-4c9d-b1ef-e35709456356",
   "metadata": {},
   "outputs": [],
   "source": [
    "from catboost import CatBoostClassifier\n",
    "from sklearn.metrics import accuracy_score, f1_score\n",
    "\n",
    "# Optuna에서 얻은 최적의 하이퍼파라미터\n",
    "best_params = {\n",
    "    'iterations': 496,\n",
    "    'learning_rate': 0.04101024468316687,\n",
    "    'depth': 10,\n",
    "    'l2_leaf_reg': 1,\n",
    "    'border_count': 202,\n",
    "    'random_seed': 42\n",
    "}\n",
    "\n",
    "# CatBoost 모델 초기화\n",
    "model_catboost = CatBoostClassifier(**best_params)\n",
    "\n",
    "# 모델 훈련\n",
    "model_catboost.fit(x_train_resampled, y_train_resampled)\n",
    "\n",
    "# 예측\n",
    "test_pred = model_catboost.predict(x_test)\n",
    "print(sum(test_pred))  # True로 예측된 개수\n",
    "\n",
    "pred = model_catboost.predict(x_val)\n",
    "get_clf_eval(y_val, pred)"
   ]
  },
  {
   "cell_type": "markdown",
   "id": "e2e638b1-1090-4e3a-8eef-623eb507aa2e",
   "metadata": {},
   "source": [
    "# 앙상블"
   ]
  },
  {
   "cell_type": "code",
   "execution_count": null,
   "id": "253dc54d-0cf0-47b9-aa34-fe5554a433cc",
   "metadata": {},
   "outputs": [],
   "source": [
    "from sklearn.ensemble import VotingClassifier\n",
    "\n",
    "# 각 모델의 이름과 모델 객체를 리스트로 만듭니다.\n",
    "models = [\n",
    "    ('XGBoost', model_xgb),\n",
    "    ('CatBoost', model_catboost),\n",
    "    ('Logistic', model_logistic) \n",
    "]\n",
    "\n",
    "# 소프트 보팅 앙상블 모델 초기화\n",
    "soft_voting_model = VotingClassifier(estimators=models, voting='soft')  # 'soft' 보팅은 클래스 확률을 기반으로 투표합니다.\n",
    "\n",
    "# 모델 훈련\n",
    "soft_voting_model.fit(x_train_resampled, y_train_resampled)\n",
    "\n",
    "# 각 모델의 예측 확률을 수집하여 소프트 보팅 예측을 만듭니다.\n",
    "soft_voting_test_pred = soft_voting_model.predict(x_test)\n",
    "print(\"True로 예측된 개수 : \", sum(soft_voting_test_pred))  # True로 예측된 개수"
   ]
  },
  {
   "cell_type": "code",
   "execution_count": null,
   "id": "1bc0b9bb-4d50-43f5-9423-c23d40b0d2a9",
   "metadata": {},
   "outputs": [],
   "source": [
    "pred = soft_voting_model.predict(x_val)\n",
    "get_clf_eval(y_val, pred)"
   ]
  },
  {
   "cell_type": "code",
   "execution_count": null,
   "id": "71e158a7-e4dd-4ab9-8cc0-3df094574804",
   "metadata": {},
   "outputs": [],
   "source": [
    "# 제출 데이터 읽어오기 (df_test는 전처리된 데이터가 저장됨)\n",
    "df_sub = pd.read_csv(\"submission.csv\")\n",
    "df_sub[\"is_converted\"] = soft_voting_test_pred\n",
    "df_sub['is_converted'].head()\n",
    "\n",
    "df_sub['is_converted'].head()"
   ]
  },
  {
   "cell_type": "code",
   "execution_count": null,
   "id": "83e4b84b-963e-48e1-a88f-874b2afcccd8",
   "metadata": {},
   "outputs": [],
   "source": [
    "\n",
    "# 제출 파일 저장\n",
    "df_sub.to_csv(\"submission.csv\", index=False)"
   ]
  },
  {
   "cell_type": "code",
   "execution_count": null,
   "id": "b45ec58c-d0f0-41c6-a6a8-96fd02e9ec49",
   "metadata": {},
   "outputs": [],
   "source": []
  },
  {
   "cell_type": "code",
   "execution_count": null,
   "id": "c0c31b63-341c-41e9-b543-0fa4ae27a389",
   "metadata": {},
   "outputs": [],
   "source": []
  },
  {
   "cell_type": "code",
   "execution_count": null,
   "id": "a9499098-9c41-45ae-8802-8a8376d6817f",
   "metadata": {},
   "outputs": [],
   "source": []
  },
  {
   "cell_type": "code",
   "execution_count": null,
   "id": "61817383-96f0-406b-850b-ce69ef5fd1c6",
   "metadata": {},
   "outputs": [],
   "source": []
  },
  {
   "cell_type": "code",
   "execution_count": null,
   "id": "22ddca98-8ff2-487f-9991-f893eccc21fa",
   "metadata": {},
   "outputs": [],
   "source": []
  },
  {
   "cell_type": "markdown",
   "id": "ec7867ce",
   "metadata": {},
   "source": [
    "**우측 상단의 제출 버튼을 클릭해 결과를 확인하세요**"
   ]
  }
 ],
 "metadata": {
  "kernelspec": {
   "display_name": "LG",
   "language": "python",
   "name": "lg"
  },
  "language_info": {
   "codemirror_mode": {
    "name": "ipython",
    "version": 3
   },
   "file_extension": ".py",
   "mimetype": "text/x-python",
   "name": "python",
   "nbconvert_exporter": "python",
   "pygments_lexer": "ipython3",
   "version": "3.10.13"
  }
 },
 "nbformat": 4,
 "nbformat_minor": 5
}
