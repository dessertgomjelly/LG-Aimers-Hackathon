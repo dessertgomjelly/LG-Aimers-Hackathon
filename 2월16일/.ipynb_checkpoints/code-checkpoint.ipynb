{
 "cells": [
  {
   "cell_type": "markdown",
   "id": "017e9265",
   "metadata": {},
   "source": [
    "# 영업 성공 여부 분류 경진대회"
   ]
  },
  {
   "cell_type": "markdown",
   "id": "acdab431",
   "metadata": {},
   "source": [
    "## 1. 데이터 확인"
   ]
  },
  {
   "cell_type": "markdown",
   "id": "2b8341e8",
   "metadata": {},
   "source": [
    "### 필수 라이브러리"
   ]
  },
  {
   "cell_type": "code",
   "execution_count": 1,
   "id": "a315cc58",
   "metadata": {},
   "outputs": [],
   "source": [
    "import pandas as pd\n",
    "import numpy as np\n",
    "from sklearn.metrics import (\n",
    "    accuracy_score,\n",
    "    confusion_matrix,\n",
    "    f1_score,\n",
    "    precision_score,\n",
    "    recall_score,\n",
    ")\n",
    "from sklearn.model_selection import train_test_split\n",
    "from sklearn.tree import DecisionTreeClassifier"
   ]
  },
  {
   "cell_type": "markdown",
   "id": "412f98cc",
   "metadata": {},
   "source": [
    "### 데이터 셋 읽어오기"
   ]
  },
  {
   "cell_type": "code",
   "execution_count": 2,
   "id": "7ada941e",
   "metadata": {},
   "outputs": [],
   "source": [
    "df_train = pd.read_csv(\"train.csv\") # 학습용 데이터\n",
    "df_test = pd.read_csv(\"submission.csv\") # 테스트 데이터(제출파일의 데이터)"
   ]
  },
  {
   "cell_type": "code",
   "execution_count": 3,
   "id": "be9af12a",
   "metadata": {},
   "outputs": [
    {
     "data": {
      "text/html": [
       "<div>\n",
       "<style scoped>\n",
       "    .dataframe tbody tr th:only-of-type {\n",
       "        vertical-align: middle;\n",
       "    }\n",
       "\n",
       "    .dataframe tbody tr th {\n",
       "        vertical-align: top;\n",
       "    }\n",
       "\n",
       "    .dataframe thead th {\n",
       "        text-align: right;\n",
       "    }\n",
       "</style>\n",
       "<table border=\"1\" class=\"dataframe\">\n",
       "  <thead>\n",
       "    <tr style=\"text-align: right;\">\n",
       "      <th></th>\n",
       "      <th>bant_submit</th>\n",
       "      <th>customer_country</th>\n",
       "      <th>business_unit</th>\n",
       "      <th>com_reg_ver_win_rate</th>\n",
       "      <th>customer_idx</th>\n",
       "      <th>customer_type</th>\n",
       "      <th>enterprise</th>\n",
       "      <th>historical_existing_cnt</th>\n",
       "      <th>id_strategic_ver</th>\n",
       "      <th>it_strategic_ver</th>\n",
       "      <th>...</th>\n",
       "      <th>response_corporate</th>\n",
       "      <th>expected_timeline</th>\n",
       "      <th>ver_cus</th>\n",
       "      <th>ver_pro</th>\n",
       "      <th>ver_win_rate_x</th>\n",
       "      <th>ver_win_ratio_per_bu</th>\n",
       "      <th>business_area</th>\n",
       "      <th>business_subarea</th>\n",
       "      <th>lead_owner</th>\n",
       "      <th>is_converted</th>\n",
       "    </tr>\n",
       "  </thead>\n",
       "  <tbody>\n",
       "    <tr>\n",
       "      <th>0</th>\n",
       "      <td>1.00</td>\n",
       "      <td>/Quezon City/Philippines</td>\n",
       "      <td>AS</td>\n",
       "      <td>0.066667</td>\n",
       "      <td>32160</td>\n",
       "      <td>End-Customer</td>\n",
       "      <td>Enterprise</td>\n",
       "      <td>NaN</td>\n",
       "      <td>NaN</td>\n",
       "      <td>NaN</td>\n",
       "      <td>...</td>\n",
       "      <td>LGEPH</td>\n",
       "      <td>less than 3 months</td>\n",
       "      <td>1</td>\n",
       "      <td>0</td>\n",
       "      <td>0.003079</td>\n",
       "      <td>0.026846</td>\n",
       "      <td>corporate / office</td>\n",
       "      <td>Engineering</td>\n",
       "      <td>0</td>\n",
       "      <td>True</td>\n",
       "    </tr>\n",
       "    <tr>\n",
       "      <th>1</th>\n",
       "      <td>1.00</td>\n",
       "      <td>/PH-00/Philippines</td>\n",
       "      <td>AS</td>\n",
       "      <td>0.066667</td>\n",
       "      <td>23122</td>\n",
       "      <td>End-Customer</td>\n",
       "      <td>Enterprise</td>\n",
       "      <td>12.0</td>\n",
       "      <td>NaN</td>\n",
       "      <td>NaN</td>\n",
       "      <td>...</td>\n",
       "      <td>LGEPH</td>\n",
       "      <td>less than 3 months</td>\n",
       "      <td>1</td>\n",
       "      <td>0</td>\n",
       "      <td>0.003079</td>\n",
       "      <td>0.026846</td>\n",
       "      <td>corporate / office</td>\n",
       "      <td>Advertising</td>\n",
       "      <td>1</td>\n",
       "      <td>True</td>\n",
       "    </tr>\n",
       "    <tr>\n",
       "      <th>2</th>\n",
       "      <td>1.00</td>\n",
       "      <td>/Kolkata /India</td>\n",
       "      <td>AS</td>\n",
       "      <td>0.088889</td>\n",
       "      <td>1755</td>\n",
       "      <td>End-Customer</td>\n",
       "      <td>Enterprise</td>\n",
       "      <td>144.0</td>\n",
       "      <td>NaN</td>\n",
       "      <td>NaN</td>\n",
       "      <td>...</td>\n",
       "      <td>LGEIL</td>\n",
       "      <td>less than 3 months</td>\n",
       "      <td>1</td>\n",
       "      <td>0</td>\n",
       "      <td>0.003079</td>\n",
       "      <td>0.026846</td>\n",
       "      <td>corporate / office</td>\n",
       "      <td>Construction</td>\n",
       "      <td>2</td>\n",
       "      <td>True</td>\n",
       "    </tr>\n",
       "    <tr>\n",
       "      <th>3</th>\n",
       "      <td>1.00</td>\n",
       "      <td>/Bhubaneswar/India</td>\n",
       "      <td>AS</td>\n",
       "      <td>0.088889</td>\n",
       "      <td>4919</td>\n",
       "      <td>End-Customer</td>\n",
       "      <td>Enterprise</td>\n",
       "      <td>NaN</td>\n",
       "      <td>NaN</td>\n",
       "      <td>NaN</td>\n",
       "      <td>...</td>\n",
       "      <td>LGEIL</td>\n",
       "      <td>less than 3 months</td>\n",
       "      <td>1</td>\n",
       "      <td>0</td>\n",
       "      <td>0.003079</td>\n",
       "      <td>0.026846</td>\n",
       "      <td>corporate / office</td>\n",
       "      <td>IT/Software</td>\n",
       "      <td>3</td>\n",
       "      <td>True</td>\n",
       "    </tr>\n",
       "    <tr>\n",
       "      <th>4</th>\n",
       "      <td>1.00</td>\n",
       "      <td>/Hyderabad/India</td>\n",
       "      <td>AS</td>\n",
       "      <td>0.088889</td>\n",
       "      <td>17126</td>\n",
       "      <td>Specifier/ Influencer</td>\n",
       "      <td>Enterprise</td>\n",
       "      <td>NaN</td>\n",
       "      <td>NaN</td>\n",
       "      <td>NaN</td>\n",
       "      <td>...</td>\n",
       "      <td>LGEIL</td>\n",
       "      <td>less than 3 months</td>\n",
       "      <td>0</td>\n",
       "      <td>0</td>\n",
       "      <td>0.003079</td>\n",
       "      <td>0.026846</td>\n",
       "      <td>corporate / office</td>\n",
       "      <td>NaN</td>\n",
       "      <td>4</td>\n",
       "      <td>True</td>\n",
       "    </tr>\n",
       "    <tr>\n",
       "      <th>...</th>\n",
       "      <td>...</td>\n",
       "      <td>...</td>\n",
       "      <td>...</td>\n",
       "      <td>...</td>\n",
       "      <td>...</td>\n",
       "      <td>...</td>\n",
       "      <td>...</td>\n",
       "      <td>...</td>\n",
       "      <td>...</td>\n",
       "      <td>...</td>\n",
       "      <td>...</td>\n",
       "      <td>...</td>\n",
       "      <td>...</td>\n",
       "      <td>...</td>\n",
       "      <td>...</td>\n",
       "      <td>...</td>\n",
       "      <td>...</td>\n",
       "      <td>...</td>\n",
       "      <td>...</td>\n",
       "      <td>...</td>\n",
       "      <td>...</td>\n",
       "    </tr>\n",
       "    <tr>\n",
       "      <th>59294</th>\n",
       "      <td>1.00</td>\n",
       "      <td>/Sląskie/Poland</td>\n",
       "      <td>AS</td>\n",
       "      <td>NaN</td>\n",
       "      <td>33747</td>\n",
       "      <td>End Customer</td>\n",
       "      <td>SMB</td>\n",
       "      <td>NaN</td>\n",
       "      <td>NaN</td>\n",
       "      <td>NaN</td>\n",
       "      <td>...</td>\n",
       "      <td>LGEPL</td>\n",
       "      <td>3 months ~ 6 months</td>\n",
       "      <td>0</td>\n",
       "      <td>0</td>\n",
       "      <td>0.000026</td>\n",
       "      <td>0.028777</td>\n",
       "      <td>public facility</td>\n",
       "      <td>Others</td>\n",
       "      <td>694</td>\n",
       "      <td>False</td>\n",
       "    </tr>\n",
       "    <tr>\n",
       "      <th>59295</th>\n",
       "      <td>0.75</td>\n",
       "      <td>/Bogotá DC /Colombia</td>\n",
       "      <td>AS</td>\n",
       "      <td>0.040000</td>\n",
       "      <td>35420</td>\n",
       "      <td>Specifier/ Influencer</td>\n",
       "      <td>Enterprise</td>\n",
       "      <td>NaN</td>\n",
       "      <td>NaN</td>\n",
       "      <td>NaN</td>\n",
       "      <td>...</td>\n",
       "      <td>LGECB</td>\n",
       "      <td>9 months ~ 1 year</td>\n",
       "      <td>0</td>\n",
       "      <td>0</td>\n",
       "      <td>0.000026</td>\n",
       "      <td>0.028777</td>\n",
       "      <td>public facility</td>\n",
       "      <td>NaN</td>\n",
       "      <td>39</td>\n",
       "      <td>False</td>\n",
       "    </tr>\n",
       "    <tr>\n",
       "      <th>59296</th>\n",
       "      <td>0.75</td>\n",
       "      <td>/Pisco/Peru</td>\n",
       "      <td>AS</td>\n",
       "      <td>0.040000</td>\n",
       "      <td>19249</td>\n",
       "      <td>Specifier/ Influencer</td>\n",
       "      <td>Enterprise</td>\n",
       "      <td>NaN</td>\n",
       "      <td>NaN</td>\n",
       "      <td>NaN</td>\n",
       "      <td>...</td>\n",
       "      <td>LGEPR</td>\n",
       "      <td>less than 3 months</td>\n",
       "      <td>0</td>\n",
       "      <td>0</td>\n",
       "      <td>0.000026</td>\n",
       "      <td>0.028777</td>\n",
       "      <td>public facility</td>\n",
       "      <td>NaN</td>\n",
       "      <td>125</td>\n",
       "      <td>False</td>\n",
       "    </tr>\n",
       "    <tr>\n",
       "      <th>59297</th>\n",
       "      <td>1.00</td>\n",
       "      <td>/santa cruz bolivia/Peru</td>\n",
       "      <td>AS</td>\n",
       "      <td>0.040000</td>\n",
       "      <td>40327</td>\n",
       "      <td>NaN</td>\n",
       "      <td>Enterprise</td>\n",
       "      <td>NaN</td>\n",
       "      <td>NaN</td>\n",
       "      <td>NaN</td>\n",
       "      <td>...</td>\n",
       "      <td>LGEPR</td>\n",
       "      <td>more than a year</td>\n",
       "      <td>0</td>\n",
       "      <td>0</td>\n",
       "      <td>0.000026</td>\n",
       "      <td>0.028777</td>\n",
       "      <td>public facility</td>\n",
       "      <td>NaN</td>\n",
       "      <td>134</td>\n",
       "      <td>False</td>\n",
       "    </tr>\n",
       "    <tr>\n",
       "      <th>59298</th>\n",
       "      <td>0.75</td>\n",
       "      <td>/paris/France</td>\n",
       "      <td>Solution</td>\n",
       "      <td>NaN</td>\n",
       "      <td>30268</td>\n",
       "      <td>NaN</td>\n",
       "      <td>Enterprise</td>\n",
       "      <td>NaN</td>\n",
       "      <td>NaN</td>\n",
       "      <td>NaN</td>\n",
       "      <td>...</td>\n",
       "      <td>LGEKR</td>\n",
       "      <td>less than 3 months</td>\n",
       "      <td>0</td>\n",
       "      <td>0</td>\n",
       "      <td>0.000026</td>\n",
       "      <td>NaN</td>\n",
       "      <td>public facility</td>\n",
       "      <td>NaN</td>\n",
       "      <td>441</td>\n",
       "      <td>False</td>\n",
       "    </tr>\n",
       "  </tbody>\n",
       "</table>\n",
       "<p>59299 rows × 29 columns</p>\n",
       "</div>"
      ],
      "text/plain": [
       "       bant_submit          customer_country business_unit  \\\n",
       "0             1.00  /Quezon City/Philippines            AS   \n",
       "1             1.00        /PH-00/Philippines            AS   \n",
       "2             1.00           /Kolkata /India            AS   \n",
       "3             1.00        /Bhubaneswar/India            AS   \n",
       "4             1.00          /Hyderabad/India            AS   \n",
       "...            ...                       ...           ...   \n",
       "59294         1.00           /Sląskie/Poland            AS   \n",
       "59295         0.75      /Bogotá DC /Colombia            AS   \n",
       "59296         0.75               /Pisco/Peru            AS   \n",
       "59297         1.00  /santa cruz bolivia/Peru            AS   \n",
       "59298         0.75             /paris/France      Solution   \n",
       "\n",
       "       com_reg_ver_win_rate  customer_idx          customer_type  enterprise  \\\n",
       "0                  0.066667         32160           End-Customer  Enterprise   \n",
       "1                  0.066667         23122           End-Customer  Enterprise   \n",
       "2                  0.088889          1755           End-Customer  Enterprise   \n",
       "3                  0.088889          4919           End-Customer  Enterprise   \n",
       "4                  0.088889         17126  Specifier/ Influencer  Enterprise   \n",
       "...                     ...           ...                    ...         ...   \n",
       "59294                   NaN         33747           End Customer         SMB   \n",
       "59295              0.040000         35420  Specifier/ Influencer  Enterprise   \n",
       "59296              0.040000         19249  Specifier/ Influencer  Enterprise   \n",
       "59297              0.040000         40327                    NaN  Enterprise   \n",
       "59298                   NaN         30268                    NaN  Enterprise   \n",
       "\n",
       "       historical_existing_cnt  id_strategic_ver  it_strategic_ver  ...  \\\n",
       "0                          NaN               NaN               NaN  ...   \n",
       "1                         12.0               NaN               NaN  ...   \n",
       "2                        144.0               NaN               NaN  ...   \n",
       "3                          NaN               NaN               NaN  ...   \n",
       "4                          NaN               NaN               NaN  ...   \n",
       "...                        ...               ...               ...  ...   \n",
       "59294                      NaN               NaN               NaN  ...   \n",
       "59295                      NaN               NaN               NaN  ...   \n",
       "59296                      NaN               NaN               NaN  ...   \n",
       "59297                      NaN               NaN               NaN  ...   \n",
       "59298                      NaN               NaN               NaN  ...   \n",
       "\n",
       "       response_corporate    expected_timeline  ver_cus ver_pro  \\\n",
       "0                   LGEPH   less than 3 months        1       0   \n",
       "1                   LGEPH   less than 3 months        1       0   \n",
       "2                   LGEIL   less than 3 months        1       0   \n",
       "3                   LGEIL   less than 3 months        1       0   \n",
       "4                   LGEIL   less than 3 months        0       0   \n",
       "...                   ...                  ...      ...     ...   \n",
       "59294               LGEPL  3 months ~ 6 months        0       0   \n",
       "59295               LGECB    9 months ~ 1 year        0       0   \n",
       "59296               LGEPR   less than 3 months        0       0   \n",
       "59297               LGEPR     more than a year        0       0   \n",
       "59298               LGEKR   less than 3 months        0       0   \n",
       "\n",
       "      ver_win_rate_x ver_win_ratio_per_bu       business_area  \\\n",
       "0           0.003079             0.026846  corporate / office   \n",
       "1           0.003079             0.026846  corporate / office   \n",
       "2           0.003079             0.026846  corporate / office   \n",
       "3           0.003079             0.026846  corporate / office   \n",
       "4           0.003079             0.026846  corporate / office   \n",
       "...              ...                  ...                 ...   \n",
       "59294       0.000026             0.028777     public facility   \n",
       "59295       0.000026             0.028777     public facility   \n",
       "59296       0.000026             0.028777     public facility   \n",
       "59297       0.000026             0.028777     public facility   \n",
       "59298       0.000026                  NaN     public facility   \n",
       "\n",
       "      business_subarea lead_owner is_converted  \n",
       "0          Engineering          0         True  \n",
       "1          Advertising          1         True  \n",
       "2         Construction          2         True  \n",
       "3          IT/Software          3         True  \n",
       "4                  NaN          4         True  \n",
       "...                ...        ...          ...  \n",
       "59294           Others        694        False  \n",
       "59295              NaN         39        False  \n",
       "59296              NaN        125        False  \n",
       "59297              NaN        134        False  \n",
       "59298              NaN        441        False  \n",
       "\n",
       "[59299 rows x 29 columns]"
      ]
     },
     "execution_count": 3,
     "metadata": {},
     "output_type": "execute_result"
    }
   ],
   "source": [
    "df_train"
   ]
  },
  {
   "cell_type": "markdown",
   "id": "9463021e-2b21-4bfc-ba6e-30d92e84fffd",
   "metadata": {},
   "source": [
    "# expected_timeline"
   ]
  },
  {
   "cell_type": "code",
   "execution_count": 4,
   "id": "ac528861-919e-43bf-bfac-d86666d01ad2",
   "metadata": {},
   "outputs": [
    {
     "data": {
      "text/plain": [
       "30863"
      ]
     },
     "execution_count": 4,
     "metadata": {},
     "output_type": "execute_result"
    }
   ],
   "source": [
    "df_train['expected_timeline'].isnull().sum()"
   ]
  },
  {
   "cell_type": "code",
   "execution_count": 5,
   "id": "5da577d2-7c89-436d-b8dc-3e739b0bebd3",
   "metadata": {},
   "outputs": [],
   "source": [
    "# 특정 키워드 매핑\n",
    "def update_expected_timeline(value):\n",
    "    if pd.notna(value):\n",
    "        original_value = value\n",
    "\n",
    "        mapping_rules = {\n",
    "            ('requi', 'reqi'): 'requirement',\n",
    "            ('no', 'not'): 'no requirement',\n",
    "            ('follow',): 'follow',\n",
    "            ('details',): 'details shared',\n",
    "            ('call back', 'call later', 'call after'): 'call back'\n",
    "        }\n",
    "\n",
    "        for keywords, updated_value in mapping_rules.items():\n",
    "            if any(keyword in value for keyword in keywords):\n",
    "                return updated_value\n",
    "\n",
    "        return original_value\n",
    "\n",
    "\n",
    "#행의 값이 1인 경우에는 Other 로 분류\n",
    "def classify_single_occurrence_as_other(df):\n",
    "    value_counts = df['expected_timeline'].value_counts()\n",
    "    single_occurrence_values = value_counts[value_counts == 1].index\n",
    "    df['expected_timeline'] = df['expected_timeline'].apply(lambda x: 'Other' if x in single_occurrence_values else x)\n",
    "    return df\n",
    "\n",
    "\n",
    "\n",
    "# 직접 매핑하는 함수\n",
    "def apply_mapping_and_fillna(df, timeline_mapping):\n",
    "    df['expected_timeline'] = df['expected_timeline'].apply(update_expected_timeline)\n",
    "    df['expected_timeline'] = df['expected_timeline'].map(timeline_mapping).fillna(df['expected_timeline'])\n",
    "    return df\n",
    "    \n",
    "timeline_mapping = {\n",
    "    \"less than 3 months\": \"0-3m\",\n",
    "    \"less_than_3_months\": \"0-3m\",\n",
    "    \n",
    "    \"3 months ~ 6 months\": \"3-6m\",\n",
    "    \"3_months_~_6_months\": \"3-6m\",\n",
    "    \n",
    "    \"6 months ~ 9 months\": \"6-9m\",\n",
    "    \"6_months_~_9_months\": \"6-9m\",\n",
    "    \n",
    "    \"9 months ~ 1 year\": \"9-12m\",\n",
    "    \"9_months_~_1_year\": \"9-12m\",\n",
    "    \n",
    "    \"up to december\": \"1y\",\n",
    "    \"more than a year\": \"1y\",\n",
    "    \"more_than_a_year\": \"1y\",\n",
    "    \n",
    "    \"couldn't connect\": \"no response\",\n",
    "    \"didn't respond\" : \"no response\",\n",
    "    \"rnr\": \"no response\",\n",
    "    \"reponse\": \"response\"\n",
    "}\n",
    "\n",
    "df_train = apply_mapping_and_fillna(df_train, timeline_mapping)\n",
    "df_test = apply_mapping_and_fillna(df_test, timeline_mapping)\n",
    "\n",
    "df_train = classify_single_occurrence_as_other(df_train)\n",
    "df_test = classify_single_occurrence_as_other(df_test)"
   ]
  },
  {
   "cell_type": "code",
   "execution_count": 6,
   "id": "3a6c018f-238e-44aa-af15-5887ff154d30",
   "metadata": {},
   "outputs": [
    {
     "name": "stdout",
     "output_type": "stream",
     "text": [
      "unique 값: 28\n",
      "빈도:\n",
      "None: 30863\n",
      "0-3m: 17326\n",
      "3-6m: 5035\n",
      "1y: 3028\n",
      "9-12m: 1107\n",
      "6-9m: 1102\n",
      "Other: 176\n",
      "no requirement: 120\n",
      "requirement: 112\n",
      "less than 6 months: 108\n",
      "follow: 108\n",
      "etc.: 95\n",
      "details shared: 45\n",
      "no response: 17\n",
      "call back: 17\n",
      "duplicate lead: 6\n",
      "quote send: 5\n",
      "budget issue: 4\n",
      "december 2022: 3\n",
      "already touch with customers: 3\n",
      "assigned to partner. intial meeting done. will convert to opp post complete info: 3\n",
      "october 2022: 2\n",
      "fu under progress.: 2\n",
      "less then 6 months: 2\n",
      "more then 3 months: 2\n",
      "price shared: 2\n",
      "low budget: 2\n",
      "less than 5 months: 2\n",
      "fu under progress: 2\n"
     ]
    }
   ],
   "source": [
    "\n",
    "unique_values = df_train['expected_timeline'].nunique()\n",
    "\n",
    "print(f\"unique 값: {unique_values}\")\n",
    "\n",
    "value_counts = df_train['expected_timeline'].value_counts(dropna=False)\n",
    "\n",
    "# 결과 출력\n",
    "print(\"빈도:\")\n",
    "for value, count in zip(value_counts.index, value_counts.values):\n",
    "    print(f\"{value}: {count}\")"
   ]
  },
  {
   "cell_type": "markdown",
   "id": "1c15672e-6e7d-4d70-ac32-110fc2b4abfd",
   "metadata": {},
   "source": [
    "# business관련 결측치 처리"
   ]
  },
  {
   "cell_type": "code",
   "execution_count": 7,
   "id": "1b3f76f0-d8f0-4d39-9725-1b9b327ff5fa",
   "metadata": {},
   "outputs": [
    {
     "data": {
      "text/plain": [
       "40882"
      ]
     },
     "execution_count": 7,
     "metadata": {},
     "output_type": "execute_result"
    }
   ],
   "source": [
    "df_train['business_area'].isnull().sum()"
   ]
  },
  {
   "cell_type": "code",
   "execution_count": 8,
   "id": "07d2c11f-c02f-4a7c-ab03-8ec89c99e0f2",
   "metadata": {},
   "outputs": [
    {
     "data": {
      "text/plain": [
       "53773"
      ]
     },
     "execution_count": 8,
     "metadata": {},
     "output_type": "execute_result"
    }
   ],
   "source": [
    "df_train['business_subarea'].isnull().sum()"
   ]
  },
  {
   "cell_type": "code",
   "execution_count": 9,
   "id": "fb1ae577-5cbe-4b84-af86-bb9452aabb41",
   "metadata": {},
   "outputs": [],
   "source": [
    "# df_train\n",
    "grouped_data_train = df_train.groupby('business_area')['business_subarea'].apply(list)\n",
    "mode_subarea_by_area_train = df_train.groupby('business_area')['business_subarea'].apply(lambda x: x.mode().iloc[0] if not x.mode().empty else None)\n",
    "df_train['business_subarea'] = df_train.apply(lambda row: mode_subarea_by_area_train.get(row['business_area'], row['business_subarea']), axis=1)\n",
    "\n",
    "# df_test\n",
    "grouped_data_test = df_test.groupby('business_area')['business_subarea'].apply(list)\n",
    "mode_subarea_by_area_test = df_test.groupby('business_area')['business_subarea'].apply(lambda x: x.mode().iloc[0] if not x.mode().empty else None)\n",
    "df_test['business_subarea'] = df_test.apply(lambda row: mode_subarea_by_area_test.get(row['business_area'], row['business_subarea']), axis=1)\n",
    "\n"
   ]
  },
  {
   "cell_type": "code",
   "execution_count": 10,
   "id": "cddd99ad-6ff8-4a81-b2be-17321295a4a7",
   "metadata": {},
   "outputs": [
    {
     "data": {
      "text/plain": [
       "40882"
      ]
     },
     "execution_count": 10,
     "metadata": {},
     "output_type": "execute_result"
    }
   ],
   "source": [
    "df_train['business_subarea'].isnull().sum()"
   ]
  },
  {
   "cell_type": "code",
   "execution_count": null,
   "id": "a2a51be8-1a78-4b36-a1ed-62f947b179bc",
   "metadata": {},
   "outputs": [],
   "source": []
  },
  {
   "cell_type": "code",
   "execution_count": null,
   "id": "dd756a11-d730-4bbd-b462-b6e56adf4ca7",
   "metadata": {},
   "outputs": [],
   "source": []
  },
  {
   "cell_type": "code",
   "execution_count": null,
   "id": "8f229dd0-9030-4359-96f2-49993e720613",
   "metadata": {},
   "outputs": [],
   "source": []
  },
  {
   "cell_type": "code",
   "execution_count": null,
   "id": "cbfbd867-2b46-4560-8623-a78885867b97",
   "metadata": {},
   "outputs": [],
   "source": []
  },
  {
   "cell_type": "markdown",
   "id": "af526c13",
   "metadata": {},
   "source": [
    "## 2. 데이터 전처리"
   ]
  },
  {
   "cell_type": "markdown",
   "id": "4bd47e00",
   "metadata": {},
   "source": [
    "### 레이블 인코딩"
   ]
  },
  {
   "cell_type": "code",
   "execution_count": null,
   "id": "0b42b1a1",
   "metadata": {},
   "outputs": [],
   "source": [
    "def label_encoding(series: pd.Series) -> pd.Series:\n",
    "    \"\"\"범주형 데이터를 시리즈 형태로 받아 숫자형 데이터로 변환합니다.\"\"\"\n",
    "\n",
    "    my_dict = {}\n",
    "\n",
    "    # 모든 요소를 문자열로 변환\n",
    "    series = series.astype(str)\n",
    "\n",
    "    for idx, value in enumerate(sorted(series.unique())):\n",
    "        my_dict[value] = idx\n",
    "    series = series.map(my_dict)\n",
    "\n",
    "    return series"
   ]
  },
  {
   "cell_type": "code",
   "execution_count": null,
   "id": "881a4612",
   "metadata": {},
   "outputs": [],
   "source": [
    "# 레이블 인코딩할 칼럼들\n",
    "label_columns = [\n",
    "    \"customer_country\",\n",
    "    \"business_subarea\",\n",
    "    \"business_area\",\n",
    "    \"business_unit\",\n",
    "    \"customer_type\",\n",
    "    \"enterprise\",\n",
    "    \"customer_job\",\n",
    "    \"inquiry_type\",\n",
    "    \"product_category\",\n",
    "    \"product_subcategory\",\n",
    "    \"product_modelname\",\n",
    "    \"customer_country.1\",\n",
    "    \"customer_position\",\n",
    "    \"response_corporate\",\n",
    "    \"expected_timeline\",\n",
    "]\n",
    "\n",
    "df_all = pd.concat([df_train[label_columns], df_test[label_columns]])\n",
    "\n",
    "for col in label_columns:\n",
    "    df_all[col] = label_encoding(df_all[col])"
   ]
  },
  {
   "cell_type": "code",
   "execution_count": null,
   "id": "1c64b7ee-7402-4086-b54d-68e5071875d9",
   "metadata": {},
   "outputs": [],
   "source": [
    "df_all"
   ]
  },
  {
   "cell_type": "markdown",
   "id": "3a477f93",
   "metadata": {},
   "source": [
    "다시 학습 데이터와 제출 데이터를 분리합니다."
   ]
  },
  {
   "cell_type": "code",
   "execution_count": null,
   "id": "ff10c5fb",
   "metadata": {},
   "outputs": [],
   "source": [
    "for col in label_columns:  \n",
    "    df_train[col] = df_all.iloc[: len(df_train)][col]\n",
    "    df_test[col] = df_all.iloc[len(df_train) :][col]"
   ]
  },
  {
   "cell_type": "code",
   "execution_count": null,
   "id": "90c76450-0295-45a3-b988-ccdc343d091f",
   "metadata": {},
   "outputs": [],
   "source": [
    "df_train"
   ]
  },
  {
   "cell_type": "code",
   "execution_count": null,
   "id": "64049c2b-5c85-4c5d-9336-376393abf128",
   "metadata": {},
   "outputs": [],
   "source": [
    "df_test"
   ]
  },
  {
   "cell_type": "markdown",
   "id": "d332358a",
   "metadata": {},
   "source": [
    "### 2-2. 학습, 검증 데이터 분리"
   ]
  },
  {
   "cell_type": "code",
   "execution_count": null,
   "id": "27c9e205",
   "metadata": {},
   "outputs": [],
   "source": [
    "x_train, x_val, y_train, y_val = train_test_split(\n",
    "    df_train.drop(\"is_converted\", axis=1),\n",
    "    df_train[\"is_converted\"],\n",
    "    test_size=0.2,\n",
    "    shuffle=True,\n",
    "    random_state=684050,\n",
    ")\n",
    "\n",
    "\n",
    "\n"
   ]
  },
  {
   "cell_type": "markdown",
   "id": "79ecfa9b",
   "metadata": {},
   "source": [
    "## 3. 모델 학습"
   ]
  },
  {
   "cell_type": "markdown",
   "id": "3caf257b",
   "metadata": {},
   "source": [
    "### 모델 정의 "
   ]
  },
  {
   "cell_type": "code",
   "execution_count": null,
   "id": "e4509af0",
   "metadata": {},
   "outputs": [],
   "source": [
    "model = DecisionTreeClassifier()"
   ]
  },
  {
   "cell_type": "markdown",
   "id": "cacd5ed8",
   "metadata": {},
   "source": [
    "### 모델 학습"
   ]
  },
  {
   "cell_type": "code",
   "execution_count": null,
   "id": "766d1980",
   "metadata": {},
   "outputs": [],
   "source": [
    "model.fit(x_train.fillna(0), y_train)"
   ]
  },
  {
   "cell_type": "markdown",
   "id": "6bf2de5f",
   "metadata": {},
   "source": [
    "### 모델 성능 보기"
   ]
  },
  {
   "cell_type": "code",
   "execution_count": null,
   "id": "c8871444",
   "metadata": {},
   "outputs": [],
   "source": [
    "def get_clf_eval(y_test, y_pred=None):\n",
    "    confusion = confusion_matrix(y_test, y_pred, labels=[True, False])\n",
    "    accuracy = accuracy_score(y_test, y_pred)\n",
    "    precision = precision_score(y_test, y_pred, labels=[True, False])\n",
    "    recall = recall_score(y_test, y_pred)\n",
    "    F1 = f1_score(y_test, y_pred, labels=[True, False])\n",
    "\n",
    "    print(\"오차행렬:\\n\", confusion)\n",
    "    print(\"\\n정확도: {:.4f}\".format(accuracy))\n",
    "    print(\"정밀도: {:.4f}\".format(precision))\n",
    "    print(\"재현율: {:.4f}\".format(recall))\n",
    "    print(\"F1: {:.4f}\".format(F1))"
   ]
  },
  {
   "cell_type": "code",
   "execution_count": null,
   "id": "56a86373",
   "metadata": {},
   "outputs": [],
   "source": [
    "pred = model.predict(x_val.fillna(0))\n",
    "get_clf_eval(y_val, pred)"
   ]
  },
  {
   "cell_type": "markdown",
   "id": "7adf8300",
   "metadata": {},
   "source": [
    "## 4. 제출하기"
   ]
  },
  {
   "cell_type": "markdown",
   "id": "9d0b6e17",
   "metadata": {},
   "source": [
    "### 테스트 데이터 예측"
   ]
  },
  {
   "cell_type": "code",
   "execution_count": null,
   "id": "43daa73c",
   "metadata": {},
   "outputs": [],
   "source": [
    "# 예측에 필요한 데이터 분리\n",
    "x_test = df_test.drop([\"is_converted\", \"id\"], axis=1)"
   ]
  },
  {
   "cell_type": "code",
   "execution_count": null,
   "id": "d13f7a6e",
   "metadata": {},
   "outputs": [],
   "source": [
    "test_pred = model.predict(x_test.fillna(0))\n",
    "sum(test_pred) # True로 예측된 개수"
   ]
  },
  {
   "cell_type": "markdown",
   "id": "47f18e6a",
   "metadata": {},
   "source": [
    "### 제출 파일 작성"
   ]
  },
  {
   "cell_type": "code",
   "execution_count": null,
   "id": "3128a458",
   "metadata": {},
   "outputs": [],
   "source": [
    "# 제출 데이터 읽어오기 (df_test는 전처리된 데이터가 저장됨)\n",
    "df_sub = pd.read_csv(\"submission.csv\")\n",
    "df_sub[\"is_converted\"] = test_pred\n",
    "\n",
    "# 제출 파일 저장\n",
    "df_sub.to_csv(\"submission.csv\", index=False)"
   ]
  },
  {
   "cell_type": "markdown",
   "id": "ec7867ce",
   "metadata": {},
   "source": [
    "**우측 상단의 제출 버튼을 클릭해 결과를 확인하세요**"
   ]
  },
  {
   "cell_type": "code",
   "execution_count": null,
   "id": "860bfd89",
   "metadata": {},
   "outputs": [],
   "source": []
  },
  {
   "cell_type": "code",
   "execution_count": null,
   "id": "ee546db8",
   "metadata": {},
   "outputs": [],
   "source": []
  },
  {
   "cell_type": "code",
   "execution_count": null,
   "id": "fdc32ed7",
   "metadata": {},
   "outputs": [],
   "source": []
  }
 ],
 "metadata": {
  "kernelspec": {
   "display_name": "LG",
   "language": "python",
   "name": "lg"
  },
  "language_info": {
   "codemirror_mode": {
    "name": "ipython",
    "version": 3
   },
   "file_extension": ".py",
   "mimetype": "text/x-python",
   "name": "python",
   "nbconvert_exporter": "python",
   "pygments_lexer": "ipython3",
   "version": "3.10.13"
  }
 },
 "nbformat": 4,
 "nbformat_minor": 5
}
